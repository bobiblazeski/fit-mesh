{
 "cells": [
  {
   "cell_type": "code",
   "execution_count": 1,
   "metadata": {},
   "outputs": [],
   "source": [
    "import numpy as np\n",
    "import os\n",
    "import sys\n",
    "import torch\n",
    "import pytorch3d\n",
    "\n",
    "import matplotlib.pyplot as plt\n",
    "\n",
    "import trimesh\n",
    "from pytorch3d.io import load_objs_as_meshes, save_obj\n",
    "import numpy as np\n",
    "from tqdm.notebook import tqdm\n",
    "\n",
    "#from src.cleansed_cube import Cube\n",
    "\n",
    "from pytorch3d.loss import (\n",
    "    chamfer_distance, \n",
    "    mesh_edge_loss, \n",
    "    mesh_laplacian_smoothing, \n",
    "    mesh_normal_consistency,\n",
    ")\n",
    "from pytorch3d.io import load_objs_as_meshes, save_obj\n",
    "\n",
    "from pytorch3d.loss import (\n",
    "    chamfer_distance, \n",
    "    mesh_edge_loss, \n",
    "    mesh_laplacian_smoothing, \n",
    "    mesh_normal_consistency,\n",
    ")\n",
    "\n",
    "# Data structures and functions for rendering\n",
    "from pytorch3d.structures import Meshes\n",
    "from pytorch3d.renderer import (\n",
    "    look_at_view_transform,\n",
    "    OpenGLPerspectiveCameras, \n",
    "    PointLights, \n",
    "    DirectionalLights, \n",
    "    Materials, \n",
    "    RasterizationSettings, \n",
    "    MeshRenderer,\n",
    "    MeshRasterizer,\n",
    "    SoftPhongShader,\n",
    "    SoftSilhouetteShader,\n",
    "    SoftPhongShader,\n",
    "    TexturesVertex,\n",
    ")\n",
    "\n",
    "from pytorch3d.ops import sample_points_from_meshes\n",
    "from pytorch3d.loss import (\n",
    "    chamfer_distance, \n",
    "    mesh_edge_loss, \n",
    "    mesh_laplacian_smoothing, \n",
    "    mesh_normal_consistency,\n",
    ")\n",
    "\n",
    "from src.plot_image_grid import image_grid"
   ]
  },
  {
   "cell_type": "code",
   "execution_count": 2,
   "metadata": {},
   "outputs": [
    {
     "name": "stdout",
     "output_type": "stream",
     "text": [
      "3\n"
     ]
    },
    {
     "data": {
      "text/plain": [
       "(Mesh(vertices=tensor([[[ 0.5625, -0.5000, -0.5000,  1.0000],\n",
       "          [ 0.5625, -0.5000, -0.4333,  1.0000],\n",
       "          [ 0.5625, -0.5000, -0.3667,  1.0000],\n",
       "          ...,\n",
       "          [ 0.5000,  0.3667, -0.5625,  1.0000],\n",
       "          [ 0.5000,  0.4333, -0.5625,  1.0000],\n",
       "          [ 0.5000,  0.5000, -0.5625,  1.0000]]], grad_fn=<UnsqueezeBackward0>), faces=tensor([[  16,    0,   17],\n",
       "         [   1,   17,    0],\n",
       "         [  17,    1,   18],\n",
       "         ...,\n",
       "         [1292, 1293,  720],\n",
       "         [1293, 1294,  736],\n",
       "         [1294, 1295,  752]], dtype=torch.int32), colors=tensor([[0.5000, 0.5000, 0.5000],\n",
       "         [0.5000, 0.5000, 0.5000],\n",
       "         [0.5000, 0.5000, 0.5000],\n",
       "         ...,\n",
       "         [0.5000, 0.5000, 0.5000],\n",
       "         [0.5000, 0.5000, 0.5000],\n",
       "         [0.5000, 0.5000, 0.5000]])),\n",
       " 0)"
      ]
     },
     "execution_count": 2,
     "metadata": {},
     "output_type": "execute_result"
    }
   ],
   "source": [
    "import math\n",
    "import torch\n",
    "import torch.nn  as nn\n",
    "import torch.nn.functional as F\n",
    "\n",
    "\n",
    "from src.operators import get_gaussian\n",
    "\n",
    "from src.cleansed_cube import SourceCube, sides_dict\n",
    "from src.discrete_laplacian import DiscreteLaplacian\n",
    "from src.discrete_gaussian import DiscreteGaussian\n",
    "from src.padding import pad_side\n",
    "\n",
    "\n",
    "class ProgressiveCube(nn.Module):\n",
    "    def __init__(self, ns, kernel=3, sigma=1, clip=None, start=-0.5, end=0.5):\n",
    "        super(ProgressiveCube, self).__init__()        \n",
    "        self.ns = ns\n",
    "        self.n = ns[-1]\n",
    "        self.kernel= kernel\n",
    "        self.side_names = list(sides_dict(1).keys())\n",
    "        self.params = nn.ModuleList([sides_dict(n) for n in ns])\n",
    "        \n",
    "        self.source = SourceCube(self.n, start, end)\n",
    "        #self.gaussian = get_gaussian(kernel)\n",
    "        self.gaussian = DiscreteGaussian(kernel, sigma=sigma,  padding=False)\n",
    "        self.laplacian = DiscreteLaplacian()\n",
    "        clip = clip or 1. / self.n\n",
    "        for d in self.params:\n",
    "            for p in d.values():                \n",
    "                p.register_hook(lambda grad:\n",
    "                    torch.clamp(torch.nan_to_num(grad), -clip, clip))\n",
    "\n",
    "    def make_vert(self):\n",
    "        return torch.cat([p[0].reshape(3, -1).t()\n",
    "                          for p in self.params.values()])\n",
    "\n",
    "    def scale(self, t):\n",
    "        return  F.interpolate(t, self.n, mode='bilinear', align_corners=True)\n",
    "\n",
    "    def forward(self):\n",
    "        summed = {}\n",
    "        for d in self.params:            \n",
    "            for key in self.side_names:\n",
    "                if key in summed:\n",
    "                    summed[key] = summed[key] + self.scale(d[key])\n",
    "                else:\n",
    "                    summed[key] = self.scale(d[key])        \n",
    "        ps = torch.cat([p for p in summed.values()])        \n",
    "        deform_verts = ps.permute(0, 2, 3, 1).reshape(-1, 3)         \n",
    "        new_src_mesh = self.source(deform_verts)        \n",
    "        return new_src_mesh, 0#self.laplacian(ps)    \n",
    "    \n",
    "    def smooth(self):\n",
    "        for i in range(len(self.params)):\n",
    "            params, sides = self.params[i], {}\n",
    "            for side_name in params:\n",
    "                grad = params[side_name].grad[0]        \n",
    "                sides[side_name] = grad.permute(1, 2, 0)\n",
    "\n",
    "            for side_name in params:\n",
    "                padded = pad_side(sides, side_name, self.kernel)\n",
    "                padded = padded.permute(2, 0, 1)[None]\n",
    "                padded = self.gaussian(padded)\n",
    "                self.params[i][side_name].grad.copy_(padded)\n",
    "\n",
    "    def export(self, f):        \n",
    "        mesh, _ = self.forward()\n",
    "        vertices = mesh.vertices[0].cpu().detach()\n",
    "        faces = mesh.faces.cpu().detach()        \n",
    "        mesh = trimesh.Trimesh(vertices=vertices, faces=faces)\n",
    "        mesh.export(f)\n",
    "\n",
    "cube =  ProgressiveCube([2, 8, 16])\n",
    "cube.forward()"
   ]
  },
  {
   "cell_type": "code",
   "execution_count": 3,
   "metadata": {},
   "outputs": [],
   "source": [
    "if torch.cuda.is_available():\n",
    "    device = torch.device(\"cuda:0\")\n",
    "    torch.cuda.set_device(device)\n",
    "else:\n",
    "    device = torch.device(\"cpu\")\n",
    "\n",
    "\n",
    "obj_filename = \"./data/bunny.obj\"\n",
    "obj_filename = \"./data/nefertiti.obj\"\n",
    "bunny = load_objs_as_meshes([obj_filename], device=device)\n",
    "\n",
    "textures=TexturesVertex(verts_features=[torch.ones_like(bunny.verts_packed())])\n",
    "\n",
    "bunny = Meshes(verts=[bunny.verts_packed()], \n",
    "           faces=[bunny.faces_packed()],\n",
    "           textures=textures)\n",
    "\n",
    "verts = bunny.verts_packed()\n",
    "N = verts.shape[0]\n",
    "center = verts.mean(0)\n",
    "scale = max((verts - center).abs().max(0)[0])\n",
    "bunny.offset_verts_(-center)\n",
    "bunny.scale_verts_((1.0 / float(scale)));"
   ]
  },
  {
   "cell_type": "code",
   "execution_count": 6,
   "metadata": {
    "scrolled": true
   },
   "outputs": [
    {
     "name": "stdout",
     "output_type": "stream",
     "text": [
      "7\n"
     ]
    },
    {
     "data": {
      "text/plain": [
       "SGD (\n",
       "Parameter Group 0\n",
       "    dampening: 0\n",
       "    lr: 1.0\n",
       "    momentum: 0.0\n",
       "    nesterov: False\n",
       "    weight_decay: 0\n",
       ")"
      ]
     },
     "execution_count": 6,
     "metadata": {},
     "output_type": "execute_result"
    }
   ],
   "source": [
    "n, kernel, sigma = 128, 7, 2\n",
    "\n",
    "cube = ProgressiveCube([4, 16, 32], kernel=kernel, sigma=sigma, clip=1.).to(device)\n",
    "\n",
    "optimizer = torch.optim.SGD(cube.parameters(), lr=1., momentum=0.)\n",
    "#optimizer = torch.optim.Adam(cube.parameters(), lr=0.001)\n",
    "optimizer"
   ]
  },
  {
   "cell_type": "code",
   "execution_count": 7,
   "metadata": {},
   "outputs": [],
   "source": [
    "cube.export('./cube32.obj')"
   ]
  },
  {
   "cell_type": "code",
   "execution_count": 6,
   "metadata": {
    "scrolled": true
   },
   "outputs": [
    {
     "data": {
      "application/vnd.jupyter.widget-view+json": {
       "model_id": "242e0f8a8ae54c8490f1b38cfe1f8ab2",
       "version_major": 2,
       "version_minor": 0
      },
      "text/plain": [
       "HBox(children=(FloatProgress(value=0.0, max=20001.0), HTML(value='')))"
      ]
     },
     "metadata": {},
     "output_type": "display_data"
    },
    {
     "name": "stderr",
     "output_type": "stream",
     "text": [
      "/home/bobi/miniconda3/envs/pytorch3d_06/lib/python3.8/site-packages/torch/_tensor.py:575: UserWarning: floor_divide is deprecated, and will be removed in a future version of pytorch. It currently rounds toward 0 (like the 'trunc' function NOT 'floor'). This results in incorrect rounding for negative values.\n",
      "To keep the current behavior, use torch.div(a, b, rounding_mode='trunc'), or for actual floor division, use torch.div(a, b, rounding_mode='floor'). (Triggered internally at  /opt/conda/conda-bld/pytorch_1631630815121/work/aten/src/ATen/native/BinaryOps.cpp:467.)\n",
      "  return torch.floor_divide(self, other)\n"
     ]
    },
    {
     "name": "stdout",
     "output_type": "stream",
     "text": [
      "./data/cube_mesh_128_0.obj\n",
      "./data/cube_mesh_128_500.obj\n",
      "./data/cube_mesh_128_1000.obj\n",
      "./data/cube_mesh_128_1500.obj\n",
      "./data/cube_mesh_128_2000.obj\n",
      "./data/cube_mesh_128_2500.obj\n",
      "./data/cube_mesh_128_3000.obj\n",
      "./data/cube_mesh_128_3500.obj\n",
      "./data/cube_mesh_128_4000.obj\n",
      "./data/cube_mesh_128_4500.obj\n",
      "./data/cube_mesh_128_5000.obj\n",
      "./data/cube_mesh_128_5500.obj\n",
      "./data/cube_mesh_128_6000.obj\n",
      "./data/cube_mesh_128_6500.obj\n",
      "./data/cube_mesh_128_7000.obj\n",
      "./data/cube_mesh_128_7500.obj\n",
      "./data/cube_mesh_128_8000.obj\n",
      "./data/cube_mesh_128_8500.obj\n",
      "./data/cube_mesh_128_9000.obj\n",
      "./data/cube_mesh_128_9500.obj\n",
      "./data/cube_mesh_128_10000.obj\n",
      "./data/cube_mesh_128_10500.obj\n",
      "./data/cube_mesh_128_11000.obj\n",
      "./data/cube_mesh_128_11500.obj\n",
      "./data/cube_mesh_128_12000.obj\n",
      "./data/cube_mesh_128_12500.obj\n",
      "./data/cube_mesh_128_13000.obj\n",
      "./data/cube_mesh_128_13500.obj\n",
      "./data/cube_mesh_128_14000.obj\n",
      "./data/cube_mesh_128_14500.obj\n",
      "./data/cube_mesh_128_15000.obj\n",
      "./data/cube_mesh_128_15500.obj\n",
      "./data/cube_mesh_128_16000.obj\n",
      "./data/cube_mesh_128_16500.obj\n",
      "./data/cube_mesh_128_17000.obj\n",
      "./data/cube_mesh_128_17500.obj\n",
      "./data/cube_mesh_128_18000.obj\n",
      "./data/cube_mesh_128_18500.obj\n",
      "./data/cube_mesh_128_19000.obj\n",
      "./data/cube_mesh_128_19500.obj\n",
      "./data/cube_mesh_128_20000.obj\n",
      "\n"
     ]
    },
    {
     "data": {
      "text/plain": [
       "'./data/cube_mesh_128_7.obj'"
      ]
     },
     "execution_count": 6,
     "metadata": {},
     "output_type": "execute_result"
    }
   ],
   "source": [
    "Niter = 20001\n",
    "num_views_per_iteration = 2\n",
    "\n",
    "loop = tqdm(range(Niter))\n",
    "\n",
    "laplace_weight =  1.\n",
    "\n",
    "w_chamfer = 1.0\n",
    "w_laplacian = 0.1 \n",
    "w_normal = 0.01 \n",
    "w_edge = 1.0 \n",
    "\n",
    "for i in loop:\n",
    "    stop = False\n",
    "    \n",
    "    optimizer.zero_grad()\n",
    "    \n",
    "    new_src_mesh, laplace_loss = cube.forward()        \n",
    "    verts=new_src_mesh.vertices[:, :, :3]\n",
    "    textures = TexturesVertex(verts_features=torch.ones_like(verts))\n",
    "    p3d_mesh = Meshes(verts=verts,\n",
    "                  faces=new_src_mesh.faces[None],\n",
    "                  textures=textures)\n",
    "    \n",
    "    sample_src = sample_points_from_meshes(p3d_mesh, 5000)\n",
    "    sample_trg = sample_points_from_meshes(bunny, 5000)\n",
    "    \n",
    "    loss_chamfer, _ = chamfer_distance(sample_trg, sample_src)\n",
    "    loss_laplacian = mesh_laplacian_smoothing(p3d_mesh, method=\"uniform\")\n",
    "    loss_normal = mesh_normal_consistency(p3d_mesh)\n",
    "    loss_edge = mesh_edge_loss(p3d_mesh)\n",
    "    \n",
    "    \n",
    "    \n",
    "    \n",
    "    #laplacian_smoothing = mesh_laplacian_smoothing(new_src_mesh, method=\"uniform\")\n",
    "    sum_loss = torch.tensor(0.0, device=device) \n",
    "    \n",
    "    sum_loss += loss_chamfer * w_chamfer\n",
    "    #sum_loss += laplace_loss * w_laplacian\n",
    "    sum_loss += loss_laplacian * w_laplacian\n",
    "    sum_loss += loss_normal * w_normal\n",
    "    sum_loss += loss_edge * w_edge\n",
    "    \n",
    "    loop.set_description(\"total_loss = %.6f\" % sum_loss)\n",
    "    \n",
    "    sum_loss.backward()\n",
    "    #cube.smooth()\n",
    "    optimizer.step()\n",
    "    \n",
    "    if i % 500 == 0:\n",
    "        f = f'./data/cube_mesh_{n}_{i}.obj'\n",
    "        cube.export(f)\n",
    "        print(f)\n",
    "#kernel = 0\n",
    "f = f'./data/cube_mesh_{n}_{kernel}.obj'\n",
    "cube.export(f)\n",
    "f"
   ]
  },
  {
   "cell_type": "code",
   "execution_count": 2,
   "metadata": {},
   "outputs": [
    {
     "name": "stdout",
     "output_type": "stream",
     "text": [
      "1 2\n",
      "2 4\n",
      "3 8\n",
      "4 16\n",
      "5 32\n",
      "6 64\n",
      "7 128\n",
      "8 256\n",
      "9 512\n"
     ]
    }
   ],
   "source": [
    "for i in range(1, 10):\n",
    "    print(i, 2**i)"
   ]
  },
  {
   "cell_type": "code",
   "execution_count": null,
   "metadata": {},
   "outputs": [],
   "source": []
  }
 ],
 "metadata": {
  "kernelspec": {
   "display_name": "Python [conda env:pytorch3d_06]",
   "language": "python",
   "name": "conda-env-pytorch3d_06-py"
  },
  "language_info": {
   "codemirror_mode": {
    "name": "ipython",
    "version": 3
   },
   "file_extension": ".py",
   "mimetype": "text/x-python",
   "name": "python",
   "nbconvert_exporter": "python",
   "pygments_lexer": "ipython3",
   "version": "3.8.11"
  }
 },
 "nbformat": 4,
 "nbformat_minor": 4
}
