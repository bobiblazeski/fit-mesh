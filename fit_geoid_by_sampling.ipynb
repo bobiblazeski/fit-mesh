{
 "cells": [
  {
   "cell_type": "code",
   "execution_count": 1,
   "metadata": {},
   "outputs": [],
   "source": [
    "import numpy as np\n",
    "import os\n",
    "import sys\n",
    "import torch\n",
    "import pytorch3d\n",
    "\n",
    "import matplotlib.pyplot as plt\n",
    "\n",
    "import trimesh\n",
    "from pytorch3d.io import load_objs_as_meshes, save_obj\n",
    "import numpy as np\n",
    "from tqdm.notebook import tqdm\n",
    "\n",
    "\n",
    "\n",
    "from pytorch3d.loss import (\n",
    "    chamfer_distance, \n",
    "    mesh_edge_loss, \n",
    "    mesh_laplacian_smoothing, \n",
    "    mesh_normal_consistency,\n",
    ")\n",
    "from pytorch3d.io import load_objs_as_meshes, save_obj\n",
    "\n",
    "from pytorch3d.loss import (\n",
    "    chamfer_distance, \n",
    "    mesh_edge_loss, \n",
    "    mesh_laplacian_smoothing, \n",
    "    mesh_normal_consistency,\n",
    ")\n",
    "\n",
    "# Data structures and functions for rendering\n",
    "from pytorch3d.structures import Meshes\n",
    "from pytorch3d.renderer import (\n",
    "    look_at_view_transform,\n",
    "    OpenGLPerspectiveCameras, \n",
    "    PointLights, \n",
    "    DirectionalLights, \n",
    "    Materials, \n",
    "    RasterizationSettings, \n",
    "    MeshRenderer,\n",
    "    MeshRasterizer,\n",
    "    SoftPhongShader,\n",
    "    SoftSilhouetteShader,\n",
    "    SoftPhongShader,\n",
    "    TexturesVertex,\n",
    ")\n",
    "\n",
    "from pytorch3d.ops import sample_points_from_meshes\n",
    "from pytorch3d.loss import (\n",
    "    chamfer_distance, \n",
    "    mesh_edge_loss, \n",
    "    mesh_laplacian_smoothing, \n",
    "    mesh_normal_consistency,\n",
    ")\n",
    "\n",
    "from src.plot_image_grid import image_grid\n",
    "from src.cleansed_cube import Geoid"
   ]
  },
  {
   "cell_type": "code",
   "execution_count": 2,
   "metadata": {},
   "outputs": [],
   "source": [
    "import torch\n",
    "import torch.nn as nn\n",
    "\n",
    "\n"
   ]
  },
  {
   "cell_type": "code",
   "execution_count": 3,
   "metadata": {},
   "outputs": [],
   "source": [
    "if torch.cuda.is_available():\n",
    "    device = torch.device(\"cuda:0\")\n",
    "    torch.cuda.set_device(device)\n",
    "else:\n",
    "    device = torch.device(\"cpu\")\n",
    "\n",
    "\n",
    "#obj_filename = \"./data/bunny.obj\"\n",
    "#obj_filename = \"./data/nefertiti.obj\"\n",
    "obj_filename = \"./data/centered_3.obj\"\n",
    "bunny = load_objs_as_meshes([obj_filename], device=device)\n",
    "\n",
    "textures=TexturesVertex(verts_features=[torch.ones_like(bunny.verts_packed())])\n",
    "\n",
    "bunny = Meshes(verts=[bunny.verts_packed()], \n",
    "           faces=[bunny.faces_packed()],\n",
    "           textures=textures)\n",
    "\n",
    "verts = bunny.verts_packed()\n",
    "N = verts.shape[0]\n",
    "center = verts.mean(0)\n",
    "scale = max((verts - center).abs().max(0)[0])\n",
    "bunny.offset_verts_(-center)\n",
    "bunny.scale_verts_((1.0 / float(scale)));"
   ]
  },
  {
   "cell_type": "code",
   "execution_count": 15,
   "metadata": {
    "scrolled": true
   },
   "outputs": [
    {
     "data": {
      "text/plain": [
       "Adam (\n",
       "Parameter Group 0\n",
       "    amsgrad: False\n",
       "    betas: (0.9, 0.999)\n",
       "    eps: 1e-08\n",
       "    lr: 0.001\n",
       "    weight_decay: 0\n",
       ")"
      ]
     },
     "execution_count": 15,
     "metadata": {},
     "output_type": "execute_result"
    }
   ],
   "source": [
    "n = 32\n",
    "\n",
    "geoid = Geoid(n).to(device)\n",
    "#rs = torch.randn(3, requires_grad=True, device=device)\n",
    "\n",
    "#optimizer = torch.optim.SGD([rs], lr=1., momentum=0.)\n",
    "optimizer = torch.optim.Adam(geoid.parameters(), lr=0.001)\n",
    "optimizer"
   ]
  },
  {
   "cell_type": "code",
   "execution_count": 16,
   "metadata": {
    "scrolled": true
   },
   "outputs": [
    {
     "data": {
      "application/vnd.jupyter.widget-view+json": {
       "model_id": "8b2a24047528441b92691e7958461b88",
       "version_major": 2,
       "version_minor": 0
      },
      "text/plain": [
       "  0%|          | 0/10001 [00:00<?, ?it/s]"
      ]
     },
     "metadata": {},
     "output_type": "display_data"
    },
    {
     "name": "stdout",
     "output_type": "stream",
     "text": [
      "./data/geoid_mesh_32_0.obj\n",
      "./data/geoid_mesh_32_500.obj\n",
      "./data/geoid_mesh_32_1000.obj\n",
      "./data/geoid_mesh_32_1500.obj\n",
      "./data/geoid_mesh_32_2000.obj\n",
      "./data/geoid_mesh_32_2500.obj\n",
      "./data/geoid_mesh_32_3000.obj\n",
      "./data/geoid_mesh_32_3500.obj\n",
      "./data/geoid_mesh_32_4000.obj\n",
      "./data/geoid_mesh_32_4500.obj\n",
      "./data/geoid_mesh_32_5000.obj\n",
      "./data/geoid_mesh_32_5500.obj\n",
      "./data/geoid_mesh_32_6000.obj\n",
      "./data/geoid_mesh_32_6500.obj\n",
      "./data/geoid_mesh_32_7000.obj\n",
      "./data/geoid_mesh_32_7500.obj\n",
      "./data/geoid_mesh_32_8000.obj\n",
      "./data/geoid_mesh_32_8500.obj\n",
      "./data/geoid_mesh_32_9000.obj\n",
      "./data/geoid_mesh_32_9500.obj\n",
      "./data/geoid_mesh_32_10000.obj\n"
     ]
    },
    {
     "data": {
      "text/plain": [
       "'./data/geoid_mesh_32.obj'"
      ]
     },
     "execution_count": 16,
     "metadata": {},
     "output_type": "execute_result"
    }
   ],
   "source": [
    "Niter = 10001\n",
    "num_views_per_iteration = 2\n",
    "\n",
    "loop = tqdm(range(Niter))\n",
    "\n",
    "laplace_weight =  1.\n",
    "\n",
    "w_chamfer = 1.0\n",
    "w_laplacian = 0.1 \n",
    "w_normal = 0.01 \n",
    "w_edge = 1.0 \n",
    "\n",
    "for i in loop:\n",
    "    stop = False\n",
    "    \n",
    "    optimizer.zero_grad()\n",
    "        \n",
    "    verts, faces, colors = geoid()\n",
    "\n",
    "    textures = TexturesVertex(verts_features=[torch.ones_like(verts)])\n",
    "    p3d_mesh = Meshes(verts=[verts],\n",
    "                  faces=[faces],\n",
    "                  textures=textures)\n",
    "    \n",
    "    sample_src = sample_points_from_meshes(p3d_mesh, 10000)\n",
    "    sample_trg = sample_points_from_meshes(bunny, 10000)\n",
    "    \n",
    "    loss_chamfer, _ = chamfer_distance(sample_trg, sample_src)\n",
    "    loss_laplacian = mesh_laplacian_smoothing(p3d_mesh, method=\"uniform\")\n",
    "    loss_normal = mesh_normal_consistency(p3d_mesh)\n",
    "    loss_edge = mesh_edge_loss(p3d_mesh)\n",
    "    \n",
    "    \n",
    "    \n",
    "    \n",
    "    #laplacian_smoothing = mesh_laplacian_smoothing(new_src_mesh, method=\"uniform\")\n",
    "    sum_loss = torch.tensor(0.0, device=device) \n",
    "    \n",
    "    sum_loss += loss_chamfer * w_chamfer\n",
    "    #sum_loss += laplace_loss * w_laplacian\n",
    "    sum_loss += loss_laplacian * w_laplacian\n",
    "    sum_loss += loss_normal * w_normal\n",
    "    sum_loss += loss_edge * w_edge\n",
    "    \n",
    "    loop.set_description(\"total_loss = %.6f\" % sum_loss)\n",
    "    \n",
    "    sum_loss.backward()\n",
    "    #cube.smooth()\n",
    "    optimizer.step()\n",
    "    \n",
    "    if i % 500 == 0:\n",
    "        f = f'./data/geoid_mesh_{n}_{i}.obj'\n",
    "        geoid.export(f)\n",
    "        print(f)\n",
    "#kernel = 0\n",
    "f = f'./data/geoid_mesh_{n}.obj'\n",
    "geoid.export(f)\n",
    "f"
   ]
  },
  {
   "cell_type": "code",
   "execution_count": null,
   "metadata": {},
   "outputs": [],
   "source": []
  }
 ],
 "metadata": {
  "kernelspec": {
   "display_name": "Python [conda env:pytorch3d_06]",
   "language": "python",
   "name": "conda-env-pytorch3d_06-py"
  },
  "language_info": {
   "codemirror_mode": {
    "name": "ipython",
    "version": 3
   },
   "file_extension": ".py",
   "mimetype": "text/x-python",
   "name": "python",
   "nbconvert_exporter": "python",
   "pygments_lexer": "ipython3",
   "version": "3.8.11"
  }
 },
 "nbformat": 4,
 "nbformat_minor": 4
}
