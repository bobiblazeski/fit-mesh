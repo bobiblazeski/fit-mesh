{
 "cells": [
  {
   "cell_type": "code",
   "execution_count": 1,
   "metadata": {},
   "outputs": [],
   "source": [
    "import torch"
   ]
  },
  {
   "cell_type": "code",
   "execution_count": 12,
   "metadata": {},
   "outputs": [
    {
     "data": {
      "text/plain": [
       "torch.Size([4, 4, 3])"
      ]
     },
     "execution_count": 12,
     "metadata": {},
     "output_type": "execute_result"
    }
   ],
   "source": [
    "n = 6\n",
    "inner = torch.zeros((n-2, n-2, 3))\n",
    "inner.shape\n",
    "\n",
    "top = torch.zeros((1, n, 3))\n",
    "top.shape\n",
    "\n",
    "left = torch.zeros((n-2, 1, 3))\n",
    "left.shape\n",
    "\n",
    "torch.cat((left, side, left), dim=1).shape\n",
    "\n",
    "torch.cat((top,\n",
    "          torch.cat((left, side, left), dim=1),\n",
    "          top), dim=0).shape"
   ]
  },
  {
   "cell_type": "code",
   "execution_count": 37,
   "metadata": {},
   "outputs": [
    {
     "name": "stdout",
     "output_type": "stream",
     "text": [
      "<built-in method values of dict object at 0x7fa10ecc11c0>\n"
     ]
    },
    {
     "ename": "TypeError",
     "evalue": "stack(): argument 'tensors' (position 1) must be tuple of Tensors, not dict_values",
     "output_type": "error",
     "traceback": [
      "\u001b[0;31m---------------------------------------------------------------------------\u001b[0m",
      "\u001b[0;31mTypeError\u001b[0m                                 Traceback (most recent call last)",
      "\u001b[0;32m<ipython-input-37-027a0fcb32ba>\u001b[0m in \u001b[0;36m<module>\u001b[0;34m\u001b[0m\n\u001b[1;32m    122\u001b[0m         \u001b[0;32mreturn\u001b[0m \u001b[0mmodule\u001b[0m\u001b[0;34m\u001b[0m\u001b[0;34m\u001b[0m\u001b[0m\n\u001b[1;32m    123\u001b[0m \u001b[0mn\u001b[0m \u001b[0;34m=\u001b[0m \u001b[0;36m11\u001b[0m\u001b[0;34m\u001b[0m\u001b[0;34m\u001b[0m\u001b[0m\n\u001b[0;32m--> 124\u001b[0;31m \u001b[0mcube\u001b[0m \u001b[0;34m=\u001b[0m \u001b[0mCube\u001b[0m\u001b[0;34m(\u001b[0m\u001b[0mn\u001b[0m\u001b[0;34m)\u001b[0m\u001b[0;34m\u001b[0m\u001b[0;34m\u001b[0m\u001b[0m\n\u001b[0m\u001b[1;32m    125\u001b[0m \u001b[0mcube\u001b[0m\u001b[0;34m\u001b[0m\u001b[0;34m\u001b[0m\u001b[0m\n",
      "\u001b[0;32m<ipython-input-37-027a0fcb32ba>\u001b[0m in \u001b[0;36m__init__\u001b[0;34m(self, n, start, end)\u001b[0m\n\u001b[1;32m     17\u001b[0m \u001b[0;34m\u001b[0m\u001b[0m\n\u001b[1;32m     18\u001b[0m         \u001b[0mself\u001b[0m\u001b[0;34m.\u001b[0m\u001b[0mparams\u001b[0m \u001b[0;34m=\u001b[0m \u001b[0mself\u001b[0m\u001b[0;34m.\u001b[0m\u001b[0mmake_params\u001b[0m\u001b[0;34m(\u001b[0m\u001b[0mn\u001b[0m\u001b[0;34m)\u001b[0m\u001b[0;34m\u001b[0m\u001b[0;34m\u001b[0m\u001b[0m\n\u001b[0;32m---> 19\u001b[0;31m         \u001b[0mself\u001b[0m\u001b[0;34m.\u001b[0m\u001b[0msource\u001b[0m \u001b[0;34m=\u001b[0m \u001b[0mself\u001b[0m\u001b[0;34m.\u001b[0m\u001b[0mmake_source\u001b[0m\u001b[0;34m(\u001b[0m\u001b[0mn\u001b[0m\u001b[0;34m,\u001b[0m \u001b[0mstart\u001b[0m\u001b[0;34m,\u001b[0m \u001b[0mend\u001b[0m\u001b[0;34m)\u001b[0m\u001b[0;34m\u001b[0m\u001b[0;34m\u001b[0m\u001b[0m\n\u001b[0m\u001b[1;32m     20\u001b[0m \u001b[0;34m\u001b[0m\u001b[0m\n\u001b[1;32m     21\u001b[0m     \u001b[0;32mdef\u001b[0m \u001b[0mmake_params\u001b[0m\u001b[0;34m(\u001b[0m\u001b[0mself\u001b[0m\u001b[0;34m,\u001b[0m \u001b[0mn\u001b[0m\u001b[0;34m)\u001b[0m\u001b[0;34m:\u001b[0m\u001b[0;34m\u001b[0m\u001b[0;34m\u001b[0m\u001b[0m\n",
      "\u001b[0;32m<ipython-input-37-027a0fcb32ba>\u001b[0m in \u001b[0;36mmake_source\u001b[0;34m(self, n, start, end)\u001b[0m\n\u001b[1;32m    104\u001b[0m         }\n\u001b[1;32m    105\u001b[0m         \u001b[0mprint\u001b[0m\u001b[0;34m(\u001b[0m\u001b[0msides\u001b[0m\u001b[0;34m.\u001b[0m\u001b[0mvalues\u001b[0m\u001b[0;34m)\u001b[0m\u001b[0;34m\u001b[0m\u001b[0;34m\u001b[0m\u001b[0m\n\u001b[0;32m--> 106\u001b[0;31m         \u001b[0mvert\u001b[0m \u001b[0;34m=\u001b[0m \u001b[0mtorch\u001b[0m\u001b[0;34m.\u001b[0m\u001b[0mstack\u001b[0m\u001b[0;34m(\u001b[0m\u001b[0msides\u001b[0m\u001b[0;34m.\u001b[0m\u001b[0mvalues\u001b[0m\u001b[0;34m(\u001b[0m\u001b[0;34m)\u001b[0m\u001b[0;34m)\u001b[0m\u001b[0;34m.\u001b[0m\u001b[0mreshape\u001b[0m\u001b[0;34m(\u001b[0m\u001b[0;34m-\u001b[0m\u001b[0;36m1\u001b[0m\u001b[0;34m,\u001b[0m \u001b[0;36m3\u001b[0m\u001b[0;34m)\u001b[0m\u001b[0;34m\u001b[0m\u001b[0;34m\u001b[0m\u001b[0m\n\u001b[0m\u001b[1;32m    107\u001b[0m         \u001b[0moffset\u001b[0m\u001b[0;34m,\u001b[0m \u001b[0mfaces\u001b[0m \u001b[0;34m=\u001b[0m \u001b[0mn\u001b[0m \u001b[0;34m**\u001b[0m \u001b[0;36m2\u001b[0m\u001b[0;34m,\u001b[0m \u001b[0mmake_faces\u001b[0m\u001b[0;34m(\u001b[0m\u001b[0mn\u001b[0m\u001b[0;34m,\u001b[0m \u001b[0mn\u001b[0m\u001b[0;34m)\u001b[0m\u001b[0;34m\u001b[0m\u001b[0;34m\u001b[0m\u001b[0m\n\u001b[1;32m    108\u001b[0m         faces = torch.cat([\n",
      "\u001b[0;31mTypeError\u001b[0m: stack(): argument 'tensors' (position 1) must be tuple of Tensors, not dict_values"
     ]
    }
   ],
   "source": [
    "# pyright: reportMissingImports=false\n",
    "import torch\n",
    "import torch.nn as nn\n",
    "import torch.nn.functional as F\n",
    "\n",
    "import pytorch3d\n",
    "import pytorch3d.io\n",
    "from pytorch3d.structures import Meshes\n",
    "from pytorch3d.renderer import TexturesVertex\n",
    "\n",
    "from src.util import make_faces\n",
    "\n",
    "class Cube(nn.Module):\n",
    "    def __init__(self, n, start=-0.5, end=0.5):\n",
    "        super(Cube, self).__init__()\n",
    "        self.n = n\n",
    "\n",
    "        self.params = self.make_params(n)\n",
    "        self.source = self.make_source(n, start, end)            \n",
    "\n",
    "    def make_params(self, n):\n",
    "        return nn.ParameterDict({\n",
    "            'front': nn.Parameter(torch.zeros((n - 2, n - 2, 3))),\n",
    "            'back' : nn.Parameter(torch.zeros((n - 2, n - 2, 3))),            \n",
    "            'left' : nn.Parameter(torch.zeros((n - 2, n - 2, 3))),\n",
    "            'right': nn.Parameter(torch.zeros((n - 2, n - 2, 3))),            \n",
    "            'top'  : nn.Parameter(torch.zeros((n - 2, n - 2, 3))),\n",
    "            'down' : nn.Parameter(torch.zeros((n - 2, n - 2, 3))),\n",
    "            # Edges\n",
    "            'lf' : nn.Parameter(torch.zeros((n - 2, 1, 3))),\n",
    "            'fr' : nn.Parameter(torch.zeros((n - 2, 1, 3))),\n",
    "            'rb' : nn.Parameter(torch.zeros((n - 2, 1, 3))),\n",
    "            'bl' : nn.Parameter(torch.zeros((n - 2, 1, 3))),\n",
    "            \n",
    "            'lt' : nn.Parameter(torch.zeros((1, n - 2, 3))),\n",
    "            'ft' : nn.Parameter(torch.zeros((1, n - 2, 3))),\n",
    "            'rt' : nn.Parameter(torch.zeros((1, n - 2, 3))),\n",
    "            'bt' : nn.Parameter(torch.zeros((1, n - 2, 3))),\n",
    "            \n",
    "            'ld' : nn.Parameter(torch.zeros((1, n - 2, 3))),\n",
    "            'fd' : nn.Parameter(torch.zeros((1, n - 2, 3))),\n",
    "            'rd' : nn.Parameter(torch.zeros((1, n - 2, 3))),\n",
    "            'bd' : nn.Parameter(torch.zeros((1, n - 2, 3))),         \n",
    "            # Corners\n",
    "            'ltf' : nn.Parameter(torch.zeros((1, 1, 3))),\n",
    "            'ftr' : nn.Parameter(torch.zeros((1, 1, 3))),\n",
    "            'rtb' : nn.Parameter(torch.zeros((1, 1, 3))),\n",
    "            'btl' : nn.Parameter(torch.zeros((1, 1, 3))),\n",
    "            \n",
    "            'ldf' : nn.Parameter(torch.zeros((1, 1, 3))),\n",
    "            'fdr' : nn.Parameter(torch.zeros((1, 1, 3))),\n",
    "            'rdb' : nn.Parameter(torch.zeros((1, 1, 3))),\n",
    "            'bdl' : nn.Parameter(torch.zeros((1, 1, 3))),\n",
    "        })\n",
    "\n",
    "    def make_vert(self, p):        \n",
    "        tr = torch.cat((p['btl'], p['lt'], p['ltf']), dim=1)\n",
    "        dr = torch.cat((p['bdl'], p['ld'], p['ldf']), dim=1)\n",
    "        mr = torch.cat((p['bl'], p['left'], p['lf']), dim=1)\n",
    "        left = torch.cat((tr, mr, dr), dim=0)        \n",
    "\n",
    "        tr = torch.cat((p['ltf'], p['ft'], p['ftr']), dim=1)\n",
    "        dr = torch.cat((p['ldf'], p['fd'], p['fdr']), dim=1)\n",
    "        mr = torch.cat((p['lf'], p['front'], p['fr']), dim=1)\n",
    "        front = torch.cat((tr, mr, dr), dim=0)        \n",
    "\n",
    "        tr = torch.cat((p['ftr'], p['rt'], p['rtb']), dim=1)\n",
    "        dr = torch.cat((p['fdr'], p['rd'], p['rdb']), dim=1)\n",
    "        mr = torch.cat((p['fr'], p['right'], p['rb']), dim=1)\n",
    "        right = torch.cat((tr, mr, dr), dim=0)        \n",
    "\n",
    "        tr = torch.cat((p['rtb'], p['bt'], p['btl']), dim=1)\n",
    "        dr = torch.cat((p['rdb'], p['bd'], p['bdl']), dim=1)\n",
    "        mr = torch.cat((p['rb'], p['back'], p['bl']), dim=1)\n",
    "        back = torch.cat((tr, mr, dr), dim=0)        \n",
    "\n",
    "        tr = torch.cat((p['btl'], p['bt'], p['rtb']), dim=1)\n",
    "        dr = torch.cat((p['ltf'], p['ft'], p['ftr']), dim=1)\n",
    "        mr = torch.cat((p['lt'].permute(1, 0, 2), p['top'],\n",
    "            p['rt'].permute(1, 0, 2)), dim=1).contiguous()\n",
    "        top = torch.cat((tr, mr, dr), dim=0)        \n",
    "\n",
    "        tr = torch.cat((p['ldf'], p['fd'], p['fdr']), dim=1)\n",
    "        dr = torch.cat((p['bdl'], p['bd'], p['rdb']), dim=1)\n",
    "        mr = torch.cat((p['ld'].permute(1, 0, 2), p['down'],\n",
    "            p['rd'].permute(1, 0, 2)), dim=1).contiguous()\n",
    "        down = torch.cat((tr, mr, dr), dim=0)\n",
    "        \n",
    "        sides = [left, front, right, back, top, down]\n",
    "        return torch.stack(sides).reshape(-1, 3)\n",
    "\n",
    "    def make_source(self, n, start, end):\n",
    "        d1, d2 = torch.meshgrid(\n",
    "            torch.linspace(start, end, steps=n), \n",
    "            torch.linspace(start, end, steps=n))\n",
    "        d3 = torch.full_like(d1, end)\n",
    "        sides =  {\n",
    "            'front': torch.stack((+d3, d1, d2), dim=-1),\n",
    "            'back' : torch.stack((-d3, d1, d2), dim=-1),            \n",
    "            'left' : torch.stack((d1, +d3, d2), dim=-1),\n",
    "            'right': torch.stack((d1, -d3, d2), dim=-1),\n",
    "            'top'  : torch.stack((d1, d2, +d3), dim=-1),\n",
    "            'down' : torch.stack((d1, d2, -d3), dim=-1),\n",
    "        }\n",
    "        print(sides.values)\n",
    "        vert = torch.stack(sides.values()).reshape(-1, 3)\n",
    "        offset, faces = n ** 2, make_faces(n, n)\n",
    "        faces = torch.cat([\n",
    "            i * offset + torch.tensor(faces)\n",
    "            for i in range(6)])\n",
    "        textures = TexturesVertex(verts_features=[torch.ones_like(vert)])\n",
    "        return Meshes(verts=[vert], faces=[faces], textures=textures)\n",
    "    \n",
    "    def forward(self):\n",
    "        deform_vert = self.make_vert(self.params)\n",
    "        new_mesh = self.source.offset_verts(deform_vert)        \n",
    "        return new_mesh\n",
    "\n",
    "    def to(self, device):\n",
    "        module = super(Cube, self).to(device)        \n",
    "        module.source = self.source.to(device)        \n",
    "        return module\n",
    "n = 11    \n",
    "cube = Cube(n)\n",
    "cube"
   ]
  },
  {
   "cell_type": "code",
   "execution_count": 9,
   "metadata": {},
   "outputs": [
    {
     "name": "stdout",
     "output_type": "stream",
     "text": [
      "top torch.Size([1, 4, 3])\n",
      "left torch.Size([4, 1, 3])\n"
     ]
    },
    {
     "data": {
      "text/plain": [
       "torch.Size([6, 6, 3])"
      ]
     },
     "execution_count": 9,
     "metadata": {},
     "output_type": "execute_result"
    }
   ],
   "source": [
    "import torch\n",
    "\n",
    "n = 6\n",
    "inner = torch.zeros((n-2, n-2, 3))\n",
    "inner.shape\n",
    "\n",
    "top = torch.zeros((1, n - 2, 3))\n",
    "print('top', top.shape)\n",
    "\n",
    "left = torch.zeros((n-2, 1, 3))\n",
    "print('left', left.shape)\n",
    "\n",
    "corner = torch.zeros((1, 1, 3))\n",
    "\n",
    "#print(torch.cat((corner, top, corner, inner, corner, left, corner, ), dim=1).shape)\n",
    "\n",
    "torch.cat((torch.cat((corner, top, corner), dim=1),\n",
    "          torch.cat((left, inner, left), dim=1),\n",
    "          torch.cat((corner, top, corner), dim=1)), dim=0).shape"
   ]
  },
  {
   "cell_type": "code",
   "execution_count": 8,
   "metadata": {},
   "outputs": [
    {
     "data": {
      "text/plain": [
       "torch.Size([1, 6, 3])"
      ]
     },
     "execution_count": 8,
     "metadata": {},
     "output_type": "execute_result"
    }
   ],
   "source": [
    "torch.cat((corner, top, corner), dim=1).shape"
   ]
  },
  {
   "cell_type": "code",
   "execution_count": 7,
   "metadata": {},
   "outputs": [
    {
     "data": {
      "text/plain": [
       "torch.Size([4, 1, 3])"
      ]
     },
     "execution_count": 7,
     "metadata": {},
     "output_type": "execute_result"
    }
   ],
   "source": [
    "left.shape"
   ]
  },
  {
   "cell_type": "code",
   "execution_count": 32,
   "metadata": {},
   "outputs": [
    {
     "name": "stdout",
     "output_type": "stream",
     "text": [
      "torch.Size([6, 6, 3])\n",
      "torch.Size([6, 6, 3])\n",
      "torch.Size([6, 6, 3])\n",
      "torch.Size([6, 6, 3])\n",
      "torch.Size([6, 6, 3])\n",
      "torch.Size([6, 6, 3])\n"
     ]
    }
   ],
   "source": [
    "import torch\n",
    "import torch.nn as nn\n",
    "\n",
    "\n",
    "p = nn.ParameterDict({\n",
    "    'front': nn.Parameter(torch.zeros((n - 2, n - 2, 3))),\n",
    "    'back' : nn.Parameter(torch.zeros((n - 2, n - 2, 3))),            \n",
    "    'left' : nn.Parameter(torch.zeros((n - 2, n - 2, 3))),\n",
    "    'right': nn.Parameter(torch.zeros((n - 2, n - 2, 3))),            \n",
    "    'top'  : nn.Parameter(torch.zeros((n - 2, n - 2, 3))),\n",
    "    'down' : nn.Parameter(torch.zeros((n - 2, n - 2, 3))),\n",
    "    # Edges\n",
    "    'lf' : nn.Parameter(torch.zeros((n - 2, 1, 3))),\n",
    "    'fr' : nn.Parameter(torch.zeros((n - 2, 1, 3))),\n",
    "    'rb' : nn.Parameter(torch.zeros((n - 2, 1, 3))),\n",
    "    'bl' : nn.Parameter(torch.zeros((n - 2, 1, 3))),\n",
    "\n",
    "    'lt' : nn.Parameter(torch.zeros((1, n - 2, 3))),\n",
    "    'ft' : nn.Parameter(torch.zeros((1, n - 2, 3))),\n",
    "    'rt' : nn.Parameter(torch.zeros((1, n - 2, 3))),\n",
    "    'bt' : nn.Parameter(torch.zeros((1, n - 2, 3))),\n",
    "\n",
    "    'ld' : nn.Parameter(torch.zeros((1, n - 2, 3))),\n",
    "    'fd' : nn.Parameter(torch.zeros((1, n - 2, 3))),\n",
    "    'rd' : nn.Parameter(torch.zeros((1, n - 2, 3))),\n",
    "    'bd' : nn.Parameter(torch.zeros((1, n - 2, 3))),         \n",
    "    # Corners\n",
    "    'ltf' : nn.Parameter(torch.zeros((1, 1, 3))),\n",
    "    'ftr' : nn.Parameter(torch.zeros((1, 1, 3))),\n",
    "    'rtb' : nn.Parameter(torch.zeros((1, 1, 3))),\n",
    "    'btl' : nn.Parameter(torch.zeros((1, 1, 3))),\n",
    "\n",
    "    'ldf' : nn.Parameter(torch.zeros((1, 1, 3))),\n",
    "    'fdr' : nn.Parameter(torch.zeros((1, 1, 3))),\n",
    "    'rdb' : nn.Parameter(torch.zeros((1, 1, 3))),\n",
    "    'bdl' : nn.Parameter(torch.zeros((1, 1, 3))),\n",
    "})\n",
    "\n",
    "tr = torch.cat((p['btl'], p['lt'], p['ltf']), dim=1)\n",
    "dr = torch.cat((p['bdl'], p['ld'], p['ldf']), dim=1)\n",
    "mr = torch.cat((p['bl'], p['left'], p['lf']), dim=1)\n",
    "left = torch.cat((tr, mr, dr), dim=0)\n",
    "print(left.shape)\n",
    "\n",
    "tr = torch.cat((p['ltf'], p['ft'], p['ftr']), dim=1)\n",
    "dr = torch.cat((p['ldf'], p['fd'], p['fdr']), dim=1)\n",
    "mr = torch.cat((p['lf'], p['front'], p['fr']), dim=1)\n",
    "front = torch.cat((tr, mr, dr), dim=0)\n",
    "print(front.shape)\n",
    "\n",
    "tr = torch.cat((p['ftr'], p['rt'], p['rtb']), dim=1)\n",
    "dr = torch.cat((p['fdr'], p['rd'], p['rdb']), dim=1)\n",
    "mr = torch.cat((p['fr'], p['right'], p['rb']), dim=1)\n",
    "right = torch.cat((tr, mr, dr), dim=0)\n",
    "print(right.shape)\n",
    "\n",
    "tr = torch.cat((p['rtb'], p['bt'], p['btl']), dim=1)\n",
    "dr = torch.cat((p['rdb'], p['bd'], p['bdl']), dim=1)\n",
    "mr = torch.cat((p['rb'], p['back'], p['bl']), dim=1)\n",
    "back = torch.cat((tr, mr, dr), dim=0)\n",
    "print(back.shape)\n",
    "\n",
    "tr = torch.cat((p['btl'], p['bt'], p['rtb']), dim=1)\n",
    "dr = torch.cat((p['ltf'], p['ft'], p['ftr']), dim=1)\n",
    "mr = torch.cat((p['lt'].permute(1, 0, 2), p['top'],\n",
    "    p['rt'].permute(1, 0, 2)), dim=1).contiguous()\n",
    "top = torch.cat((tr, mr, dr), dim=0)\n",
    "print(top.shape)\n",
    "\n",
    "\n",
    "tr = torch.cat((p['ldf'], p['fd'], p['fdr']), dim=1)\n",
    "dr = torch.cat((p['bdl'], p['bd'], p['rdb']), dim=1)\n",
    "mr = torch.cat((p['ld'].permute(1, 0, 2), p['down'],\n",
    "    p['rd'].permute(1, 0, 2)), dim=1).contiguous()\n",
    "down = torch.cat((tr, mr, dr), dim=0)\n",
    "print(down.shape)"
   ]
  },
  {
   "cell_type": "code",
   "execution_count": 18,
   "metadata": {},
   "outputs": [
    {
     "data": {
      "text/plain": [
       "torch.Size([6, 4, 3])"
      ]
     },
     "execution_count": 18,
     "metadata": {},
     "output_type": "execute_result"
    }
   ],
   "source": [
    "torch.cat((p['lt'], p['top'], p['rt']), dim=0).shape"
   ]
  },
  {
   "cell_type": "code",
   "execution_count": 21,
   "metadata": {},
   "outputs": [
    {
     "data": {
      "text/plain": [
       "(torch.Size([1, 4, 3]), torch.Size([4, 4, 3]), torch.Size([1, 4, 3]))"
      ]
     },
     "execution_count": 21,
     "metadata": {},
     "output_type": "execute_result"
    }
   ],
   "source": [
    "p['lt'].shape, p['top'].shape, p['rt'].shape"
   ]
  },
  {
   "cell_type": "code",
   "execution_count": 22,
   "metadata": {},
   "outputs": [
    {
     "data": {
      "text/plain": [
       "(torch.Size([4, 1, 3]), torch.Size([4, 4, 3]))"
      ]
     },
     "execution_count": 22,
     "metadata": {},
     "output_type": "execute_result"
    }
   ],
   "source": [
    "p['rb'].shape, p['back'].shape"
   ]
  },
  {
   "cell_type": "code",
   "execution_count": 23,
   "metadata": {},
   "outputs": [
    {
     "data": {
      "text/plain": [
       "torch.Size([4, 6, 3])"
      ]
     },
     "execution_count": 23,
     "metadata": {},
     "output_type": "execute_result"
    }
   ],
   "source": [
    "torch.cat((p['rb'], p['back'], p['bl']), dim=1).shape"
   ]
  },
  {
   "cell_type": "code",
   "execution_count": 26,
   "metadata": {},
   "outputs": [
    {
     "data": {
      "text/plain": [
       "torch.Size([4, 6, 3])"
      ]
     },
     "execution_count": 26,
     "metadata": {},
     "output_type": "execute_result"
    }
   ],
   "source": [
    "torch.cat((p['lt'].permute(1, 0, 2), p['top'], p['rt'].permute(1, 0, 2)), dim=1).shape"
   ]
  },
  {
   "cell_type": "code",
   "execution_count": 28,
   "metadata": {},
   "outputs": [
    {
     "data": {
      "text/plain": [
       "tensor([[[0., 0., 0.],\n",
       "         [0., 0., 0.],\n",
       "         [0., 0., 0.],\n",
       "         [0., 0., 0.],\n",
       "         [0., 0., 0.],\n",
       "         [0., 0., 0.]],\n",
       "\n",
       "        [[0., 0., 0.],\n",
       "         [0., 0., 0.],\n",
       "         [0., 0., 0.],\n",
       "         [0., 0., 0.],\n",
       "         [0., 0., 0.],\n",
       "         [0., 0., 0.]],\n",
       "\n",
       "        [[0., 0., 0.],\n",
       "         [0., 0., 0.],\n",
       "         [0., 0., 0.],\n",
       "         [0., 0., 0.],\n",
       "         [0., 0., 0.],\n",
       "         [0., 0., 0.]],\n",
       "\n",
       "        [[0., 0., 0.],\n",
       "         [0., 0., 0.],\n",
       "         [0., 0., 0.],\n",
       "         [0., 0., 0.],\n",
       "         [0., 0., 0.],\n",
       "         [0., 0., 0.]]], grad_fn=<CatBackward>)"
      ]
     },
     "execution_count": 28,
     "metadata": {},
     "output_type": "execute_result"
    }
   ],
   "source": [
    "mr.contiguous()"
   ]
  },
  {
   "cell_type": "code",
   "execution_count": null,
   "metadata": {},
   "outputs": [],
   "source": []
  }
 ],
 "metadata": {
  "kernelspec": {
   "display_name": "Python [conda env:pytorch3d_06] *",
   "language": "python",
   "name": "conda-env-pytorch3d_06-py"
  },
  "language_info": {
   "codemirror_mode": {
    "name": "ipython",
    "version": 3
   },
   "file_extension": ".py",
   "mimetype": "text/x-python",
   "name": "python",
   "nbconvert_exporter": "python",
   "pygments_lexer": "ipython3",
   "version": "3.8.11"
  }
 },
 "nbformat": 4,
 "nbformat_minor": 4
}
