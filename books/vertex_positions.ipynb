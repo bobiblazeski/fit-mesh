{
 "cells": [
  {
   "cell_type": "code",
   "execution_count": 1,
   "metadata": {},
   "outputs": [
    {
     "data": {
      "text/html": [
       "        <script type=\"text/javascript\">\n",
       "        window.PlotlyConfig = {MathJaxConfig: 'local'};\n",
       "        if (window.MathJax) {MathJax.Hub.Config({SVG: {font: \"STIX-Web\"}});}\n",
       "        if (typeof require !== 'undefined') {\n",
       "        require.undef(\"plotly\");\n",
       "        requirejs.config({\n",
       "            paths: {\n",
       "                'plotly': ['https://cdn.plot.ly/plotly-latest.min']\n",
       "            }\n",
       "        });\n",
       "        require(['plotly'], function(Plotly) {\n",
       "            window._Plotly = Plotly;\n",
       "        });\n",
       "        }\n",
       "        </script>\n",
       "        "
      ]
     },
     "metadata": {},
     "output_type": "display_data"
    },
    {
     "data": {
      "text/html": [
       "        <script type=\"text/javascript\">\n",
       "        window.PlotlyConfig = {MathJaxConfig: 'local'};\n",
       "        if (window.MathJax) {MathJax.Hub.Config({SVG: {font: \"STIX-Web\"}});}\n",
       "        if (typeof require !== 'undefined') {\n",
       "        require.undef(\"plotly\");\n",
       "        requirejs.config({\n",
       "            paths: {\n",
       "                'plotly': ['https://cdn.plot.ly/plotly-latest.min']\n",
       "            }\n",
       "        });\n",
       "        require(['plotly'], function(Plotly) {\n",
       "            window._Plotly = Plotly;\n",
       "        });\n",
       "        }\n",
       "        </script>\n",
       "        "
      ]
     },
     "metadata": {},
     "output_type": "display_data"
    },
    {
     "data": {
      "text/html": [
       "        <script type=\"text/javascript\">\n",
       "        window.PlotlyConfig = {MathJaxConfig: 'local'};\n",
       "        if (window.MathJax) {MathJax.Hub.Config({SVG: {font: \"STIX-Web\"}});}\n",
       "        if (typeof require !== 'undefined') {\n",
       "        require.undef(\"plotly\");\n",
       "        requirejs.config({\n",
       "            paths: {\n",
       "                'plotly': ['https://cdn.plot.ly/plotly-latest.min']\n",
       "            }\n",
       "        });\n",
       "        require(['plotly'], function(Plotly) {\n",
       "            window._Plotly = Plotly;\n",
       "        });\n",
       "        }\n",
       "        </script>\n",
       "        "
      ]
     },
     "metadata": {},
     "output_type": "display_data"
    },
    {
     "data": {
      "text/html": [
       "        <script type=\"text/javascript\">\n",
       "        window.PlotlyConfig = {MathJaxConfig: 'local'};\n",
       "        if (window.MathJax) {MathJax.Hub.Config({SVG: {font: \"STIX-Web\"}});}\n",
       "        if (typeof require !== 'undefined') {\n",
       "        require.undef(\"plotly\");\n",
       "        requirejs.config({\n",
       "            paths: {\n",
       "                'plotly': ['https://cdn.plot.ly/plotly-latest.min']\n",
       "            }\n",
       "        });\n",
       "        require(['plotly'], function(Plotly) {\n",
       "            window._Plotly = Plotly;\n",
       "        });\n",
       "        }\n",
       "        </script>\n",
       "        "
      ]
     },
     "metadata": {},
     "output_type": "display_data"
    }
   ],
   "source": [
    "from collections import OrderedDict\n",
    "\n",
    "import torch\n",
    "import torch.nn as nn\n",
    "import torch.nn.functional as F\n",
    "\n",
    "import pytorch3d\n",
    "import pytorch3d.io\n",
    "from pytorch3d.structures import Meshes\n",
    "from pytorch3d.renderer import TexturesVertex\n",
    "\n",
    "import trimesh\n",
    "\n",
    "from src.util import make_faces"
   ]
  },
  {
   "cell_type": "code",
   "execution_count": 2,
   "metadata": {},
   "outputs": [],
   "source": [
    "n = 2\n",
    "start = -0.5\n",
    "end = 0.5\n",
    "\n",
    "d1, d2 = torch.meshgrid(\n",
    "    torch.linspace(start, end, steps=n), \n",
    "    torch.linspace(start, end, steps=n))\n",
    "d3 = torch.full_like(d1, end) + 1 / n\n",
    "sides =  OrderedDict({\n",
    "    'front': torch.stack((+d3,  d1,  d2), dim=-1),\n",
    "    'right': torch.stack(( d1, +d3,  d2), dim=-1),    \n",
    "    'back' : torch.stack((-d3,  d1,  d2), dim=-1),         \n",
    "    'left' : torch.stack(( d1, -d3,  d2), dim=-1),\n",
    "    'top'  : torch.stack(( d1,  d2, +d3), dim=-1),\n",
    "    'down' : torch.stack(( d1,  d2, -d3), dim=-1),\n",
    "})\n",
    "vert = torch.stack(list(sides.values())).reshape(-1, 3)\n",
    "offset, faces = n ** 2, make_faces(n, n)\n",
    "faces = torch.cat([\n",
    "    i * offset + torch.tensor(faces)\n",
    "    for i in range(6)])\n",
    "textures = TexturesVertex(verts_features=[torch.ones_like(vert)])\n",
    "mesh = Meshes(verts=[vert], faces=[faces], textures=textures)\n",
    "front_f =  [ 0,  1,  2,  3]\n",
    "right_f =  [ 4,  5,  6,  7]\n",
    "back_f  =  [ 8,  9, 10, 11]\n",
    "left_f  =  [12, 13, 14, 15]\n",
    "top_f   =  [16, 17, 18, 19]\n",
    "down_f  =  [20, 21, 22, 23]\n",
    "\n",
    "\n",
    "corners = torch.tensor([\n",
    "    [ 0, 22, 14],\n",
    "    [ 3, 19,  7],\n",
    "    \n",
    "    [16,  9, 13],   \n",
    "    [17, 11,  5],\n",
    "    \n",
    "    [ 1, 18, 15],\n",
    "    [ 2, 23,  6],\n",
    "    \n",
    "    [20,  8, 12],\n",
    "    [21, 10,  4],  \n",
    "])\n",
    "\n",
    "used = corners.flatten().tolist()\n",
    "for f in [17]:#[e for e in front_f if e not in [1]]: # [0]:#    \n",
    "    for t in [e for e in back_f if e not in used]:\n",
    "        for l in [e for e in right_f if e not in used]:\n",
    "            print(f, t, l)\n",
    "            m = trimesh.Trimesh(vertices=vert, \n",
    "                faces=torch.cat((faces, \n",
    "                    torch.tensor([\n",
    "                        [f,  t, l],\n",
    "                    ]))))\n",
    "            m.export(f'./data/cube-{f}-{t}-{l}.stl');"
   ]
  },
  {
   "cell_type": "code",
   "execution_count": 3,
   "metadata": {},
   "outputs": [
    {
     "name": "stdout",
     "output_type": "stream",
     "text": [
      "0 22 14\n",
      "3 19 7\n",
      "16 9 13\n",
      "17 11 5\n",
      "1 18 15\n",
      "2 23 6\n",
      "20 8 12\n",
      "21 10 4\n"
     ]
    }
   ],
   "source": [
    "corners = torch.tensor([\n",
    "    [ 0, 22, 14],\n",
    "    [ 3, 19,  7],\n",
    "    \n",
    "    [16,  9, 13],   \n",
    "    [17, 11,  5],\n",
    "    \n",
    "    [ 1, 18, 15],\n",
    "    [ 2, 23,  6],\n",
    "    \n",
    "    [20,  8, 12],\n",
    "    [21, 10,  4],\n",
    "])\n",
    "\n",
    "\n",
    "for (f, t, l) in corners.tolist():\n",
    "    print(f, t, l)\n",
    "    m = trimesh.Trimesh(vertices=vert, \n",
    "                faces=torch.cat((faces, \n",
    "                                 corners)))\n",
    "    m.export(f'./data/cube-{f}-{t}-{l}.stl');"
   ]
  },
  {
   "cell_type": "code",
   "execution_count": 13,
   "metadata": {},
   "outputs": [],
   "source": [
    "edges = torch.tensor([\n",
    "    [ 0, 22,  2],\n",
    "    [ 2, 22, 23],\n",
    "    \n",
    "    [ 3,  7,  2],\n",
    "    [ 7,  2,  6],\n",
    "    \n",
    "    [ 1, 18, 19],\n",
    "    [ 1, 19,  3],\n",
    "    \n",
    "    [ 1, 14, 15],\n",
    "    [ 1, 14,  0],\n",
    "    #\n",
    "    [13, 15, 16],\n",
    "    [15, 16, 18],\n",
    "    \n",
    "    [12, 14, 20],\n",
    "    [14, 22, 20],\n",
    "    \n",
    "    [23, 21,  6],\n",
    "    [ 6,  4, 21],\n",
    "    \n",
    "    [ 7, 19, 17],\n",
    "    [ 5,  7, 17],\n",
    "    #\n",
    "    [11, 16, 17],\n",
    "    [11,  9, 16],\n",
    "    \n",
    "    [8,  9, 13],\n",
    "    [13, 8, 12],\n",
    "    \n",
    "    [10, 4,  5],\n",
    "    [11, 5, 10],\n",
    "    \n",
    "    [10,  8, 21],\n",
    "    [20, 21,  8],\n",
    "])\n",
    "\n",
    "\n",
    "m = trimesh.Trimesh(vertices=vert, \n",
    "            faces=torch.cat((faces, \n",
    "                             corners,\n",
    "                             edges,\n",
    "                            )))\n",
    "m.export('./data/cube-edge.stl');"
   ]
  },
  {
   "cell_type": "code",
   "execution_count": null,
   "metadata": {},
   "outputs": [],
   "source": []
  },
  {
   "cell_type": "code",
   "execution_count": null,
   "metadata": {},
   "outputs": [],
   "source": []
  }
 ],
 "metadata": {
  "kernelspec": {
   "display_name": "Python [conda env:pytorch3d_06] *",
   "language": "python",
   "name": "conda-env-pytorch3d_06-py"
  },
  "language_info": {
   "codemirror_mode": {
    "name": "ipython",
    "version": 3
   },
   "file_extension": ".py",
   "mimetype": "text/x-python",
   "name": "python",
   "nbconvert_exporter": "python",
   "pygments_lexer": "ipython3",
   "version": "3.8.11"
  }
 },
 "nbformat": 4,
 "nbformat_minor": 4
}
