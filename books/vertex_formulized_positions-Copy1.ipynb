{
 "cells": [
  {
   "cell_type": "code",
   "execution_count": 1,
   "metadata": {},
   "outputs": [
    {
     "data": {
      "text/html": [
       "        <script type=\"text/javascript\">\n",
       "        window.PlotlyConfig = {MathJaxConfig: 'local'};\n",
       "        if (window.MathJax) {MathJax.Hub.Config({SVG: {font: \"STIX-Web\"}});}\n",
       "        if (typeof require !== 'undefined') {\n",
       "        require.undef(\"plotly\");\n",
       "        requirejs.config({\n",
       "            paths: {\n",
       "                'plotly': ['https://cdn.plot.ly/plotly-latest.min']\n",
       "            }\n",
       "        });\n",
       "        require(['plotly'], function(Plotly) {\n",
       "            window._Plotly = Plotly;\n",
       "        });\n",
       "        }\n",
       "        </script>\n",
       "        "
      ]
     },
     "metadata": {},
     "output_type": "display_data"
    },
    {
     "data": {
      "text/html": [
       "        <script type=\"text/javascript\">\n",
       "        window.PlotlyConfig = {MathJaxConfig: 'local'};\n",
       "        if (window.MathJax) {MathJax.Hub.Config({SVG: {font: \"STIX-Web\"}});}\n",
       "        if (typeof require !== 'undefined') {\n",
       "        require.undef(\"plotly\");\n",
       "        requirejs.config({\n",
       "            paths: {\n",
       "                'plotly': ['https://cdn.plot.ly/plotly-latest.min']\n",
       "            }\n",
       "        });\n",
       "        require(['plotly'], function(Plotly) {\n",
       "            window._Plotly = Plotly;\n",
       "        });\n",
       "        }\n",
       "        </script>\n",
       "        "
      ]
     },
     "metadata": {},
     "output_type": "display_data"
    },
    {
     "data": {
      "text/html": [
       "        <script type=\"text/javascript\">\n",
       "        window.PlotlyConfig = {MathJaxConfig: 'local'};\n",
       "        if (window.MathJax) {MathJax.Hub.Config({SVG: {font: \"STIX-Web\"}});}\n",
       "        if (typeof require !== 'undefined') {\n",
       "        require.undef(\"plotly\");\n",
       "        requirejs.config({\n",
       "            paths: {\n",
       "                'plotly': ['https://cdn.plot.ly/plotly-latest.min']\n",
       "            }\n",
       "        });\n",
       "        require(['plotly'], function(Plotly) {\n",
       "            window._Plotly = Plotly;\n",
       "        });\n",
       "        }\n",
       "        </script>\n",
       "        "
      ]
     },
     "metadata": {},
     "output_type": "display_data"
    },
    {
     "data": {
      "text/html": [
       "        <script type=\"text/javascript\">\n",
       "        window.PlotlyConfig = {MathJaxConfig: 'local'};\n",
       "        if (window.MathJax) {MathJax.Hub.Config({SVG: {font: \"STIX-Web\"}});}\n",
       "        if (typeof require !== 'undefined') {\n",
       "        require.undef(\"plotly\");\n",
       "        requirejs.config({\n",
       "            paths: {\n",
       "                'plotly': ['https://cdn.plot.ly/plotly-latest.min']\n",
       "            }\n",
       "        });\n",
       "        require(['plotly'], function(Plotly) {\n",
       "            window._Plotly = Plotly;\n",
       "        });\n",
       "        }\n",
       "        </script>\n",
       "        "
      ]
     },
     "metadata": {},
     "output_type": "display_data"
    }
   ],
   "source": [
    "from collections import OrderedDict\n",
    "\n",
    "import torch\n",
    "import torch.nn as nn\n",
    "import torch.nn.functional as F\n",
    "\n",
    "import pytorch3d\n",
    "import pytorch3d.io\n",
    "from pytorch3d.structures import Meshes\n",
    "from pytorch3d.renderer import TexturesVertex\n",
    "\n",
    "import trimesh\n",
    "\n",
    "from src.util import make_faces"
   ]
  },
  {
   "cell_type": "code",
   "execution_count": 2,
   "metadata": {},
   "outputs": [],
   "source": [
    "n = 2\n",
    "start = -0.5\n",
    "end = 0.5\n",
    "\n",
    "d1, d2 = torch.meshgrid(\n",
    "    torch.linspace(start, end, steps=n), \n",
    "    torch.linspace(start, end, steps=n))\n",
    "d3 = torch.full_like(d1, end) + 1 / n\n",
    "sides =  OrderedDict({\n",
    "    'front': torch.stack((+d3,  d1,  d2), dim=-1),\n",
    "    'right': torch.stack(( d1, +d3,  d2), dim=-1),    \n",
    "    'back' : torch.stack((-d3,  d1,  d2), dim=-1),         \n",
    "    'left' : torch.stack(( d1, -d3,  d2), dim=-1),\n",
    "    'top'  : torch.stack(( d1,  d2, +d3), dim=-1),\n",
    "    'down' : torch.stack(( d1,  d2, -d3), dim=-1),\n",
    "})\n",
    "vert = torch.stack(list(sides.values())).reshape(-1, 3)\n",
    "offset, faces = n ** 2, make_faces(n, n)\n",
    "faces = torch.cat([\n",
    "    i * offset + torch.tensor(faces)\n",
    "    for i in range(6)])\n",
    "textures = TexturesVertex(verts_features=[torch.ones_like(vert)])\n",
    "mesh = Meshes(verts=[vert], faces=[faces], textures=textures)\n",
    "\n",
    "corners = torch.tensor([\n",
    "    [ 0, 22, 14],\n",
    "    [ 3, 19,  7],\n",
    "    \n",
    "    [16,  9, 13],   \n",
    "    [17, 11,  5],\n",
    "    \n",
    "    [ 1, 18, 15],\n",
    "    [ 2, 23,  6],\n",
    "    \n",
    "    [20,  8, 12],\n",
    "    [21, 10,  4],\n",
    "])  \n",
    "\n",
    "m = trimesh.Trimesh(vertices=vert, \n",
    "    faces=torch.cat((faces, corners)))\n",
    "m.export('./data/cube-edge.stl');"
   ]
  },
  {
   "cell_type": "code",
   "execution_count": 3,
   "metadata": {},
   "outputs": [
    {
     "data": {
      "text/plain": [
       "(3, 4)"
      ]
     },
     "execution_count": 3,
     "metadata": {},
     "output_type": "execute_result"
    }
   ],
   "source": [
    "corners = torch.tensor([\n",
    "    [ 0, 22, 14],\n",
    "    [ 3, 19,  7],\n",
    "    \n",
    "    [16,  9, 13],   \n",
    "    [17, 11,  5],\n",
    "    \n",
    "    [ 1, 18, 15],\n",
    "    [ 2, 23,  6],\n",
    "    \n",
    "    [20,  8, 12],\n",
    "    [21, 10,  4],\n",
    "])\n",
    "22 // 6, 22 % 6"
   ]
  },
  {
   "cell_type": "code",
   "execution_count": 4,
   "metadata": {},
   "outputs": [
    {
     "data": {
      "text/plain": [
       "tensor([[0, 5, 3],\n",
       "        [0, 4, 1],\n",
       "        [4, 2, 3],\n",
       "        [4, 2, 1],\n",
       "        [0, 4, 3],\n",
       "        [0, 5, 1],\n",
       "        [5, 2, 3],\n",
       "        [5, 2, 1]])"
      ]
     },
     "execution_count": 4,
     "metadata": {},
     "output_type": "execute_result"
    }
   ],
   "source": [
    "tris = torch.div(corners, n**2, rounding_mode='trunc')\n",
    "tris"
   ]
  },
  {
   "cell_type": "code",
   "execution_count": 5,
   "metadata": {},
   "outputs": [
    {
     "data": {
      "text/plain": [
       "tensor([[0, 2, 2],\n",
       "        [3, 3, 3],\n",
       "        [0, 1, 1],\n",
       "        [1, 3, 1],\n",
       "        [1, 2, 3],\n",
       "        [2, 3, 2],\n",
       "        [0, 0, 0],\n",
       "        [1, 2, 0]])"
      ]
     },
     "execution_count": 5,
     "metadata": {},
     "output_type": "execute_result"
    }
   ],
   "source": [
    "torch.remainder(corners, n**2)"
   ]
  },
  {
   "cell_type": "code",
   "execution_count": 6,
   "metadata": {},
   "outputs": [
    {
     "name": "stdout",
     "output_type": "stream",
     "text": [
      "tensor([[0, 2, 2],\n",
      "        [2, 2, 2],\n",
      "        [0, 1, 1],\n",
      "        [1, 2, 1],\n",
      "        [1, 2, 2],\n",
      "        [2, 2, 2],\n",
      "        [0, 0, 0],\n",
      "        [1, 2, 0]])\n"
     ]
    }
   ],
   "source": [
    "n = 2\n",
    "rmn = torch.tensor([[   0,   n,   n],\n",
    "                    [ n**2-n, n**2-n, n**2-n],\n",
    "                    [   0,   1,   1],\n",
    "                    [   1, n**2-n,   1],\n",
    "                    [   1,   n, n**2-n],\n",
    "                    [   n, n**2-n,   n],\n",
    "                    [   0,   0,   0],\n",
    "                    [   1,   n,   0]])\n",
    "\n",
    "print(rmn)"
   ]
  },
  {
   "cell_type": "code",
   "execution_count": 7,
   "metadata": {},
   "outputs": [
    {
     "data": {
      "text/plain": [
       "False"
      ]
     },
     "execution_count": 7,
     "metadata": {},
     "output_type": "execute_result"
    }
   ],
   "source": [
    "torch.allclose(rmn, torch.remainder(corners, n**2))"
   ]
  },
  {
   "cell_type": "code",
   "execution_count": 8,
   "metadata": {},
   "outputs": [
    {
     "data": {
      "text/plain": [
       "False"
      ]
     },
     "execution_count": 8,
     "metadata": {},
     "output_type": "execute_result"
    }
   ],
   "source": [
    "torch.allclose(corners, tris * n**2 + rmn)"
   ]
  },
  {
   "cell_type": "code",
   "execution_count": 9,
   "metadata": {},
   "outputs": [],
   "source": [
    "n = 3\n",
    "start = -0.5\n",
    "end = 0.5\n",
    "\n",
    "d1, d2 = torch.meshgrid(\n",
    "    torch.linspace(start, end, steps=n), \n",
    "    torch.linspace(start, end, steps=n))\n",
    "d3 = torch.full_like(d1, end) + 1 / n\n",
    "sides =  OrderedDict({\n",
    "    'front': torch.stack((+d3,  d1,  d2), dim=-1),\n",
    "    'right': torch.stack(( d1, +d3,  d2), dim=-1),    \n",
    "    'back' : torch.stack((-d3,  d1,  d2), dim=-1),         \n",
    "    'left' : torch.stack(( d1, -d3,  d2), dim=-1),\n",
    "    'top'  : torch.stack(( d1,  d2, +d3), dim=-1),\n",
    "    'down' : torch.stack(( d1,  d2, -d3), dim=-1),\n",
    "})\n",
    "vert = torch.stack(list(sides.values())).reshape(-1, 3)\n",
    "offset, faces = n ** 2, make_faces(n, n)\n",
    "faces = torch.cat([\n",
    "    i * offset + torch.tensor(faces)\n",
    "    for i in range(6)])\n",
    "textures = TexturesVertex(verts_features=[torch.ones_like(vert)])\n",
    "mesh = Meshes(verts=[vert], faces=[faces], textures=textures)\n",
    "\n",
    "n = 3\n",
    "c0 = 0\n",
    "c1 = n-1\n",
    "c2 = n**2-n\n",
    "c3 = n**2-1 \n",
    "rmn = torch.tensor(\n",
    "    [[c0, c2, c2],\n",
    "     [c3, c3, c3],\n",
    "     [c0, c1, c1],\n",
    "     [c1, c3, c1],\n",
    "     [c1, c2, c3],\n",
    "     [c2, c3, c2],\n",
    "     [c0, c0, c0],\n",
    "     [c1, c2, c0]])\n",
    "\n",
    "\n",
    "corners = tris * n**2 + rmn\n",
    "\n",
    "m = trimesh.Trimesh(vertices=vert, \n",
    "    faces=torch.cat((faces, corners)))\n",
    "m.export('./data/cube-3x3.stl');"
   ]
  },
  {
   "cell_type": "code",
   "execution_count": 10,
   "metadata": {},
   "outputs": [
    {
     "data": {
      "text/plain": [
       "tensor([[ 0, 51, 33],\n",
       "        [ 8, 44, 17],\n",
       "        [36, 20, 29],\n",
       "        [38, 26, 11],\n",
       "        [ 2, 42, 35],\n",
       "        [ 6, 53, 15],\n",
       "        [45, 18, 27],\n",
       "        [47, 24,  9]])"
      ]
     },
     "execution_count": 10,
     "metadata": {},
     "output_type": "execute_result"
    }
   ],
   "source": [
    "corners"
   ]
  },
  {
   "cell_type": "code",
   "execution_count": 11,
   "metadata": {},
   "outputs": [
    {
     "data": {
      "text/plain": [
       "tensor([[0, 6, 6],\n",
       "        [8, 8, 8],\n",
       "        [0, 2, 2],\n",
       "        [2, 8, 2],\n",
       "        [2, 6, 8],\n",
       "        [6, 8, 6],\n",
       "        [0, 0, 0],\n",
       "        [2, 6, 0]])"
      ]
     },
     "execution_count": 11,
     "metadata": {},
     "output_type": "execute_result"
    }
   ],
   "source": [
    "torch.remainder(corners, n**2)"
   ]
  },
  {
   "cell_type": "code",
   "execution_count": 12,
   "metadata": {},
   "outputs": [
    {
     "data": {
      "text/plain": [
       "tensor([[0, 6, 6],\n",
       "        [8, 8, 8],\n",
       "        [0, 2, 2],\n",
       "        [2, 8, 2],\n",
       "        [2, 6, 8],\n",
       "        [6, 8, 6],\n",
       "        [0, 0, 0],\n",
       "        [2, 6, 0]])"
      ]
     },
     "execution_count": 12,
     "metadata": {},
     "output_type": "execute_result"
    }
   ],
   "source": [
    "n = 3\n",
    "c0 = 0\n",
    "c1 = n-1\n",
    "c2 = n**2-n\n",
    "c3 = n**2-1 \n",
    "rs = torch.tensor(\n",
    "[[c0, c2, c2],\n",
    " [c3, c3, c3],\n",
    " [c0, c1, c1],\n",
    " [c1, c3, c1],\n",
    " [c1, c2, c3],\n",
    " [c2, c3, c2],\n",
    " [c0, c0, c0],\n",
    " [c1, c2, c0]])\n",
    "rs"
   ]
  },
  {
   "cell_type": "code",
   "execution_count": 13,
   "metadata": {},
   "outputs": [
    {
     "data": {
      "text/plain": [
       "tensor([[0, 0, 0],\n",
       "        [0, 0, 0],\n",
       "        [0, 0, 0],\n",
       "        [0, 0, 0],\n",
       "        [0, 0, 0],\n",
       "        [0, 0, 0],\n",
       "        [0, 0, 0],\n",
       "        [0, 0, 0]])"
      ]
     },
     "execution_count": 13,
     "metadata": {},
     "output_type": "execute_result"
    }
   ],
   "source": [
    "rs - torch.remainder(corners, n**2)"
   ]
  },
  {
   "cell_type": "code",
   "execution_count": 14,
   "metadata": {},
   "outputs": [
    {
     "data": {
      "text/plain": [
       "tensor([[0, 5, 0],\n",
       "        [0, 5, 5],\n",
       "        [0, 1, 0],\n",
       "        [1, 0, 1],\n",
       "        [0, 4, 4],\n",
       "        [0, 4, 0],\n",
       "        [0, 3, 3],\n",
       "        [0, 3, 0],\n",
       "        [3, 3, 4],\n",
       "        [3, 4, 4],\n",
       "        [3, 3, 5],\n",
       "        [3, 5, 5],\n",
       "        [5, 5, 1],\n",
       "        [1, 1, 5],\n",
       "        [1, 4, 4],\n",
       "        [1, 1, 4],\n",
       "        [2, 4, 4],\n",
       "        [2, 2, 4],\n",
       "        [2, 2, 3],\n",
       "        [3, 2, 3],\n",
       "        [2, 1, 1],\n",
       "        [2, 1, 2],\n",
       "        [2, 2, 5],\n",
       "        [5, 5, 2]])"
      ]
     },
     "execution_count": 14,
     "metadata": {},
     "output_type": "execute_result"
    }
   ],
   "source": [
    "edges = torch.tensor([\n",
    "    [ 0, 22,  2],\n",
    "    [ 2, 22, 23],\n",
    "    \n",
    "    [ 3,  7,  2],\n",
    "    [ 7,  2,  6],\n",
    "    \n",
    "    [ 1, 18, 19],\n",
    "    [ 1, 19,  3],\n",
    "    \n",
    "    [ 1, 14, 15],\n",
    "    [ 1, 14,  0],\n",
    "    #\n",
    "    [13, 15, 16],\n",
    "    [15, 16, 18],\n",
    "    \n",
    "    [12, 14, 20],\n",
    "    [14, 22, 20],\n",
    "    \n",
    "    [23, 21,  6],\n",
    "    [ 6,  4, 21],\n",
    "    \n",
    "    [ 7, 19, 17],\n",
    "    [ 5,  7, 17],\n",
    "    #\n",
    "    [11, 16, 17],\n",
    "    [11,  9, 16],\n",
    "    \n",
    "    [8,  9, 13],\n",
    "    [13, 8, 12],\n",
    "    \n",
    "    [10, 4,  5],\n",
    "    [11, 5, 10],\n",
    "    \n",
    "    [10,  8, 21],\n",
    "    [20, 21,  8],\n",
    "])\n",
    "\n",
    "torch.div(edges, 4, rounding_mode='trunc')"
   ]
  },
  {
   "cell_type": "code",
   "execution_count": 15,
   "metadata": {},
   "outputs": [
    {
     "data": {
      "text/plain": [
       "([2, 22, 23],)"
      ]
     },
     "execution_count": 15,
     "metadata": {},
     "output_type": "execute_result"
    }
   ],
   "source": [
    "[ 0, 22,  2],\n",
    "[ 2, 22, 23],"
   ]
  },
  {
   "cell_type": "code",
   "execution_count": 16,
   "metadata": {},
   "outputs": [],
   "source": [
    "t2 = torch.tensor([    \n",
    "    [1, 3],\n",
    "    [0, 2],\n",
    "])\n",
    "t3 = torch.tensor([\n",
    "    [2, 5, 8],\n",
    "    [1, 4, 7],\n",
    "    [0, 3, 6],\n",
    "]) \n",
    "t4 = torch.tensor([\n",
    "    [3, 7, 11, 15],\n",
    "    [2, 6, 10, 14],\n",
    "    [1, 5,  9, 13],\n",
    "    [0, 4,  8, 12],    \n",
    "])\n",
    "t5 = torch.tensor([\n",
    "    [4, 9, 14, 19, 24],\n",
    "    [3, 8, 13, 18, 23],\n",
    "    [2, 7, 12, 17, 22],\n",
    "    [1, 6, 11, 16, 21],\n",
    "    [0, 5, 10, 15, 20],    \n",
    "])"
   ]
  },
  {
   "cell_type": "code",
   "execution_count": 45,
   "metadata": {},
   "outputs": [
    {
     "data": {
      "text/plain": [
       "tensor([[ 4,  9, 14, 19, 24],\n",
       "        [ 3,  8, 13, 18, 23],\n",
       "        [ 2,  7, 12, 17, 22],\n",
       "        [ 1,  6, 11, 16, 21],\n",
       "        [ 0,  5, 10, 15, 20]])"
      ]
     },
     "execution_count": 45,
     "metadata": {},
     "output_type": "execute_result"
    }
   ],
   "source": [
    "torch.arange(0, 25).reshape(5, 5).t().flip(dims=(0,))"
   ]
  },
  {
   "cell_type": "code",
   "execution_count": 46,
   "metadata": {},
   "outputs": [
    {
     "data": {
      "text/plain": [
       "tensor([[ 0,  1,  2,  3,  4],\n",
       "        [ 5,  6,  7,  8,  9],\n",
       "        [10, 11, 12, 13, 14],\n",
       "        [15, 16, 17, 18, 19],\n",
       "        [20, 21, 22, 23, 24]])"
      ]
     },
     "execution_count": 46,
     "metadata": {},
     "output_type": "execute_result"
    }
   ],
   "source": [
    "torch.arange(0, 25).reshape(5, 5)"
   ]
  },
  {
   "cell_type": "code",
   "execution_count": 23,
   "metadata": {},
   "outputs": [
    {
     "data": {
      "text/plain": [
       "tensor([[ 3, 15],\n",
       "        [ 0, 12]])"
      ]
     },
     "execution_count": 23,
     "metadata": {},
     "output_type": "execute_result"
    }
   ],
   "source": [
    "n = 4\n",
    "torch.tensor([\n",
    "    [n-1, n**2-1],\n",
    "    [  0, n**2-n],\n",
    "])"
   ]
  },
  {
   "cell_type": "code",
   "execution_count": 25,
   "metadata": {},
   "outputs": [
    {
     "data": {
      "text/plain": [
       "tensor([ 3,  7, 11, 15])"
      ]
     },
     "execution_count": 25,
     "metadata": {},
     "output_type": "execute_result"
    }
   ],
   "source": [
    "torch.arange(3, 16, n)"
   ]
  },
  {
   "cell_type": "code",
   "execution_count": 27,
   "metadata": {},
   "outputs": [
    {
     "data": {
      "text/plain": [
       "tensor([ 0,  4,  8, 12])"
      ]
     },
     "execution_count": 27,
     "metadata": {},
     "output_type": "execute_result"
    }
   ],
   "source": [
    "torch.arange(0, 13, n)"
   ]
  },
  {
   "cell_type": "code",
   "execution_count": 30,
   "metadata": {},
   "outputs": [
    {
     "data": {
      "text/plain": [
       "tensor([ 0,  4,  8, 12])"
      ]
     },
     "execution_count": 30,
     "metadata": {},
     "output_type": "execute_result"
    }
   ],
   "source": [
    "torch.arange(0, 13, n)"
   ]
  },
  {
   "cell_type": "code",
   "execution_count": 31,
   "metadata": {},
   "outputs": [
    {
     "data": {
      "text/plain": [
       "[0, 1, 14, 15]"
      ]
     },
     "execution_count": 31,
     "metadata": {},
     "output_type": "execute_result"
    }
   ],
   "source": [
    "[0, 1, 14, 15]"
   ]
  },
  {
   "cell_type": "code",
   "execution_count": null,
   "metadata": {},
   "outputs": [],
   "source": []
  }
 ],
 "metadata": {
  "kernelspec": {
   "display_name": "Python [conda env:pytorch3d_06] *",
   "language": "python",
   "name": "conda-env-pytorch3d_06-py"
  },
  "language_info": {
   "codemirror_mode": {
    "name": "ipython",
    "version": 3
   },
   "file_extension": ".py",
   "mimetype": "text/x-python",
   "name": "python",
   "nbconvert_exporter": "python",
   "pygments_lexer": "ipython3",
   "version": "3.8.11"
  }
 },
 "nbformat": 4,
 "nbformat_minor": 4
}
