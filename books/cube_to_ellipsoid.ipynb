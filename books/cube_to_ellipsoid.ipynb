{
 "cells": [
  {
   "cell_type": "code",
   "execution_count": 16,
   "metadata": {},
   "outputs": [],
   "source": [
    "from collections import OrderedDict\n",
    "import torch\n",
    "import torch.nn as nn\n",
    "import torch.nn.functional as F\n",
    "\n",
    "import trimesh\n",
    "\n",
    "from src.cleansed_cube import SourceCube, make_cube_faces, Mesh"
   ]
  },
  {
   "cell_type": "code",
   "execution_count": 2,
   "metadata": {},
   "outputs": [],
   "source": [
    "if False:\n",
    "    faces = make_cube_faces(n)\n",
    "    vertices = sphered.permute(0, 2, 3, 1).reshape(-1, 3)\n",
    "    f = './cube_sphere.stl'\n",
    "    mesh = trimesh.Trimesh(vertices=vertices, faces=faces)\n",
    "    mesh.export(f);"
   ]
  },
  {
   "cell_type": "code",
   "execution_count": 10,
   "metadata": {},
   "outputs": [],
   "source": [
    "def cube_to_sphere(bxyz):\n",
    "    x, y, z = bxyz[:, 0, :, :], bxyz[:, 1, :, :], bxyz[:, 2, :, :]\n",
    "    r = torch.sqrt(x**2 + y**2 + z**2)\n",
    "    x_angle = torch.atan2(y, x)\n",
    "    z_angle = torch.acos(z/r)\n",
    "    \n",
    "    r = torch.ones_like(x)\n",
    "    x = r * torch.sin(z_angle) * torch.cos(x_angle)\n",
    "    y = r * torch.sin(z_angle) * torch.sin(x_angle)\n",
    "    z = r * torch.cos(z_angle)        \n",
    "    return torch.stack((x, y, z), dim=1)   \n",
    "\n",
    "def make_cube_sides(n, r=0.5, stacked=False):\n",
    "    start, end =  -r, +r\n",
    "    d1, d2 = torch.meshgrid(\n",
    "        torch.linspace(start, end, steps=n),\n",
    "        torch.linspace(start, end, steps=n))\n",
    "    d3 = torch.full_like(d1, end) + 1 / n\n",
    "    sides = OrderedDict({\n",
    "        'front': torch.stack((+d3,  d1,  d2), dim=0),\n",
    "        'right': torch.stack(( d1, +d3,  d2), dim=0),    \n",
    "        'back' : torch.stack((-d3,  d1,  d2), dim=0),         \n",
    "        'left' : torch.stack(( d1, -d3,  d2), dim=0),\n",
    "        'top'  : torch.stack(( d1,  d2, +d3), dim=0),\n",
    "        'down' : torch.stack(( d1,  d2, -d3), dim=0),\n",
    "    })\n",
    "    if stacked:\n",
    "        return torch.stack([p for p in sides.values()])\n",
    "    return sides\n",
    "\n",
    "def to_vertices(t):\n",
    "    return t.permute(0, 2, 3, 1).reshape(-1, 3)\n",
    "\n",
    "class SourceCube(nn.Module):\n",
    "    def __init__(self, n):\n",
    "        super(SourceCube, self).__init__()        \n",
    "        stacked = make_sides(n, stacked=True)         \n",
    "        sphered = cube_to_sphere(stacked)\n",
    "        vertices = sphered.permute(0, 2, 3, 1).reshape(-1, 3)\n",
    "        self.register_buffer('vertices', vertices)\n",
    "        self.register_buffer('faces', make_cube_faces(n).int())\n",
    "        self.register_buffer('colors', torch.ones_like(vertices) * 0.5)\n",
    "\n",
    "    def to_homogeneous(_, t):\n",
    "        return torch.cat((t,\n",
    "            torch.ones(t.size(0), 1, device=t.device)), dim=-1)\n",
    "\n",
    "    def forward(self, deform_verts):\n",
    "        vert = self.vertices + deform_verts\n",
    "        pos = self.to_homogeneous(vert)[None]\n",
    "        return Mesh(pos, self.faces, self.colors)"
   ]
  },
  {
   "cell_type": "code",
   "execution_count": 6,
   "metadata": {},
   "outputs": [
    {
     "data": {
      "text/plain": [
       "torch.Size([6, 3, 8, 8])"
      ]
     },
     "execution_count": 6,
     "metadata": {},
     "output_type": "execute_result"
    }
   ],
   "source": [
    "n = 8\n",
    "faces = make_cube_faces(n)\n",
    "stacked = make_sides(n, stacked=True)\n",
    "stacked.shape"
   ]
  },
  {
   "cell_type": "code",
   "execution_count": 15,
   "metadata": {},
   "outputs": [],
   "source": [
    "def cube_to_ellipsoid(bxyz, rs):    \n",
    "    x, y, z = bxyz[:, 0, :, :], bxyz[:, 1, :, :], bxyz[:, 2, :, :]\n",
    "    r = torch.sqrt(x**2 + y**2 + z**2)\n",
    "    x_angle = torch.atan2(y, x)\n",
    "    z_angle = torch.acos(z/r)\n",
    "    \n",
    "    r = torch.ones_like(x)\n",
    "    x = rs[0] * torch.sin(z_angle) * torch.cos(x_angle)\n",
    "    y = rs[1] * torch.sin(z_angle) * torch.sin(x_angle)\n",
    "    z = rs[2] * torch.cos(z_angle) \n",
    "    return torch.stack((x, y, z), dim=1)\n",
    "\n",
    "def get_xz_angles(bxyz):\n",
    "    x, y, z = bxyz[:, 0, :, :], bxyz[:, 1, :, :], bxyz[:, 2, :, :]\n",
    "    r = torch.sqrt(x**2 + y**2 + z**2)\n",
    "    x_angle = torch.atan2(y, x)\n",
    "    z_angle = torch.acos(z/r)\n",
    "    return x_angle, z_angle\n",
    "\n",
    "def get_ellipsoidal(x_angle, z_angle, rs):\n",
    "    x = rs[0] * torch.sin(z_angle) * torch.cos(x_angle)\n",
    "    y = rs[1] * torch.sin(z_angle) * torch.sin(x_angle)\n",
    "    z = rs[2] * torch.cos(z_angle) \n",
    "    return torch.stack((x, y, z), dim=1)\n",
    "\n",
    "\n",
    "rs = [0.9, 0.6, 0.3]\n",
    "x_angle, z_angle = get_xz_angles(stacked)\n",
    "ellipsoidal = get_ellipsoidal(x_angle, z_angle, rs)\n",
    "\n",
    "faces = make_cube_faces(n)\n",
    "vertices = to_vertices(ellipsoidal)\n",
    "f = f'./cube_ellipsoid_{n}.stl'\n",
    "mesh = trimesh.Trimesh(vertices=vertices, faces=faces)\n",
    "mesh.export(f);"
   ]
  },
  {
   "cell_type": "code",
   "execution_count": 24,
   "metadata": {
    "scrolled": true
   },
   "outputs": [],
   "source": [
    "def get_xz_angles(bxyz):\n",
    "    x, y, z = bxyz[:, 0, :, :], bxyz[:, 1, :, :], bxyz[:, 2, :, :]\n",
    "    r = torch.sqrt(x**2 + y**2 + z**2)\n",
    "    x_angle = torch.atan2(y, x)\n",
    "    z_angle = torch.acos(z/r)\n",
    "    return x_angle, z_angle\n",
    "\n",
    "def get_ellipsoidal(x_angle, z_angle, rs):\n",
    "    x = rs[0] * torch.sin(z_angle) * torch.cos(x_angle)\n",
    "    y = rs[1] * torch.sin(z_angle) * torch.sin(x_angle)\n",
    "    z = rs[2] * torch.cos(z_angle) \n",
    "    return torch.stack((x, y, z), dim=1)\n",
    "\n",
    "class Ellipsoid(nn.Module):\n",
    "    def __init__(self, n):\n",
    "        super(Ellipsoid, self).__init__()        \n",
    "        stacked = make_sides(n, stacked=True)         \n",
    "        x_angle, z_angle = get_xz_angles(stacked)        \n",
    "        self.register_buffer('x_angle', x_angle)\n",
    "        self.register_buffer('z_angle', z_angle)\n",
    "        self.register_buffer('faces', make_cube_faces(n).int())\n",
    "        self.register_buffer('colors', torch.ones_like(vertices) * 0.5)\n",
    "\n",
    "\n",
    "    def forward(self, rs):\n",
    "        ellipsoidal = get_ellipsoidal(self.x_angle, self.z_angle, rs)        \n",
    "        vert = to_vertices(ellipsoidal)\n",
    "        return Mesh(vert, self.faces, self.colors)\n",
    "    \n",
    "n = 16\n",
    "ellipsoid = Ellipsoid(n)\n",
    "v, f, c = ellipsoid(rs)     \n",
    "filename = f'./cube_ellipsoid_{n}.stl'\n",
    "mesh = trimesh.Trimesh(vertices=v, faces=f)\n",
    "mesh.export(filename);"
   ]
  },
  {
   "cell_type": "code",
   "execution_count": 21,
   "metadata": {},
   "outputs": [
    {
     "ename": "AttributeError",
     "evalue": "'str' object has no attribute 'shape'",
     "output_type": "error",
     "traceback": [
      "\u001b[0;31m---------------------------------------------------------------------------\u001b[0m",
      "\u001b[0;31mAttributeError\u001b[0m                            Traceback (most recent call last)",
      "\u001b[0;32m<ipython-input-21-6dc9c6b85aa4>\u001b[0m in \u001b[0;36m<module>\u001b[0;34m\u001b[0m\n\u001b[0;32m----> 1\u001b[0;31m \u001b[0mv\u001b[0m\u001b[0;34m.\u001b[0m\u001b[0mshape\u001b[0m\u001b[0;34m,\u001b[0m \u001b[0mf\u001b[0m\u001b[0;34m.\u001b[0m\u001b[0mshape\u001b[0m\u001b[0;34m\u001b[0m\u001b[0;34m\u001b[0m\u001b[0m\n\u001b[0m",
      "\u001b[0;31mAttributeError\u001b[0m: 'str' object has no attribute 'shape'"
     ]
    }
   ],
   "source": [
    "v.shape, f.shape"
   ]
  },
  {
   "cell_type": "code",
   "execution_count": 23,
   "metadata": {},
   "outputs": [
    {
     "data": {
      "text/plain": [
       "'./cube_ellipsoid_16.stl'"
      ]
     },
     "execution_count": 23,
     "metadata": {},
     "output_type": "execute_result"
    }
   ],
   "source": [
    "f"
   ]
  },
  {
   "cell_type": "code",
   "execution_count": null,
   "metadata": {},
   "outputs": [],
   "source": []
  }
 ],
 "metadata": {
  "kernelspec": {
   "display_name": "Python [conda env:nicolet] *",
   "language": "python",
   "name": "conda-env-nicolet-py"
  },
  "language_info": {
   "codemirror_mode": {
    "name": "ipython",
    "version": 3
   },
   "file_extension": ".py",
   "mimetype": "text/x-python",
   "name": "python",
   "nbconvert_exporter": "python",
   "pygments_lexer": "ipython3",
   "version": "3.7.11"
  }
 },
 "nbformat": 4,
 "nbformat_minor": 2
}
