{
 "cells": [
  {
   "cell_type": "code",
   "execution_count": 1,
   "metadata": {},
   "outputs": [],
   "source": [
    "from collections import OrderedDict\n",
    "\n",
    "import torch\n",
    "import torch.nn as nn\n",
    "import torch.nn.functional as F\n",
    "\n",
    "torch.set_printoptions(\n",
    "    precision=1,    \n",
    "    sci_mode=False)"
   ]
  },
  {
   "cell_type": "code",
   "execution_count": 2,
   "metadata": {
    "scrolled": true
   },
   "outputs": [
    {
     "data": {
      "text/plain": [
       "OrderedDict([('front',\n",
       "              tensor([[[ 1.0, -0.5, -0.5],\n",
       "                       [ 1.0, -0.5,  0.5]],\n",
       "              \n",
       "                      [[ 1.0,  0.5, -0.5],\n",
       "                       [ 1.0,  0.5,  0.5]]])),\n",
       "             ('right',\n",
       "              tensor([[[-0.5,  1.0, -0.5],\n",
       "                       [-0.5,  1.0,  0.5]],\n",
       "              \n",
       "                      [[ 0.5,  1.0, -0.5],\n",
       "                       [ 0.5,  1.0,  0.5]]])),\n",
       "             ('back',\n",
       "              tensor([[[-1.0, -0.5, -0.5],\n",
       "                       [-1.0, -0.5,  0.5]],\n",
       "              \n",
       "                      [[-1.0,  0.5, -0.5],\n",
       "                       [-1.0,  0.5,  0.5]]])),\n",
       "             ('left',\n",
       "              tensor([[[-0.5, -1.0, -0.5],\n",
       "                       [-0.5, -1.0,  0.5]],\n",
       "              \n",
       "                      [[ 0.5, -1.0, -0.5],\n",
       "                       [ 0.5, -1.0,  0.5]]])),\n",
       "             ('top',\n",
       "              tensor([[[-0.5, -0.5,  1.0],\n",
       "                       [-0.5,  0.5,  1.0]],\n",
       "              \n",
       "                      [[ 0.5, -0.5,  1.0],\n",
       "                       [ 0.5,  0.5,  1.0]]])),\n",
       "             ('down',\n",
       "              tensor([[[-0.5, -0.5, -1.0],\n",
       "                       [-0.5,  0.5, -1.0]],\n",
       "              \n",
       "                      [[ 0.5, -0.5, -1.0],\n",
       "                       [ 0.5,  0.5, -1.0]]]))])"
      ]
     },
     "execution_count": 2,
     "metadata": {},
     "output_type": "execute_result"
    }
   ],
   "source": [
    "n, start, end = 2, -0.5, 0.5\n",
    "\n",
    "d1, d2 = torch.meshgrid(\n",
    "        torch.linspace(start, end, steps=n),\n",
    "        torch.linspace(start, end, steps=n))\n",
    "d3 = torch.full_like(d1, end) + 1 / n\n",
    "sides =  OrderedDict({\n",
    "    'front': torch.stack((+d3,  d1,  d2), dim=-1),\n",
    "    'right': torch.stack(( d1, +d3,  d2), dim=-1),    \n",
    "    'back' : torch.stack((-d3,  d1,  d2), dim=-1),         \n",
    "    'left' : torch.stack(( d1, -d3,  d2), dim=-1),\n",
    "    'top'  : torch.stack(( d1,  d2, +d3), dim=-1),\n",
    "    'down' : torch.stack(( d1,  d2, -d3), dim=-1),\n",
    "})\n",
    "\n",
    "sides"
   ]
  },
  {
   "cell_type": "code",
   "execution_count": 3,
   "metadata": {},
   "outputs": [
    {
     "data": {
      "text/plain": [
       "(tensor([[0, 1],\n",
       "         [2, 3]]),\n",
       " tensor([[10, 11],\n",
       "         [12, 13]]),\n",
       " tensor([[20, 21],\n",
       "         [22, 23]]),\n",
       " tensor([[30, 31],\n",
       "         [32, 33]]),\n",
       " tensor([[40, 41],\n",
       "         [42, 43]]),\n",
       " tensor([[50, 51],\n",
       "         [52, 53]]))"
      ]
     },
     "execution_count": 3,
     "metadata": {},
     "output_type": "execute_result"
    }
   ],
   "source": [
    "t0 = torch.arange(0, 4, 1).reshape(2, 2)\n",
    "t1 = t0 + 10\n",
    "t2 = t0 + 20\n",
    "t3 = t0 + 30\n",
    "t4 = t0 + 40\n",
    "t5 = t0 + 50\n",
    "\n",
    "t0, t1, t2, t3, t4, t5"
   ]
  },
  {
   "cell_type": "code",
   "execution_count": 4,
   "metadata": {},
   "outputs": [
    {
     "data": {
      "text/plain": [
       "tensor([[30, 31],\n",
       "        [32, 33],\n",
       "        [ 0,  1],\n",
       "        [ 2,  3],\n",
       "        [10, 11],\n",
       "        [12, 13]])"
      ]
     },
     "execution_count": 4,
     "metadata": {},
     "output_type": "execute_result"
    }
   ],
   "source": [
    "torch.cat((t3, t0, t1))"
   ]
  },
  {
   "cell_type": "code",
   "execution_count": 5,
   "metadata": {},
   "outputs": [
    {
     "data": {
      "text/plain": [
       "{'front': ['left', 'right', 'top', 'bottom'],\n",
       " 'right': ['front', 'back', 'top', 'bottom'],\n",
       " 'back': ['right', 'left', 'top', 'bottom'],\n",
       " 'left': ['back', 'front', 'top', 'bottom'],\n",
       " 'top': ['left', 'right', 'back', 'front'],\n",
       " 'bottom': ['left', 'right', 'front', 'back']}"
      ]
     },
     "execution_count": 5,
     "metadata": {},
     "output_type": "execute_result"
    }
   ],
   "source": [
    "pad_map = {    \n",
    "    'front': ['left', 'right', 'top', 'bottom'],\n",
    "    'right': ['front', 'back', 'top', 'bottom'],\n",
    "    'back': ['right', 'left', 'top', 'bottom'],\n",
    "    'left': ['back', 'front', 'top', 'bottom'],\n",
    "    'top': ['left', 'right', 'back', 'front'],\n",
    "    'bottom': ['left', 'right', 'front', 'back'],\n",
    "}\n",
    "pad_map"
   ]
  },
  {
   "cell_type": "code",
   "execution_count": 6,
   "metadata": {},
   "outputs": [
    {
     "data": {
      "text/plain": [
       "2"
      ]
     },
     "execution_count": 6,
     "metadata": {},
     "output_type": "execute_result"
    }
   ],
   "source": [
    "kernel = 5 \n",
    "pad_size = (kernel - 1) // 2\n",
    "pad_size"
   ]
  },
  {
   "cell_type": "code",
   "execution_count": 7,
   "metadata": {},
   "outputs": [
    {
     "data": {
      "text/plain": [
       "tensor([[0.5, 0.0],\n",
       "        [0.0, 0.5]])"
      ]
     },
     "execution_count": 7,
     "metadata": {},
     "output_type": "execute_result"
    }
   ],
   "source": [
    "torch.eye(2) * 0.5"
   ]
  },
  {
   "cell_type": "code",
   "execution_count": 10,
   "metadata": {},
   "outputs": [
    {
     "data": {
      "text/plain": [
       "(tensor([[0.5, 0.0, 0.0],\n",
       "         [1.0, 0.5, 0.0],\n",
       "         [1.0, 1.0, 0.5]]),\n",
       " tensor([[0.5, 1.0, 1.0],\n",
       "         [0.0, 0.5, 1.0],\n",
       "         [0.0, 0.0, 0.5]]))"
      ]
     },
     "execution_count": 10,
     "metadata": {},
     "output_type": "execute_result"
    }
   ],
   "source": [
    "top_left = torch.triu(torch.ones(3, 3)) - (torch.eye(3)* 0.5)\n",
    "left_top = top_left.t() \n",
    "top_left, left_top\n",
    "\n",
    "top_right = top_left.flip(dims=(0,)).t()\n",
    "right_top = left_top.flip(dims=(0,)).t()\n",
    "top_right, right_top\n",
    "\n",
    "down_right = torch.tril(torch.ones(3, 3)) - (torch.eye(3)* 0.5)\n",
    "right_down = down_right.t()\n",
    "down_right, right_down"
   ]
  },
  {
   "cell_type": "code",
   "execution_count": 11,
   "metadata": {},
   "outputs": [
    {
     "data": {
      "text/plain": [
       "[torch.Size([2, 1, 3]),\n",
       " torch.Size([2, 1, 3]),\n",
       " torch.Size([1, 2, 3]),\n",
       " torch.Size([1, 2, 3])]"
      ]
     },
     "execution_count": 11,
     "metadata": {},
     "output_type": "execute_result"
    }
   ],
   "source": [
    "def get_neighbors(sides,  side_name, size):    \n",
    "    pad_map = {    \n",
    "        'front': ['left', 'right', 'top', 'down'],\n",
    "        'right': ['front', 'back', 'top', 'down'],\n",
    "        'back': ['right', 'left', 'top', 'down'],\n",
    "        'left': ['back', 'front', 'top', 'down'],\n",
    "        'top': ['left', 'right', 'back', 'front'],\n",
    "        'down': ['left', 'right', 'front', 'back'],\n",
    "    }\n",
    "    l, r, t, d = [sides[n] for n in pad_map[side_name]]\n",
    "    return [\n",
    "        l[:, -size:, :],\n",
    "        r[:, :size, :],\n",
    "        t[-size:, :, :],\n",
    "        d[:size, :, :],\n",
    "    ]\n",
    "[p.shape for p in get_neighbors(sides,  'front', 1)]"
   ]
  },
  {
   "cell_type": "code",
   "execution_count": 47,
   "metadata": {},
   "outputs": [
    {
     "name": "stdout",
     "output_type": "stream",
     "text": [
      "tl\n",
      "tensor([[0.5, 1.0, 1.0],\n",
      "        [0.0, 0.5, 1.0],\n",
      "        [0.0, 0.0, 0.5]])\n",
      "lt\n",
      "tensor([[0.5, 0.0, 0.0],\n",
      "        [1.0, 0.5, 0.0],\n",
      "        [1.0, 1.0, 0.5]])\n",
      "tr\n",
      "tensor([[1.0, 1.0, 0.5],\n",
      "        [1.0, 0.5, 0.0],\n",
      "        [0.5, 0.0, 0.0]])\n",
      "rt\n",
      "tensor([[0.0, 0.0, 0.5],\n",
      "        [0.0, 0.5, 1.0],\n",
      "        [0.5, 1.0, 1.0]])\n",
      "dr\n",
      "tensor([[0.5, 1.0, 1.0],\n",
      "        [0.0, 0.5, 1.0],\n",
      "        [0.0, 0.0, 0.5]])\n",
      "rd\n",
      "tensor([[0.5, 0.0, 0.0],\n",
      "        [1.0, 0.5, 0.0],\n",
      "        [1.0, 1.0, 0.5]])\n",
      "ld\n",
      "tensor([[1.0, 1.0, 0.5],\n",
      "        [1.0, 0.5, 0.0],\n",
      "        [0.5, 0.0, 0.0]])\n",
      "dl\n",
      "tensor([[0.0, 0.0, 0.5],\n",
      "        [0.0, 0.5, 1.0],\n",
      "        [0.5, 1.0, 1.0]])\n"
     ]
    }
   ],
   "source": [
    "def make_tris(size):\n",
    "    tl = torch.triu(torch.ones(size, size)) - (torch.eye(size) * 0.5)\n",
    "    dr = torch.tril(torch.ones(size, size)) - (torch.eye(size) * 0.5)    \n",
    "    return {\n",
    "        'tl': tl,\n",
    "        'lt': tl.t().clone(),        \n",
    "        'tr': tl.t().flip(dims=(0,)).t(),\n",
    "        'rt': tl.flip(dims=(0,)).t(),\n",
    "        'dr': dr.t(),\n",
    "        'rd': dr,\n",
    "        'ld': dr.flip(dims=(0,)).t(),\n",
    "        'dl': dr.t().flip(dims=(0,)).t(),        \n",
    "    }\n",
    "tris = make_tris(3)\n",
    "for key in tris:\n",
    "    print(key)\n",
    "    print(tris[key])\n",
    "    "
   ]
  },
  {
   "cell_type": "code",
   "execution_count": 40,
   "metadata": {},
   "outputs": [
    {
     "data": {
      "text/plain": [
       "[torch.Size([1, 1, 3]),\n",
       " torch.Size([1, 1, 3]),\n",
       " torch.Size([1, 1, 3]),\n",
       " torch.Size([1, 1, 3])]"
      ]
     },
     "execution_count": 40,
     "metadata": {},
     "output_type": "execute_result"
    }
   ],
   "source": [
    "# lt t tr\n",
    "# l  o r\n",
    "# lb b br\n",
    "\n",
    "# lt/tl tr/rt\n",
    "# ld/dl dr/rd\n",
    "def get_corners(size, l, r, t, d):\n",
    "    tris = make_tris(size)\n",
    "    lt = l[-size:, :, :] * tris['lt']\n",
    "    tl = t[:, -size:, :] * tris['tl']\n",
    "    \n",
    "    tr = t[:, :size, :] * tris['tr']\n",
    "    rt = r[-size:, :, :] * tris['rt']\n",
    "    \n",
    "    ld = l[:size, :, :] * tris['ld']\n",
    "    dl = d[:, -size:, :] * tris['dl']\n",
    "        \n",
    "    rd = r[:size, :, :] * tris['rd']\n",
    "    dr = d[:, :size, :] * tris['dr']\n",
    "    \n",
    "    ltc = lt + tl\n",
    "    trc = tr + rt\n",
    "    ldc = ld + dl\n",
    "    drc = dr + rd\n",
    "    return ltc, trc, ldc, drc\n",
    "\n",
    "side_name, kernel_size = 'front', 3\n",
    "size = (kernel_size - 1) // 2\n",
    "o = sides[side_name]\n",
    "l, r, t, d = get_neighbors(sides, side_name, size)\n",
    "lt, tr, ld, dr = get_corners(size, l, r, t, n)\n",
    "[p.shape for p in get_corners(size, l, r, t, d)]"
   ]
  },
  {
   "cell_type": "code",
   "execution_count": 53,
   "metadata": {},
   "outputs": [
    {
     "ename": "RuntimeError",
     "evalue": "The size of tensor a (3) must match the size of tensor b (2) at non-singleton dimension 2",
     "output_type": "error",
     "traceback": [
      "\u001b[0;31m---------------------------------------------------------------------------\u001b[0m",
      "\u001b[0;31mRuntimeError\u001b[0m                              Traceback (most recent call last)",
      "\u001b[0;32m<ipython-input-53-f850dc32d707>\u001b[0m in \u001b[0;36m<module>\u001b[0;34m\u001b[0m\n\u001b[1;32m     14\u001b[0m     \u001b[0;32mreturn\u001b[0m \u001b[0mtorch\u001b[0m\u001b[0;34m.\u001b[0m\u001b[0mcat\u001b[0m\u001b[0;34m(\u001b[0m\u001b[0;34m(\u001b[0m\u001b[0mtop\u001b[0m\u001b[0;34m,\u001b[0m \u001b[0mmiddle\u001b[0m\u001b[0;34m,\u001b[0m \u001b[0mdown\u001b[0m\u001b[0;34m)\u001b[0m\u001b[0;34m,\u001b[0m \u001b[0mdim\u001b[0m\u001b[0;34m=\u001b[0m\u001b[0;36m0\u001b[0m\u001b[0;34m)\u001b[0m\u001b[0;34m\u001b[0m\u001b[0;34m\u001b[0m\u001b[0m\n\u001b[1;32m     15\u001b[0m \u001b[0;34m\u001b[0m\u001b[0m\n\u001b[0;32m---> 16\u001b[0;31m \u001b[0mpad_side\u001b[0m\u001b[0;34m(\u001b[0m\u001b[0msides\u001b[0m\u001b[0;34m,\u001b[0m \u001b[0;34m'left'\u001b[0m\u001b[0;34m,\u001b[0m \u001b[0;36m5\u001b[0m\u001b[0;34m)\u001b[0m\u001b[0;34m.\u001b[0m\u001b[0mshape\u001b[0m\u001b[0;34m\u001b[0m\u001b[0;34m\u001b[0m\u001b[0m\n\u001b[0m",
      "\u001b[0;32m<ipython-input-53-f850dc32d707>\u001b[0m in \u001b[0;36mpad_side\u001b[0;34m(sides, side_name, kernel_size)\u001b[0m\n\u001b[1;32m      6\u001b[0m     \u001b[0msize\u001b[0m \u001b[0;34m=\u001b[0m \u001b[0;34m(\u001b[0m\u001b[0mkernel_size\u001b[0m \u001b[0;34m-\u001b[0m \u001b[0;36m1\u001b[0m\u001b[0;34m)\u001b[0m \u001b[0;34m//\u001b[0m \u001b[0;36m2\u001b[0m\u001b[0;34m\u001b[0m\u001b[0;34m\u001b[0m\u001b[0m\n\u001b[1;32m      7\u001b[0m     \u001b[0ml\u001b[0m\u001b[0;34m,\u001b[0m \u001b[0mr\u001b[0m\u001b[0;34m,\u001b[0m \u001b[0mt\u001b[0m\u001b[0;34m,\u001b[0m \u001b[0mn\u001b[0m \u001b[0;34m=\u001b[0m \u001b[0mget_neighbors\u001b[0m\u001b[0;34m(\u001b[0m\u001b[0msides\u001b[0m\u001b[0;34m,\u001b[0m \u001b[0mside_name\u001b[0m\u001b[0;34m,\u001b[0m \u001b[0msize\u001b[0m\u001b[0;34m)\u001b[0m\u001b[0;34m\u001b[0m\u001b[0;34m\u001b[0m\u001b[0m\n\u001b[0;32m----> 8\u001b[0;31m     \u001b[0mlt\u001b[0m\u001b[0;34m,\u001b[0m \u001b[0mtr\u001b[0m\u001b[0;34m,\u001b[0m \u001b[0mlb\u001b[0m\u001b[0;34m,\u001b[0m \u001b[0mbr\u001b[0m \u001b[0;34m=\u001b[0m \u001b[0mget_corners\u001b[0m\u001b[0;34m(\u001b[0m\u001b[0msize\u001b[0m\u001b[0;34m,\u001b[0m \u001b[0ml\u001b[0m\u001b[0;34m,\u001b[0m \u001b[0mr\u001b[0m\u001b[0;34m,\u001b[0m \u001b[0mt\u001b[0m\u001b[0;34m,\u001b[0m \u001b[0mn\u001b[0m\u001b[0;34m)\u001b[0m\u001b[0;34m\u001b[0m\u001b[0;34m\u001b[0m\u001b[0m\n\u001b[0m\u001b[1;32m      9\u001b[0m \u001b[0;34m\u001b[0m\u001b[0m\n\u001b[1;32m     10\u001b[0m     \u001b[0mtop\u001b[0m \u001b[0;34m=\u001b[0m \u001b[0mtorch\u001b[0m\u001b[0;34m.\u001b[0m\u001b[0mcat\u001b[0m\u001b[0;34m(\u001b[0m\u001b[0;34m(\u001b[0m\u001b[0mlt\u001b[0m\u001b[0;34m,\u001b[0m \u001b[0mt\u001b[0m\u001b[0;34m,\u001b[0m \u001b[0mtr\u001b[0m\u001b[0;34m)\u001b[0m\u001b[0;34m,\u001b[0m \u001b[0mdim\u001b[0m\u001b[0;34m=\u001b[0m\u001b[0;36m1\u001b[0m\u001b[0;34m)\u001b[0m\u001b[0;34m\u001b[0m\u001b[0;34m\u001b[0m\u001b[0m\n",
      "\u001b[0;32m<ipython-input-40-6bd5d128b29e>\u001b[0m in \u001b[0;36mget_corners\u001b[0;34m(size, l, r, t, d)\u001b[0m\n\u001b[1;32m      7\u001b[0m \u001b[0;32mdef\u001b[0m \u001b[0mget_corners\u001b[0m\u001b[0;34m(\u001b[0m\u001b[0msize\u001b[0m\u001b[0;34m,\u001b[0m \u001b[0ml\u001b[0m\u001b[0;34m,\u001b[0m \u001b[0mr\u001b[0m\u001b[0;34m,\u001b[0m \u001b[0mt\u001b[0m\u001b[0;34m,\u001b[0m \u001b[0md\u001b[0m\u001b[0;34m)\u001b[0m\u001b[0;34m:\u001b[0m\u001b[0;34m\u001b[0m\u001b[0;34m\u001b[0m\u001b[0m\n\u001b[1;32m      8\u001b[0m     \u001b[0mtris\u001b[0m \u001b[0;34m=\u001b[0m \u001b[0mmake_tris\u001b[0m\u001b[0;34m(\u001b[0m\u001b[0msize\u001b[0m\u001b[0;34m)\u001b[0m\u001b[0;34m\u001b[0m\u001b[0;34m\u001b[0m\u001b[0m\n\u001b[0;32m----> 9\u001b[0;31m     \u001b[0mlt\u001b[0m \u001b[0;34m=\u001b[0m \u001b[0ml\u001b[0m\u001b[0;34m[\u001b[0m\u001b[0;34m-\u001b[0m\u001b[0msize\u001b[0m\u001b[0;34m:\u001b[0m\u001b[0;34m,\u001b[0m \u001b[0;34m:\u001b[0m\u001b[0;34m,\u001b[0m \u001b[0;34m:\u001b[0m\u001b[0;34m]\u001b[0m \u001b[0;34m*\u001b[0m \u001b[0mtris\u001b[0m\u001b[0;34m[\u001b[0m\u001b[0;34m'lt'\u001b[0m\u001b[0;34m]\u001b[0m\u001b[0;34m\u001b[0m\u001b[0;34m\u001b[0m\u001b[0m\n\u001b[0m\u001b[1;32m     10\u001b[0m     \u001b[0mtl\u001b[0m \u001b[0;34m=\u001b[0m \u001b[0mt\u001b[0m\u001b[0;34m[\u001b[0m\u001b[0;34m:\u001b[0m\u001b[0;34m,\u001b[0m \u001b[0;34m-\u001b[0m\u001b[0msize\u001b[0m\u001b[0;34m:\u001b[0m\u001b[0;34m,\u001b[0m \u001b[0;34m:\u001b[0m\u001b[0;34m]\u001b[0m \u001b[0;34m*\u001b[0m \u001b[0mtris\u001b[0m\u001b[0;34m[\u001b[0m\u001b[0;34m'tl'\u001b[0m\u001b[0;34m]\u001b[0m\u001b[0;34m\u001b[0m\u001b[0;34m\u001b[0m\u001b[0m\n\u001b[1;32m     11\u001b[0m \u001b[0;34m\u001b[0m\u001b[0m\n",
      "\u001b[0;31mRuntimeError\u001b[0m: The size of tensor a (3) must match the size of tensor b (2) at non-singleton dimension 2"
     ]
    }
   ],
   "source": [
    "# lt t tr\n",
    "# l  o r\n",
    "# lb b br\n",
    "def pad_side(sides, side_name, kernel_size):\n",
    "    o = sides[side_name]\n",
    "    size = (kernel_size - 1) // 2\n",
    "    l, r, t, n = get_neighbors(sides, side_name, size)\n",
    "    lt, tr, lb, br = get_corners(size, l, r, t, n)\n",
    "\n",
    "    top = torch.cat((lt, t, tr), dim=1)\n",
    "    down = torch.cat((ld, d, dr), dim=1)\n",
    "    middle = torch.cat((l, o, r), dim=1)\n",
    "    \n",
    "    return torch.cat((top, middle, down), dim=0)\n",
    "    \n",
    "pad_side(sides, 'left', 5).shape"
   ]
  },
  {
   "cell_type": "code",
   "execution_count": 52,
   "metadata": {},
   "outputs": [
    {
     "data": {
      "text/plain": [
       "torch.Size([2, 2, 3])"
      ]
     },
     "execution_count": 52,
     "metadata": {},
     "output_type": "execute_result"
    }
   ],
   "source": [
    "sides['left'].shape"
   ]
  },
  {
   "cell_type": "code",
   "execution_count": 36,
   "metadata": {},
   "outputs": [
    {
     "data": {
      "text/plain": [
       "{'tl': tensor([[0.5]]),\n",
       " 'lt': tensor([[0.5]]),\n",
       " 'tr': tensor([[0.5]]),\n",
       " 'rt': tensor([[0.5]]),\n",
       " 'dr': tensor([[0.5]]),\n",
       " 'rd': tensor([[0.5]]),\n",
       " 'lb': tensor([[0.5]]),\n",
       " 'bl': tensor([[0.5]])}"
      ]
     },
     "execution_count": 36,
     "metadata": {},
     "output_type": "execute_result"
    }
   ],
   "source": []
  },
  {
   "cell_type": "code",
   "execution_count": null,
   "metadata": {},
   "outputs": [],
   "source": []
  }
 ],
 "metadata": {
  "kernelspec": {
   "display_name": "Python [conda env:pytorch3d_06] *",
   "language": "python",
   "name": "conda-env-pytorch3d_06-py"
  },
  "language_info": {
   "codemirror_mode": {
    "name": "ipython",
    "version": 3
   },
   "file_extension": ".py",
   "mimetype": "text/x-python",
   "name": "python",
   "nbconvert_exporter": "python",
   "pygments_lexer": "ipython3",
   "version": "3.8.11"
  }
 },
 "nbformat": 4,
 "nbformat_minor": 4
}
