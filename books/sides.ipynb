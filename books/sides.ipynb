{
 "cells": [
  {
   "cell_type": "code",
   "execution_count": 1,
   "metadata": {},
   "outputs": [],
   "source": [
    "import torch\n",
    "import torch.nn as nn\n",
    "\n",
    "from src.util import make_faces"
   ]
  },
  {
   "cell_type": "code",
   "execution_count": 5,
   "metadata": {
    "scrolled": true
   },
   "outputs": [
    {
     "data": {
      "text/plain": [
       "torch.Size([48, 3])"
      ]
     },
     "execution_count": 5,
     "metadata": {},
     "output_type": "execute_result"
    }
   ],
   "source": [
    "n = 3 \n",
    "start = -0.5\n",
    "end = 0.5\n",
    "\n",
    "d1, d2 = torch.meshgrid(\n",
    "    torch.linspace(start, end, steps=n), \n",
    "    torch.linspace(start, end, steps=n))\n",
    "d3 = torch.full_like(d1, end)\n",
    "sides = {\n",
    "    'front': torch.stack((+d3,  d1,  d2), dim=-1),\n",
    "    'back' : torch.stack((-d3,  d1,  d2), dim=-1),            \n",
    "    'left' : torch.stack(( d1, +d3,  d2), dim=-1),\n",
    "    'right': torch.stack(( d1, -d3,  d2), dim=-1),\n",
    "    #'top'  : torch.stack(( d1,  d2, +d3), dim=-1),\n",
    "    #'down' : torch.stack(( d1,  d2, -d3), dim=-1),\n",
    "}\n",
    "vert = torch.stack(list(sides.values())).reshape(-1, 3)\n",
    "offset, faces = n ** 2, make_faces(n, n)\n",
    "faces = torch.cat([\n",
    "    i * offset + torch.tensor(faces)\n",
    "    for i in range(6)])\n",
    "#textures = TexturesVertex(verts_features=[torch.ones_like(vert)])\n",
    "faces.shape"
   ]
  },
  {
   "cell_type": "code",
   "execution_count": null,
   "metadata": {},
   "outputs": [],
   "source": [
    "# n * 4, n \n"
   ]
  }
 ],
 "metadata": {
  "kernelspec": {
   "display_name": "Python [conda env:pytorch3d_06] *",
   "language": "python",
   "name": "conda-env-pytorch3d_06-py"
  },
  "language_info": {
   "codemirror_mode": {
    "name": "ipython",
    "version": 3
   },
   "file_extension": ".py",
   "mimetype": "text/x-python",
   "name": "python",
   "nbconvert_exporter": "python",
   "pygments_lexer": "ipython3",
   "version": "3.8.11"
  }
 },
 "nbformat": 4,
 "nbformat_minor": 4
}
