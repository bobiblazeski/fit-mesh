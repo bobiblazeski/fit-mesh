{
 "cells": [
  {
   "cell_type": "code",
   "execution_count": 1,
   "metadata": {},
   "outputs": [],
   "source": [
    "from collections import OrderedDict\n",
    "import torch\n",
    "import torch.nn as nn\n",
    "import torch.nn.functional as F\n",
    "\n",
    "import trimesh\n",
    "\n",
    "from src.cleansed_cube import SourceCube, make_cube_faces, Mesh, make_sides, Ellipsoid"
   ]
  },
  {
   "cell_type": "code",
   "execution_count": 2,
   "metadata": {},
   "outputs": [
    {
     "name": "stderr",
     "output_type": "stream",
     "text": [
      "/home/bobi/miniconda3/envs/nicolet/lib/python3.7/site-packages/torch/functional.py:445: UserWarning: torch.meshgrid: in an upcoming release, it will be required to pass the indexing argument. (Triggered internally at  /opt/conda/conda-bld/pytorch_1634272168290/work/aten/src/ATen/native/TensorShape.cpp:2157.)\n",
      "  return _VF.meshgrid(tensors, **kwargs)  # type: ignore[attr-defined]\n"
     ]
    }
   ],
   "source": [
    "\n",
    "class Ellipsoid(nn.Module):\n",
    "    def __init__(self, n):\n",
    "        super(Ellipsoid, self).__init__()        \n",
    "        stacked = self.make_cube_sides(n, stacked=True)         \n",
    "        x_angle, z_angle = self.get_xz_angles(stacked)        \n",
    "        self.register_buffer('x_angle', x_angle)\n",
    "        self.register_buffer('z_angle', z_angle)\n",
    "        self.register_buffer('faces', make_cube_faces(n).int())        \n",
    "        self.register_buffer('colors', torch.ones(torch.numel(x_angle), 3) * 0.5)\n",
    "\n",
    "    def to_vertices(_, t):\n",
    "        return t.permute(0, 2, 3, 1).reshape(-1, 3)\n",
    "    \n",
    "    def get_xz_angles(_, bxyz):\n",
    "        x, y, z = bxyz[:, 0, :, :], bxyz[:, 1, :, :], bxyz[:, 2, :, :]\n",
    "        r = torch.sqrt(x**2 + y**2 + z**2)\n",
    "        x_angle = torch.atan2(y, x)\n",
    "        z_angle = torch.acos(z/r)\n",
    "        return x_angle, z_angle\n",
    "   \n",
    "    def get_ellipsoidal(_, x_angle, z_angle, rs):\n",
    "        x = rs[0] * torch.sin(z_angle) * torch.cos(x_angle)\n",
    "        y = rs[1] * torch.sin(z_angle) * torch.sin(x_angle)\n",
    "        z = rs[2] * torch.cos(z_angle) \n",
    "        return torch.stack((x, y, z), dim=1)\n",
    "    \n",
    "    def make_cube_sides(_, n, r=0.5, stacked=False):\n",
    "        start, end =  -r, +r\n",
    "        d1, d2 = torch.meshgrid(\n",
    "            torch.linspace(start, end, steps=n),\n",
    "            torch.linspace(start, end, steps=n))\n",
    "        d3 = torch.full_like(d1, end) + 1 / n\n",
    "        sides = OrderedDict({\n",
    "            'front': torch.stack((+d3,  d1,  d2), dim=0),\n",
    "            'right': torch.stack(( d1, +d3,  d2), dim=0),    \n",
    "            'back' : torch.stack((-d3,  d1,  d2), dim=0),         \n",
    "            'left' : torch.stack(( d1, -d3,  d2), dim=0),\n",
    "            'top'  : torch.stack(( d1,  d2, +d3), dim=0),\n",
    "            'down' : torch.stack(( d1,  d2, -d3), dim=0),\n",
    "        })\n",
    "        if stacked:\n",
    "            return torch.stack([p for p in sides.values()])\n",
    "        return sides\n",
    "    \n",
    "    \n",
    "    def forward(self, rs):\n",
    "        ellipsoidal = self.get_ellipsoidal(self.x_angle, self.z_angle, rs)        \n",
    "        vert = self.to_vertices(ellipsoidal)\n",
    "        return Mesh(vert, self.faces, self.colors)\n",
    "        \n",
    "    \n",
    "n = 64\n",
    "rs = [0.9, 0.6, 0.3]\n",
    "ellipsoid = Ellipsoid(n)\n",
    "v, f, c = ellipsoid(rs)     \n",
    "filename = f'./cube_ellipsoid_{n}.stl'\n",
    "mesh = trimesh.Trimesh(vertices=v, faces=f)\n",
    "mesh.export(filename);    "
   ]
  },
  {
   "cell_type": "code",
   "execution_count": 2,
   "metadata": {},
   "outputs": [
    {
     "name": "stderr",
     "output_type": "stream",
     "text": [
      "/home/bobi/miniconda3/envs/nicolet/lib/python3.7/site-packages/torch/functional.py:445: UserWarning: torch.meshgrid: in an upcoming release, it will be required to pass the indexing argument. (Triggered internally at  /opt/conda/conda-bld/pytorch_1634272168290/work/aten/src/ATen/native/TensorShape.cpp:2157.)\n",
      "  return _VF.meshgrid(tensors, **kwargs)  # type: ignore[attr-defined]\n"
     ]
    }
   ],
   "source": [
    "n = 64\n",
    "rs = [0.9, 0.6, 0.3]\n",
    "ellipsoid = Ellipsoid(n)\n",
    "v, f, c = ellipsoid(rs)     \n",
    "filename = f'./cube_ellipsoid_{n}.stl'\n",
    "mesh = trimesh.Trimesh(vertices=v, faces=f)\n",
    "mesh.export(filename);    "
   ]
  },
  {
   "cell_type": "code",
   "execution_count": 3,
   "metadata": {},
   "outputs": [
    {
     "data": {
      "text/plain": [
       "(torch.Size([24576, 3]), torch.Size([49148, 3]))"
      ]
     },
     "execution_count": 3,
     "metadata": {},
     "output_type": "execute_result"
    }
   ],
   "source": [
    "v.shape, f.shape"
   ]
  },
  {
   "cell_type": "code",
   "execution_count": null,
   "metadata": {},
   "outputs": [],
   "source": []
  }
 ],
 "metadata": {
  "kernelspec": {
   "display_name": "Python [conda env:nicolet] *",
   "language": "python",
   "name": "conda-env-nicolet-py"
  },
  "language_info": {
   "codemirror_mode": {
    "name": "ipython",
    "version": 3
   },
   "file_extension": ".py",
   "mimetype": "text/x-python",
   "name": "python",
   "nbconvert_exporter": "python",
   "pygments_lexer": "ipython3",
   "version": "3.7.11"
  }
 },
 "nbformat": 4,
 "nbformat_minor": 2
}
