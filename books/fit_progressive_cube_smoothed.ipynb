{
 "cells": [
  {
   "cell_type": "code",
   "execution_count": 13,
   "metadata": {},
   "outputs": [
    {
     "name": "stdout",
     "output_type": "stream",
     "text": [
      "3\n"
     ]
    },
    {
     "data": {
      "text/plain": [
       "ProgressiveCube(\n",
       "  (params): ModuleList(\n",
       "    (0): ParameterDict(\n",
       "        (back): Parameter containing: [torch.FloatTensor of size 1x3x2x2]\n",
       "        (down): Parameter containing: [torch.FloatTensor of size 1x3x2x2]\n",
       "        (front): Parameter containing: [torch.FloatTensor of size 1x3x2x2]\n",
       "        (left): Parameter containing: [torch.FloatTensor of size 1x3x2x2]\n",
       "        (right): Parameter containing: [torch.FloatTensor of size 1x3x2x2]\n",
       "        (top): Parameter containing: [torch.FloatTensor of size 1x3x2x2]\n",
       "    )\n",
       "    (1): ParameterDict(\n",
       "        (back): Parameter containing: [torch.FloatTensor of size 1x3x4x4]\n",
       "        (down): Parameter containing: [torch.FloatTensor of size 1x3x4x4]\n",
       "        (front): Parameter containing: [torch.FloatTensor of size 1x3x4x4]\n",
       "        (left): Parameter containing: [torch.FloatTensor of size 1x3x4x4]\n",
       "        (right): Parameter containing: [torch.FloatTensor of size 1x3x4x4]\n",
       "        (top): Parameter containing: [torch.FloatTensor of size 1x3x4x4]\n",
       "    )\n",
       "    (2): ParameterDict(\n",
       "        (back): Parameter containing: [torch.FloatTensor of size 1x3x8x8]\n",
       "        (down): Parameter containing: [torch.FloatTensor of size 1x3x8x8]\n",
       "        (front): Parameter containing: [torch.FloatTensor of size 1x3x8x8]\n",
       "        (left): Parameter containing: [torch.FloatTensor of size 1x3x8x8]\n",
       "        (right): Parameter containing: [torch.FloatTensor of size 1x3x8x8]\n",
       "        (top): Parameter containing: [torch.FloatTensor of size 1x3x8x8]\n",
       "    )\n",
       "  )\n",
       "  (source): SourceCube()\n",
       "  (gaussian): DiscreteGaussian(\n",
       "    (seq): Sequential(\n",
       "      (0): ReflectionPad2d((0, 0, 0, 0))\n",
       "      (1): Conv2d(3, 3, kernel_size=(3, 3), stride=(1, 1), groups=3, bias=False)\n",
       "    )\n",
       "  )\n",
       "  (laplacian): DiscreteLaplacian(\n",
       "    (seq): Sequential(\n",
       "      (conv): Conv2d(3, 3, kernel_size=(3, 3), stride=(1, 1), groups=3, bias=False)\n",
       "    )\n",
       "  )\n",
       ")"
      ]
     },
     "execution_count": 13,
     "metadata": {},
     "output_type": "execute_result"
    }
   ],
   "source": [
    "import math\n",
    "import torch\n",
    "import torch.nn as nn\n",
    "import torch.nn.functional as F\n",
    "import trimesh\n",
    "\n",
    "\n",
    "from src.operators import get_gaussian\n",
    "\n",
    "from src.cleansed_cube import SourceCube, sides_dict\n",
    "from src.discrete_laplacian import DiscreteLaplacian\n",
    "from src.discrete_gaussian import DiscreteGaussian\n",
    "from src.padding import pad_side\n",
    "\n",
    "class ProgressiveCube(nn.Module):\n",
    "    def __init__(self, n, kernel=3, sigma=1, clip=None, start=-0.5, end=0.5):\n",
    "        super(ProgressiveCube, self).__init__()        \n",
    "        self.n = n\n",
    "        self.kernel = kernel\n",
    "        self.side_names = list(sides_dict(1).keys())\n",
    "        self.params = nn.ModuleList([sides_dict(2**i)\n",
    "            for i in range(1, int(math.log2(n))+1)])\n",
    "        \n",
    "        self.source = SourceCube(n, start, end)\n",
    "        #self.gaussian = get_gaussian(kernel)\n",
    "        self.gaussian = DiscreteGaussian(kernel, sigma=sigma, padding=False)\n",
    "        self.laplacian = DiscreteLaplacian()\n",
    "        clip = clip or 1. / n\n",
    "        for d in self.params:\n",
    "            for p in d.values():                \n",
    "                p.register_hook(lambda grad:\n",
    "                    torch.clamp(torch.nan_to_num(grad), -clip, clip))\n",
    "\n",
    "    def make_vert(self):\n",
    "        return torch.cat([p[0].reshape(3, -1).t()\n",
    "                          for p in self.params.values()])\n",
    "\n",
    "    def scale(self, t):\n",
    "        return  F.interpolate(t, self.n, mode='bilinear', align_corners=True)\n",
    "\n",
    "    def forward(self):\n",
    "        summed = {}\n",
    "        for d in self.params:            \n",
    "            for key in self.side_names:\n",
    "                if key in summed:\n",
    "                    summed[key] = summed[key] + self.scale(d[key])\n",
    "                else:\n",
    "                    summed[key] = self.scale(d[key])        \n",
    "        ps = torch.cat([p for p in summed.values()])        \n",
    "        deform_verts = ps.permute(0, 2, 3, 1).reshape(-1, 3)         \n",
    "        new_src_mesh = self.source(deform_verts)        \n",
    "        return new_src_mesh, 0#self.laplacian(ps)    \n",
    "    \n",
    "    def smooth(self):\n",
    "        for i in range(len(self.params)):\n",
    "            params, sides = self.params[i], {}\n",
    "            for side_name in params:\n",
    "                grad = params[side_name].grad[0]        \n",
    "                sides[side_name] = grad.permute(1, 2, 0)\n",
    "\n",
    "            for side_name in params:\n",
    "                padded = pad_side(sides, side_name, self.kernel)\n",
    "                padded = padded.permute(2, 0, 1)[None]\n",
    "                padded = self.gaussian(padded)\n",
    "                self.params[i][side_name].grad.copy_(padded)\n",
    "\n",
    "    def export(self, f):        \n",
    "        mesh, _ = self.forward()\n",
    "        vertices = mesh.vertices[0].cpu().detach()\n",
    "        faces = mesh.faces.cpu().detach()        \n",
    "        mesh = trimesh.Trimesh(vertices=vertices, faces=faces)\n",
    "        mesh.export(f)\n",
    "                \n",
    "cube = ProgressiveCube(8)\n",
    "cube"
   ]
  },
  {
   "cell_type": "code",
   "execution_count": 14,
   "metadata": {
    "scrolled": true
   },
   "outputs": [],
   "source": [
    "(vertices, _, _), _ = cube.forward()\n",
    "loss = torch.mean(vertices)\n",
    "loss.backward()\n",
    "cube.smooth()"
   ]
  },
  {
   "cell_type": "code",
   "execution_count": 15,
   "metadata": {},
   "outputs": [],
   "source": [
    "cube.export('./data/f.obj')"
   ]
  },
  {
   "cell_type": "code",
   "execution_count": null,
   "metadata": {},
   "outputs": [],
   "source": []
  }
 ],
 "metadata": {
  "kernelspec": {
   "display_name": "Python [conda env:pytorch3d_06] *",
   "language": "python",
   "name": "conda-env-pytorch3d_06-py"
  },
  "language_info": {
   "codemirror_mode": {
    "name": "ipython",
    "version": 3
   },
   "file_extension": ".py",
   "mimetype": "text/x-python",
   "name": "python",
   "nbconvert_exporter": "python",
   "pygments_lexer": "ipython3",
   "version": "3.8.11"
  }
 },
 "nbformat": 4,
 "nbformat_minor": 4
}
