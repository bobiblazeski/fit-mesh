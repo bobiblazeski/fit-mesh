{
 "cells": [
  {
   "cell_type": "code",
   "execution_count": 17,
   "metadata": {},
   "outputs": [],
   "source": [
    "from collections import OrderedDict\n",
    "import torch\n",
    "import trimesh\n",
    "\n",
    "from src.cleansed_cube import SourceCube, make_cube_faces"
   ]
  },
  {
   "cell_type": "code",
   "execution_count": 7,
   "metadata": {},
   "outputs": [
    {
     "data": {
      "text/plain": [
       "SourceCube()"
      ]
     },
     "execution_count": 7,
     "metadata": {},
     "output_type": "execute_result"
    }
   ],
   "source": [
    "def make_vert(params):\n",
    "    return torch.cat([p[0].reshape(3, -1).t()\n",
    "                      for p in params.values()])\n",
    "\n",
    "\n",
    "cube = SourceCube(8)\n",
    "cube"
   ]
  },
  {
   "cell_type": "code",
   "execution_count": 10,
   "metadata": {},
   "outputs": [
    {
     "data": {
      "text/plain": [
       "torch.Size([3, 8, 8])"
      ]
     },
     "execution_count": 10,
     "metadata": {},
     "output_type": "execute_result"
    }
   ],
   "source": [
    "n, start, end= 8, -0.5, 0.5\n",
    "        \n",
    "d1, d2 = torch.meshgrid(\n",
    "    torch.linspace(start, end, steps=n),\n",
    "    torch.linspace(start, end, steps=n))\n",
    "d3 = torch.full_like(d1, end) + 1 / n\n",
    "sides =  OrderedDict({\n",
    "    'front': torch.stack((+d3,  d1,  d2), dim=0),\n",
    "    'right': torch.stack(( d1, +d3,  d2), dim=0),    \n",
    "    'back' : torch.stack((-d3,  d1,  d2), dim=0),         \n",
    "    'left' : torch.stack(( d1, -d3,  d2), dim=0),\n",
    "    'top'  : torch.stack(( d1,  d2, +d3), dim=0),\n",
    "    'down' : torch.stack(( d1,  d2, -d3), dim=0),\n",
    "})\n",
    "sides['front'].shape"
   ]
  },
  {
   "cell_type": "code",
   "execution_count": 15,
   "metadata": {},
   "outputs": [
    {
     "data": {
      "text/plain": [
       "torch.Size([6, 3, 8, 8])"
      ]
     },
     "execution_count": 15,
     "metadata": {},
     "output_type": "execute_result"
    }
   ],
   "source": [
    "stacked = torch.stack([p for p in sides.values()])\n",
    "stacked.shape"
   ]
  },
  {
   "cell_type": "code",
   "execution_count": 20,
   "metadata": {},
   "outputs": [],
   "source": [
    "faces = make_cube_faces(n)\n",
    "vertices = stacked.permute(0, 2, 3, 1).reshape(-1, 3)\n",
    "f = './cube.stl'\n",
    "mesh = trimesh.Trimesh(vertices=vertices, faces=faces)\n",
    "mesh.export(f);"
   ]
  },
  {
   "cell_type": "code",
   "execution_count": 32,
   "metadata": {},
   "outputs": [
    {
     "data": {
      "text/plain": [
       "torch.Size([6, 3, 8, 8])"
      ]
     },
     "execution_count": 32,
     "metadata": {},
     "output_type": "execute_result"
    }
   ],
   "source": [
    "def cube_to_sphere(bxyz):\n",
    "    x, y, z = bxyz[:, 0, :, :], bxyz[:, 1, :, :], bxyz[:, 2, :, :]\n",
    "    r = torch.sqrt(x**2 + y**2 + z**2)\n",
    "    x_angle = torch.atan2(y, x)\n",
    "    z_angle = torch.acos(z/r)\n",
    "    \n",
    "    r = torch.ones_like(x)\n",
    "    x = r * torch.sin(z_angle) * torch.cos(x_angle)\n",
    "    y = r * torch.sin(z_angle) * torch.sin(x_angle)\n",
    "    z = r * torch.cos(z_angle)        \n",
    "    return torch.stack((x, y, z), dim=1)     \n",
    "\n",
    "\n",
    "sphered = cube_to_sphere(stacked)\n",
    "sphered.shape"
   ]
  },
  {
   "cell_type": "code",
   "execution_count": 33,
   "metadata": {},
   "outputs": [],
   "source": [
    "faces = make_cube_faces(n)\n",
    "vertices = sphered.permute(0, 2, 3, 1).reshape(-1, 3)\n",
    "f = './cube_sphere.stl'\n",
    "mesh = trimesh.Trimesh(vertices=vertices, faces=faces)\n",
    "mesh.export(f);"
   ]
  },
  {
   "cell_type": "code",
   "execution_count": null,
   "metadata": {},
   "outputs": [],
   "source": [
    "def cube_to_sphere(bxyz):\n",
    "    x, y, z = bxyz[:, 0, :, :], bxyz[:, 1, :, :], bxyz[:, 2, :, :]\n",
    "    r = torch.sqrt(x**2 + y**2 + z**2)\n",
    "    x_angle = torch.atan2(y, x)\n",
    "    z_angle = torch.acos(z/r)\n",
    "    \n",
    "    r = torch.ones_like(x)\n",
    "    x = r * torch.sin(z_angle) * torch.cos(x_angle)\n",
    "    y = r * torch.sin(z_angle) * torch.sin(x_angle)\n",
    "    z = r * torch.cos(z_angle)        \n",
    "    return torch.stack((x, y, z), dim=1)   \n",
    "\n",
    "class SourceCube(nn.Module):\n",
    "    def __init__(self, n, start=-0.5, end=0.5):\n",
    "        super(SourceCube, self).__init__()\n",
    "        d1, d2 = torch.meshgrid(\n",
    "            torch.linspace(start, end, steps=n),\n",
    "            torch.linspace(start, end, steps=n))\n",
    "        d3 = torch.full_like(d1, end) + 1 / n\n",
    "        sides =  OrderedDict({\n",
    "            'front': torch.stack((+d3,  d1,  d2), dim=0),\n",
    "            'right': torch.stack(( d1, +d3,  d2), dim=0),    \n",
    "            'back' : torch.stack((-d3,  d1,  d2), dim=0),         \n",
    "            'left' : torch.stack(( d1, -d3,  d2), dim=0),\n",
    "            'top'  : torch.stack(( d1,  d2, +d3), dim=0),\n",
    "            'down' : torch.stack(( d1,  d2, -d3), dim=0),\n",
    "        })\n",
    "        stacked = torch.stack([p for p in sides.values()])\n",
    "        sphered = cube_to_sphere(stacked)\n",
    "        vertices = sphered.permute(0, 2, 3, 1).reshape(-1, 3)\n",
    "        self.register_buffer('vertices', vertices)\n",
    "        self.register_buffer('faces', make_cube_faces(n).int())\n",
    "        self.register_buffer('colors', torch.ones_like(vertices) * 0.5)\n",
    "\n",
    "    def to_homogeneous(_, t):\n",
    "        return torch.cat((t,\n",
    "            torch.ones(t.size(0), 1, device=t.device)), dim=-1)\n",
    "\n",
    "    def forward(self, deform_verts):\n",
    "        vert = self.vertices + deform_verts\n",
    "        pos = self.to_homogeneous(vert)[None]\n",
    "        return Mesh(pos, self.faces, self.colors)"
   ]
  }
 ],
 "metadata": {
  "kernelspec": {
   "display_name": "Python [conda env:nicolet] *",
   "language": "python",
   "name": "conda-env-nicolet-py"
  },
  "language_info": {
   "codemirror_mode": {
    "name": "ipython",
    "version": 3
   },
   "file_extension": ".py",
   "mimetype": "text/x-python",
   "name": "python",
   "nbconvert_exporter": "python",
   "pygments_lexer": "ipython3",
   "version": "3.7.11"
  }
 },
 "nbformat": 4,
 "nbformat_minor": 2
}
