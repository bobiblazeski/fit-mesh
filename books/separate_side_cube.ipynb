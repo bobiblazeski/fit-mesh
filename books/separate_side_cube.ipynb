{
 "cells": [
  {
   "cell_type": "code",
   "execution_count": 1,
   "metadata": {},
   "outputs": [
    {
     "data": {
      "text/html": [
       "        <script type=\"text/javascript\">\n",
       "        window.PlotlyConfig = {MathJaxConfig: 'local'};\n",
       "        if (window.MathJax) {MathJax.Hub.Config({SVG: {font: \"STIX-Web\"}});}\n",
       "        if (typeof require !== 'undefined') {\n",
       "        require.undef(\"plotly\");\n",
       "        requirejs.config({\n",
       "            paths: {\n",
       "                'plotly': ['https://cdn.plot.ly/plotly-latest.min']\n",
       "            }\n",
       "        });\n",
       "        require(['plotly'], function(Plotly) {\n",
       "            window._Plotly = Plotly;\n",
       "        });\n",
       "        }\n",
       "        </script>\n",
       "        "
      ]
     },
     "metadata": {},
     "output_type": "display_data"
    },
    {
     "data": {
      "text/html": [
       "        <script type=\"text/javascript\">\n",
       "        window.PlotlyConfig = {MathJaxConfig: 'local'};\n",
       "        if (window.MathJax) {MathJax.Hub.Config({SVG: {font: \"STIX-Web\"}});}\n",
       "        if (typeof require !== 'undefined') {\n",
       "        require.undef(\"plotly\");\n",
       "        requirejs.config({\n",
       "            paths: {\n",
       "                'plotly': ['https://cdn.plot.ly/plotly-latest.min']\n",
       "            }\n",
       "        });\n",
       "        require(['plotly'], function(Plotly) {\n",
       "            window._Plotly = Plotly;\n",
       "        });\n",
       "        }\n",
       "        </script>\n",
       "        "
      ]
     },
     "metadata": {},
     "output_type": "display_data"
    },
    {
     "data": {
      "text/html": [
       "        <script type=\"text/javascript\">\n",
       "        window.PlotlyConfig = {MathJaxConfig: 'local'};\n",
       "        if (window.MathJax) {MathJax.Hub.Config({SVG: {font: \"STIX-Web\"}});}\n",
       "        if (typeof require !== 'undefined') {\n",
       "        require.undef(\"plotly\");\n",
       "        requirejs.config({\n",
       "            paths: {\n",
       "                'plotly': ['https://cdn.plot.ly/plotly-latest.min']\n",
       "            }\n",
       "        });\n",
       "        require(['plotly'], function(Plotly) {\n",
       "            window._Plotly = Plotly;\n",
       "        });\n",
       "        }\n",
       "        </script>\n",
       "        "
      ]
     },
     "metadata": {},
     "output_type": "display_data"
    },
    {
     "data": {
      "text/html": [
       "        <script type=\"text/javascript\">\n",
       "        window.PlotlyConfig = {MathJaxConfig: 'local'};\n",
       "        if (window.MathJax) {MathJax.Hub.Config({SVG: {font: \"STIX-Web\"}});}\n",
       "        if (typeof require !== 'undefined') {\n",
       "        require.undef(\"plotly\");\n",
       "        requirejs.config({\n",
       "            paths: {\n",
       "                'plotly': ['https://cdn.plot.ly/plotly-latest.min']\n",
       "            }\n",
       "        });\n",
       "        require(['plotly'], function(Plotly) {\n",
       "            window._Plotly = Plotly;\n",
       "        });\n",
       "        }\n",
       "        </script>\n",
       "        "
      ]
     },
     "metadata": {},
     "output_type": "display_data"
    }
   ],
   "source": [
    "from collections import OrderedDict\n",
    "\n",
    "import torch\n",
    "import torch.nn as nn\n",
    "import torch.nn.functional as F\n",
    "\n",
    "import pytorch3d\n",
    "import pytorch3d.io\n",
    "from pytorch3d.structures import Meshes\n",
    "from pytorch3d.renderer import TexturesVertex\n",
    "\n",
    "import trimesh\n",
    "\n",
    "from src.util import make_faces"
   ]
  },
  {
   "cell_type": "code",
   "execution_count": 66,
   "metadata": {},
   "outputs": [
    {
     "data": {
      "text/plain": [
       "<pytorch3d.structures.meshes.Meshes at 0x7f8ae0be3160>"
      ]
     },
     "execution_count": 66,
     "metadata": {},
     "output_type": "execute_result"
    }
   ],
   "source": [
    "n = 2\n",
    "start = -0.5\n",
    "end = 0.5\n",
    "\n",
    "d1, d2 = torch.meshgrid(\n",
    "    torch.linspace(start, end, steps=n), \n",
    "    torch.linspace(start, end, steps=n))\n",
    "d3 = torch.full_like(d1, end) + 1 / n\n",
    "sides =  OrderedDict({\n",
    "    'front': torch.stack((+d3,  d1,  d2), dim=-1),\n",
    "    'right': torch.stack(( d1, +d3,  d2), dim=-1),    \n",
    "    'back' : torch.stack((-d3,  d1,  d2), dim=-1),         \n",
    "    'left' : torch.stack(( d1, -d3,  d2), dim=-1),\n",
    "    'top'  : torch.stack(( d1,  d2, +d3), dim=-1),\n",
    "    'down' : torch.stack(( d1,  d2, -d3), dim=-1),\n",
    "})\n",
    "vert = torch.stack(list(sides.values())).reshape(-1, 3)\n",
    "offset, faces = n ** 2, make_faces(n, n)\n",
    "faces = torch.cat([\n",
    "    i * offset + torch.tensor(faces)\n",
    "    for i in range(6)])\n",
    "textures = TexturesVertex(verts_features=[torch.ones_like(vert)])\n",
    "mesh = Meshes(verts=[vert], faces=[faces], textures=textures)\n",
    "mesh"
   ]
  },
  {
   "cell_type": "code",
   "execution_count": 28,
   "metadata": {},
   "outputs": [
    {
     "data": {
      "text/plain": [
       "(torch.Size([24, 3]), torch.Size([12, 3]))"
      ]
     },
     "execution_count": 28,
     "metadata": {},
     "output_type": "execute_result"
    }
   ],
   "source": [
    "mesh.verts_packed().shape, mesh.faces_packed().shape"
   ]
  },
  {
   "cell_type": "code",
   "execution_count": 29,
   "metadata": {
    "scrolled": true
   },
   "outputs": [],
   "source": [
    "m = trimesh.Trimesh(vertices=vert, faces=faces)\n",
    "m.export('./data/cube.stl');"
   ]
  },
  {
   "cell_type": "code",
   "execution_count": 30,
   "metadata": {},
   "outputs": [
    {
     "data": {
      "text/plain": [
       "torch.Size([2, 2, 3])"
      ]
     },
     "execution_count": 30,
     "metadata": {},
     "output_type": "execute_result"
    }
   ],
   "source": [
    "sides['front'].shape"
   ]
  },
  {
   "cell_type": "code",
   "execution_count": 31,
   "metadata": {},
   "outputs": [
    {
     "data": {
      "text/plain": [
       "(2, 3)"
      ]
     },
     "execution_count": 31,
     "metadata": {},
     "output_type": "execute_result"
    }
   ],
   "source": [
    "make_faces(n, n).shape"
   ]
  },
  {
   "cell_type": "code",
   "execution_count": 32,
   "metadata": {},
   "outputs": [
    {
     "data": {
      "text/plain": [
       "odict_keys(['front', 'back', 'left', 'right', 'top', 'down'])"
      ]
     },
     "execution_count": 32,
     "metadata": {},
     "output_type": "execute_result"
    }
   ],
   "source": [
    "sides.keys()"
   ]
  },
  {
   "cell_type": "code",
   "execution_count": 33,
   "metadata": {},
   "outputs": [
    {
     "data": {
      "text/plain": [
       "array([[2, 0, 3],\n",
       "       [1, 3, 0]])"
      ]
     },
     "execution_count": 33,
     "metadata": {},
     "output_type": "execute_result"
    }
   ],
   "source": [
    "make_faces(n, 2)"
   ]
  },
  {
   "cell_type": "code",
   "execution_count": 34,
   "metadata": {},
   "outputs": [
    {
     "name": "stdout",
     "output_type": "stream",
     "text": [
      "[[2 0 3]\n",
      " [1 3 0]]\n",
      "[[2 0 3]\n",
      " [1 3 0]]\n"
     ]
    },
    {
     "data": {
      "text/plain": [
       "((2, 3), (2, 3))"
      ]
     },
     "execution_count": 34,
     "metadata": {},
     "output_type": "execute_result"
    }
   ],
   "source": [
    "# 8 edge strips\n",
    "# 8 corner strips\n",
    "vertical_strip = make_faces(n, 2)\n",
    "horizontal_strip = make_faces(2, n)\n",
    "print(vertical_strip)\n",
    "print(horizontal_strip)\n",
    "vertical_strip.shape, horizontal_strip.shape"
   ]
  },
  {
   "cell_type": "code",
   "execution_count": 35,
   "metadata": {},
   "outputs": [
    {
     "data": {
      "text/plain": [
       "odict_keys(['front', 'back', 'left', 'right', 'top', 'down'])"
      ]
     },
     "execution_count": 35,
     "metadata": {},
     "output_type": "execute_result"
    }
   ],
   "source": [
    "# 0 1 2 - 0 1 2\n",
    "# 3 4 5 - 3 4 5\n",
    "# 6 7 8 - 6 7 8\n",
    "sides.keys()"
   ]
  },
  {
   "cell_type": "code",
   "execution_count": 59,
   "metadata": {
    "scrolled": true
   },
   "outputs": [
    {
     "data": {
      "text/plain": [
       "torch.Size([2, 3])"
      ]
     },
     "execution_count": 59,
     "metadata": {},
     "output_type": "execute_result"
    }
   ],
   "source": [
    "side_faces =  OrderedDict({\n",
    "    'front': 0 * offset + torch.tensor(make_faces(n, n)),\n",
    "    'right': 1 * offset + torch.tensor(make_faces(n, n)),\n",
    "    'back' : 2 * offset + torch.tensor(make_faces(n, n)),\n",
    "    'left' : 3 * offset + torch.tensor(make_faces(n, n)),\n",
    "    'top'  : 4 * offset + torch.tensor(make_faces(n, n)),\n",
    "    'down' : 5 * offset + torch.tensor(make_faces(n, n)),\n",
    "})\n",
    "vert = torch.stack(list(sides.values())).reshape(-1, 3)\n",
    "side_faces['front'].shape"
   ]
  },
  {
   "cell_type": "code",
   "execution_count": 60,
   "metadata": {},
   "outputs": [],
   "source": [
    "front_offset = 0 * offset\n",
    "#back_offse = \n",
    "corners = OrderedDict({\n",
    "    'ltf': torch.tensor([(n - 1), 0, (n - 1)]),\n",
    "})"
   ]
  },
  {
   "cell_type": "code",
   "execution_count": 68,
   "metadata": {},
   "outputs": [
    {
     "data": {
      "text/plain": [
       "OrderedDict([('front',\n",
       "              tensor([[0, 1],\n",
       "                      [2, 3]])),\n",
       "             ('right',\n",
       "              tensor([[4, 5],\n",
       "                      [6, 7]])),\n",
       "             ('back',\n",
       "              tensor([[ 8,  9],\n",
       "                      [10, 11]])),\n",
       "             ('left',\n",
       "              tensor([[12, 13],\n",
       "                      [14, 15]])),\n",
       "             ('top',\n",
       "              tensor([[16, 17],\n",
       "                      [18, 19]])),\n",
       "             ('down',\n",
       "              tensor([[20, 21],\n",
       "                      [22, 23]]))])"
      ]
     },
     "execution_count": 68,
     "metadata": {},
     "output_type": "execute_result"
    }
   ],
   "source": [
    "n = 2\n",
    "ids = torch.arange(start = 0, end = 6 * n**2).reshape(6, n, n)\n",
    "ids = OrderedDict({    \n",
    "    'front': ids[0],\n",
    "    'right': ids[1],\n",
    "    'back':  ids[2],\n",
    "    'left':  ids[3],\n",
    "    'top':   ids[4],\n",
    "    'down':  ids[5],\n",
    "})\n",
    "\n",
    "#print(ids.shape)\n",
    "ids"
   ]
  },
  {
   "cell_type": "code",
   "execution_count": 69,
   "metadata": {},
   "outputs": [
    {
     "data": {
      "text/plain": [
       "OrderedDict([('lft', tensor([16,  2, 17]))])"
      ]
     },
     "execution_count": 69,
     "metadata": {},
     "output_type": "execute_result"
    }
   ],
   "source": [
    "### 1 - lf0 \n",
    "front, right, back, left, top, down = torch.arange(6).tolist()\n",
    "offset = n ** 2\n",
    "\n",
    "corners = OrderedDict({\n",
    "    'lft': torch.tensor([\n",
    "        offset * (left + 1),\n",
    "        offset * (front + 1) - n,\n",
    "        offset * top + 1\n",
    "    ]),    \n",
    "})\n",
    "corners"
   ]
  },
  {
   "cell_type": "code",
   "execution_count": 73,
   "metadata": {},
   "outputs": [],
   "source": [
    "m = trimesh.Trimesh(vertices=vert, \n",
    "    faces=torch.cat((faces, torch.tensor([[15,  2, 17]]))))\n",
    "m.export('./data/cube1.stl');"
   ]
  },
  {
   "cell_type": "code",
   "execution_count": 64,
   "metadata": {},
   "outputs": [
    {
     "data": {
      "text/plain": [
       "(0, 1, 2, 3, 4, 5)"
      ]
     },
     "execution_count": 64,
     "metadata": {},
     "output_type": "execute_result"
    }
   ],
   "source": [
    "front, right, back, left, top, down"
   ]
  },
  {
   "cell_type": "code",
   "execution_count": 47,
   "metadata": {},
   "outputs": [],
   "source": []
  },
  {
   "cell_type": "code",
   "execution_count": 19,
   "metadata": {},
   "outputs": [
    {
     "data": {
      "text/plain": [
       "9"
      ]
     },
     "execution_count": 19,
     "metadata": {},
     "output_type": "execute_result"
    }
   ],
   "source": [
    "offset"
   ]
  },
  {
   "cell_type": "code",
   "execution_count": 72,
   "metadata": {},
   "outputs": [
    {
     "data": {
      "text/plain": [
       "tensor([[ 1.0000, -0.5000, -0.5000],\n",
       "        [ 1.0000, -0.5000,  0.5000],\n",
       "        [ 1.0000,  0.5000, -0.5000],\n",
       "        [ 1.0000,  0.5000,  0.5000],\n",
       "        [-0.5000,  1.0000, -0.5000],\n",
       "        [-0.5000,  1.0000,  0.5000],\n",
       "        [ 0.5000,  1.0000, -0.5000],\n",
       "        [ 0.5000,  1.0000,  0.5000],\n",
       "        [-1.0000, -0.5000, -0.5000],\n",
       "        [-1.0000, -0.5000,  0.5000],\n",
       "        [-1.0000,  0.5000, -0.5000],\n",
       "        [-1.0000,  0.5000,  0.5000],\n",
       "        [-0.5000, -1.0000, -0.5000],\n",
       "        [-0.5000, -1.0000,  0.5000],\n",
       "        [ 0.5000, -1.0000, -0.5000],\n",
       "        [ 0.5000, -1.0000,  0.5000],\n",
       "        [-0.5000, -0.5000,  1.0000],\n",
       "        [-0.5000,  0.5000,  1.0000],\n",
       "        [ 0.5000, -0.5000,  1.0000],\n",
       "        [ 0.5000,  0.5000,  1.0000],\n",
       "        [-0.5000, -0.5000, -1.0000],\n",
       "        [-0.5000,  0.5000, -1.0000],\n",
       "        [ 0.5000, -0.5000, -1.0000],\n",
       "        [ 0.5000,  0.5000, -1.0000]])"
      ]
     },
     "execution_count": 72,
     "metadata": {},
     "output_type": "execute_result"
    }
   ],
   "source": [
    "vert"
   ]
  },
  {
   "cell_type": "code",
   "execution_count": 57,
   "metadata": {},
   "outputs": [
    {
     "data": {
      "text/plain": [
       "tensor([[[[ 1.0000, -0.5000, -0.5000],\n",
       "          [ 1.0000, -0.5000,  0.5000]],\n",
       "\n",
       "         [[ 1.0000,  0.5000, -0.5000],\n",
       "          [ 1.0000,  0.5000,  0.5000]]],\n",
       "\n",
       "\n",
       "        [[[-1.0000, -0.5000, -0.5000],\n",
       "          [-1.0000, -0.5000,  0.5000]],\n",
       "\n",
       "         [[-1.0000,  0.5000, -0.5000],\n",
       "          [-1.0000,  0.5000,  0.5000]]],\n",
       "\n",
       "\n",
       "        [[[-0.5000,  1.0000, -0.5000],\n",
       "          [-0.5000,  1.0000,  0.5000]],\n",
       "\n",
       "         [[ 0.5000,  1.0000, -0.5000],\n",
       "          [ 0.5000,  1.0000,  0.5000]]],\n",
       "\n",
       "\n",
       "        [[[-0.5000, -1.0000, -0.5000],\n",
       "          [-0.5000, -1.0000,  0.5000]],\n",
       "\n",
       "         [[ 0.5000, -1.0000, -0.5000],\n",
       "          [ 0.5000, -1.0000,  0.5000]]],\n",
       "\n",
       "\n",
       "        [[[-0.5000, -0.5000,  1.0000],\n",
       "          [-0.5000,  0.5000,  1.0000]],\n",
       "\n",
       "         [[ 0.5000, -0.5000,  1.0000],\n",
       "          [ 0.5000,  0.5000,  1.0000]]],\n",
       "\n",
       "\n",
       "        [[[-0.5000, -0.5000, -1.0000],\n",
       "          [-0.5000,  0.5000, -1.0000]],\n",
       "\n",
       "         [[ 0.5000, -0.5000, -1.0000],\n",
       "          [ 0.5000,  0.5000, -1.0000]]]])"
      ]
     },
     "execution_count": 57,
     "metadata": {},
     "output_type": "execute_result"
    }
   ],
   "source": [
    "vert.reshape(6, 2, 2, 3)"
   ]
  },
  {
   "cell_type": "code",
   "execution_count": 50,
   "metadata": {},
   "outputs": [
    {
     "data": {
      "text/plain": [
       "24"
      ]
     },
     "execution_count": 50,
     "metadata": {},
     "output_type": "execute_result"
    }
   ],
   "source": [
    "6*4"
   ]
  },
  {
   "cell_type": "code",
   "execution_count": null,
   "metadata": {},
   "outputs": [],
   "source": []
  }
 ],
 "metadata": {
  "kernelspec": {
   "display_name": "Python [conda env:pytorch3d_06] *",
   "language": "python",
   "name": "conda-env-pytorch3d_06-py"
  },
  "language_info": {
   "codemirror_mode": {
    "name": "ipython",
    "version": 3
   },
   "file_extension": ".py",
   "mimetype": "text/x-python",
   "name": "python",
   "nbconvert_exporter": "python",
   "pygments_lexer": "ipython3",
   "version": "3.8.11"
  }
 },
 "nbformat": 4,
 "nbformat_minor": 4
}
