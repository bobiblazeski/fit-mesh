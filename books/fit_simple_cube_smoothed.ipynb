{
 "cells": [
  {
   "cell_type": "code",
   "execution_count": 7,
   "metadata": {},
   "outputs": [
    {
     "name": "stdout",
     "output_type": "stream",
     "text": [
      "5\n"
     ]
    },
    {
     "data": {
      "text/plain": [
       "SimpleCube(\n",
       "  (params): ParameterDict(\n",
       "      (back): Parameter containing: [torch.FloatTensor of size 1x3x9x9]\n",
       "      (down): Parameter containing: [torch.FloatTensor of size 1x3x9x9]\n",
       "      (front): Parameter containing: [torch.FloatTensor of size 1x3x9x9]\n",
       "      (left): Parameter containing: [torch.FloatTensor of size 1x3x9x9]\n",
       "      (right): Parameter containing: [torch.FloatTensor of size 1x3x9x9]\n",
       "      (top): Parameter containing: [torch.FloatTensor of size 1x3x9x9]\n",
       "  )\n",
       "  (source): SourceCube()\n",
       "  (gaussian): DiscreteGaussian(\n",
       "    (seq): Sequential(\n",
       "      (0): ReflectionPad2d((0, 0, 0, 0))\n",
       "      (1): Conv2d(3, 3, kernel_size=(5, 5), stride=(1, 1), groups=3, bias=False)\n",
       "    )\n",
       "  )\n",
       "  (laplacian): DiscreteLaplacian(\n",
       "    (seq): Sequential(\n",
       "      (conv): Conv2d(3, 3, kernel_size=(3, 3), stride=(1, 1), groups=3, bias=False)\n",
       "    )\n",
       "  )\n",
       ")"
      ]
     },
     "execution_count": 7,
     "metadata": {},
     "output_type": "execute_result"
    }
   ],
   "source": [
    "import torch\n",
    "import torch.nn  as nn\n",
    "\n",
    "\n",
    "from src.operators import get_gaussian\n",
    "\n",
    "from src.cleansed_cube import SourceCube, sides_dict\n",
    "from src.discrete_laplacian import DiscreteLaplacian\n",
    "from src.discrete_gaussian import DiscreteGaussian\n",
    "from src.padding import pad_side\n",
    "\n",
    "class SimpleCube(nn.Module):\n",
    "    def __init__(self, n, kernel=5, sigma=1, clip_value = 0.1, start=-0.5, end=0.5):\n",
    "        super(SimpleCube, self).__init__()        \n",
    "        self.n = n\n",
    "        self.kernel = kernel\n",
    "        self.params = sides_dict(n)\n",
    "        self.source = SourceCube(n, start, end)\n",
    "        #self.gaussian = get_gaussian(kernel)\n",
    "        self.gaussian = DiscreteGaussian(kernel, sigma=sigma, padding=False)\n",
    "        self.laplacian = DiscreteLaplacian()          \n",
    "        for p in self.params.values():            \n",
    "            p.register_hook(lambda grad: torch.clamp(\n",
    "                torch.nan_to_num(grad), -clip_value, clip_value))\n",
    "\n",
    "    def make_vert(self):\n",
    "        return torch.cat([p[0].reshape(3, -1).t()\n",
    "                          for p in self.params.values()]) \n",
    "\n",
    "    def forward(self):\n",
    "        ps = torch.cat([p for p in self.params.values()])\n",
    "        deform_verts = ps.permute(0, 2, 3, 1).reshape(-1, 3)        \n",
    "        new_src_mesh = self.source(deform_verts)        \n",
    "        return new_src_mesh, 0 # self.laplacian(ps)\n",
    "    \n",
    "    def smooth(self):\n",
    "        sides = {}\n",
    "        for side_name in self.params:\n",
    "            grad = cube.params[side_name].grad[0]            \n",
    "            sides[side_name] = grad.permute(1, 2, 0)\n",
    "            \n",
    "        for side_name in self.params:\n",
    "            padded = pad_side(sides, side_name, self.kernel)\n",
    "            padded = padded.permute(2, 0, 1)[None]\n",
    "            padded = self.gaussian(padded)\n",
    "            self.params[side_name].grad.copy_(padded)\n",
    "                \n",
    "cube = SimpleCube(9)\n",
    "cube"
   ]
  },
  {
   "cell_type": "code",
   "execution_count": 8,
   "metadata": {
    "scrolled": true
   },
   "outputs": [
    {
     "name": "stdout",
     "output_type": "stream",
     "text": [
      "torch.Size([1, 3, 9, 9]) torch.Size([1, 3, 9, 9])\n",
      "torch.Size([1, 3, 9, 9]) torch.Size([1, 3, 9, 9])\n",
      "torch.Size([1, 3, 9, 9]) torch.Size([1, 3, 9, 9])\n",
      "torch.Size([1, 3, 9, 9]) torch.Size([1, 3, 9, 9])\n",
      "torch.Size([1, 3, 9, 9]) torch.Size([1, 3, 9, 9])\n",
      "torch.Size([1, 3, 9, 9]) torch.Size([1, 3, 9, 9])\n"
     ]
    }
   ],
   "source": [
    "(vertices, _, _), _ = cube.forward()\n",
    "loss = torch.mean(vertices)\n",
    "loss.backward()\n",
    "cube.smooth()"
   ]
  },
  {
   "cell_type": "code",
   "execution_count": null,
   "metadata": {},
   "outputs": [],
   "source": []
  },
  {
   "cell_type": "code",
   "execution_count": null,
   "metadata": {},
   "outputs": [],
   "source": []
  }
 ],
 "metadata": {
  "kernelspec": {
   "display_name": "Python [conda env:pytorch3d_06] *",
   "language": "python",
   "name": "conda-env-pytorch3d_06-py"
  },
  "language_info": {
   "codemirror_mode": {
    "name": "ipython",
    "version": 3
   },
   "file_extension": ".py",
   "mimetype": "text/x-python",
   "name": "python",
   "nbconvert_exporter": "python",
   "pygments_lexer": "ipython3",
   "version": "3.8.11"
  }
 },
 "nbformat": 4,
 "nbformat_minor": 4
}
