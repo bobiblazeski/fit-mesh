{
 "cells": [
  {
   "cell_type": "code",
   "execution_count": 1,
   "metadata": {},
   "outputs": [
    {
     "data": {
      "text/html": [
       "        <script type=\"text/javascript\">\n",
       "        window.PlotlyConfig = {MathJaxConfig: 'local'};\n",
       "        if (window.MathJax) {MathJax.Hub.Config({SVG: {font: \"STIX-Web\"}});}\n",
       "        if (typeof require !== 'undefined') {\n",
       "        require.undef(\"plotly\");\n",
       "        requirejs.config({\n",
       "            paths: {\n",
       "                'plotly': ['https://cdn.plot.ly/plotly-latest.min']\n",
       "            }\n",
       "        });\n",
       "        require(['plotly'], function(Plotly) {\n",
       "            window._Plotly = Plotly;\n",
       "        });\n",
       "        }\n",
       "        </script>\n",
       "        "
      ]
     },
     "metadata": {},
     "output_type": "display_data"
    },
    {
     "data": {
      "text/html": [
       "        <script type=\"text/javascript\">\n",
       "        window.PlotlyConfig = {MathJaxConfig: 'local'};\n",
       "        if (window.MathJax) {MathJax.Hub.Config({SVG: {font: \"STIX-Web\"}});}\n",
       "        if (typeof require !== 'undefined') {\n",
       "        require.undef(\"plotly\");\n",
       "        requirejs.config({\n",
       "            paths: {\n",
       "                'plotly': ['https://cdn.plot.ly/plotly-latest.min']\n",
       "            }\n",
       "        });\n",
       "        require(['plotly'], function(Plotly) {\n",
       "            window._Plotly = Plotly;\n",
       "        });\n",
       "        }\n",
       "        </script>\n",
       "        "
      ]
     },
     "metadata": {},
     "output_type": "display_data"
    },
    {
     "data": {
      "text/html": [
       "        <script type=\"text/javascript\">\n",
       "        window.PlotlyConfig = {MathJaxConfig: 'local'};\n",
       "        if (window.MathJax) {MathJax.Hub.Config({SVG: {font: \"STIX-Web\"}});}\n",
       "        if (typeof require !== 'undefined') {\n",
       "        require.undef(\"plotly\");\n",
       "        requirejs.config({\n",
       "            paths: {\n",
       "                'plotly': ['https://cdn.plot.ly/plotly-latest.min']\n",
       "            }\n",
       "        });\n",
       "        require(['plotly'], function(Plotly) {\n",
       "            window._Plotly = Plotly;\n",
       "        });\n",
       "        }\n",
       "        </script>\n",
       "        "
      ]
     },
     "metadata": {},
     "output_type": "display_data"
    },
    {
     "data": {
      "text/html": [
       "        <script type=\"text/javascript\">\n",
       "        window.PlotlyConfig = {MathJaxConfig: 'local'};\n",
       "        if (window.MathJax) {MathJax.Hub.Config({SVG: {font: \"STIX-Web\"}});}\n",
       "        if (typeof require !== 'undefined') {\n",
       "        require.undef(\"plotly\");\n",
       "        requirejs.config({\n",
       "            paths: {\n",
       "                'plotly': ['https://cdn.plot.ly/plotly-latest.min']\n",
       "            }\n",
       "        });\n",
       "        require(['plotly'], function(Plotly) {\n",
       "            window._Plotly = Plotly;\n",
       "        });\n",
       "        }\n",
       "        </script>\n",
       "        "
      ]
     },
     "metadata": {},
     "output_type": "display_data"
    }
   ],
   "source": [
    "from collections import OrderedDict\n",
    "\n",
    "import torch\n",
    "import torch.nn as nn\n",
    "import torch.nn.functional as F\n",
    "\n",
    "import pytorch3d\n",
    "import pytorch3d.io\n",
    "from pytorch3d.structures import Meshes\n",
    "from pytorch3d.renderer import TexturesVertex\n",
    "\n",
    "import trimesh\n",
    "\n",
    "from src.util import make_faces\n",
    "\n",
    "edges = torch.tensor([\n",
    "    [ 0, 22,  2],\n",
    "    [ 2, 22, 23],#\n",
    "    [ 3,  7,  2],\n",
    "    [ 7,  2,  6],#   \n",
    "    [ 1, 18, 19],\n",
    "    [ 1, 19,  3],#    \n",
    "    [ 1, 14, 15],\n",
    "    [ 1, 14,  0],#    \n",
    "    [13, 15, 16],\n",
    "    [15, 16, 18],#    \n",
    "    [12, 14, 20],\n",
    "    [14, 22, 20],#    \n",
    "    [23, 21,  6],\n",
    "    [ 6,  4, 21],#    \n",
    "    [ 7, 19, 17],\n",
    "    [ 5,  7, 17],#    \n",
    "    [11, 16, 17],\n",
    "    [11,  9, 16],#\n",
    "    [ 8,  9, 13],\n",
    "    [13,  8, 12],#\n",
    "    [10,  4,  5],\n",
    "    [11,  5, 10],#    \n",
    "    [10,  8, 21],\n",
    "    [20, 21,  8],\n",
    "])\n",
    "\n",
    "def pairwise(iterable):\n",
    "    \"s -> (s0, s1), (s2, s3), (s4, s5), ...\"\n",
    "    a = iter(iterable)\n",
    "    return zip(a, a)\n",
    "\n",
    "def get_edge_vertices(tri, pair, n):\n",
    "    square = torch.arange(n**2).reshape(n, n)\n",
    "    if pair == [0, 1]:\n",
    "        r = square[0, :]    \n",
    "    elif pair == [0, 2]:\n",
    "        r = square[:, 0]\n",
    "    elif pair == [1, 3]:\n",
    "        r = square[:, -1]\n",
    "    elif pair == [2, 3]:\n",
    "        r = square[-1, :]\n",
    "    else:\n",
    "        raise Exception(f'Unknown pair {pair}')\n",
    "    return ((n ** 2) * tri  + r).tolist()\n",
    "\n",
    "def get_triangles(l1, l2):\n",
    "    t1 = [[a, b, c] for a, b, c \n",
    "          in zip(l1, l1[1:], l2)]\n",
    "    t2 = [[a, b, c] for a, b, c \n",
    "          in zip(l2, l2[1:], l1[1:])]\n",
    "    return t1 + t2"
   ]
  },
  {
   "cell_type": "code",
   "execution_count": 4,
   "metadata": {
    "scrolled": true
   },
   "outputs": [
    {
     "data": {
      "text/plain": [
       "[[0, 3, 51],\n",
       " [3, 6, 52],\n",
       " [51, 52, 3],\n",
       " [52, 53, 6],\n",
       " [6, 7, 15],\n",
       " [7, 8, 16],\n",
       " [15, 16, 7],\n",
       " [16, 17, 8],\n",
       " [2, 5, 42],\n",
       " [5, 8, 43],\n",
       " [42, 43, 5],\n",
       " [43, 44, 8],\n",
       " [0, 1, 33],\n",
       " [1, 2, 34],\n",
       " [33, 34, 1],\n",
       " [34, 35, 2],\n",
       " [29, 32, 36],\n",
       " [32, 35, 39],\n",
       " [36, 39, 32],\n",
       " [39, 42, 35],\n",
       " [27, 30, 45],\n",
       " [30, 33, 48],\n",
       " [45, 48, 30],\n",
       " [48, 51, 33],\n",
       " [9, 12, 47],\n",
       " [12, 15, 50],\n",
       " [47, 50, 12],\n",
       " [50, 53, 15],\n",
       " [11, 14, 38],\n",
       " [14, 17, 41],\n",
       " [38, 41, 14],\n",
       " [41, 44, 17],\n",
       " [20, 23, 36],\n",
       " [23, 26, 37],\n",
       " [36, 37, 23],\n",
       " [37, 38, 26],\n",
       " [18, 19, 27],\n",
       " [19, 20, 28],\n",
       " [27, 28, 19],\n",
       " [28, 29, 20],\n",
       " [9, 10, 24],\n",
       " [10, 11, 25],\n",
       " [24, 25, 10],\n",
       " [25, 26, 11],\n",
       " [18, 21, 45],\n",
       " [21, 24, 46],\n",
       " [45, 46, 21],\n",
       " [46, 47, 24]]"
      ]
     },
     "execution_count": 4,
     "metadata": {},
     "output_type": "execute_result"
    }
   ],
   "source": [
    "def all_edge_triangles(n):\n",
    "    res, side  = [], 2 ** 2\n",
    "    for x, y in pairwise(edges.tolist()):\n",
    "        m = list(set(x + y))\n",
    "        m.sort()\n",
    "        a1, a2, b1, b2 = m\n",
    "        #print(m)        \n",
    "        pair_a = [a1 % side, a2 % side]\n",
    "        pair_b = [b1 % side, b2 % side]         \n",
    "        tri_a, tri_b = a1 // 4, b1 // 4        \n",
    "        #print( tri_a, b1, tri_b)\n",
    "        #print(pair_a, pair_b)\n",
    "        l1 = get_edge_vertices(tri_a, pair_a, n)\n",
    "        l2 = get_edge_vertices(tri_b, pair_b, n)\n",
    "        #print(l1, l2)\n",
    "        res = res + get_triangles(l1, l2)\n",
    "        #break\n",
    "    return res\n",
    "    \n",
    "res = all_edge_triangles(3)  \n",
    "res"
   ]
  },
  {
   "cell_type": "code",
   "execution_count": 37,
   "metadata": {},
   "outputs": [
    {
     "data": {
      "text/plain": [
       "tensor([[0, 1],\n",
       "        [2, 3]])"
      ]
     },
     "execution_count": 37,
     "metadata": {},
     "output_type": "execute_result"
    }
   ],
   "source": [
    "n = 2\n",
    "square = torch.arange(n**2).reshape(n, n)\n",
    "square"
   ]
  },
  {
   "cell_type": "code",
   "execution_count": 46,
   "metadata": {},
   "outputs": [
    {
     "data": {
      "text/plain": [
       "(tensor([0, 1]), tensor([0, 2]), tensor([1, 3]), tensor([2, 3]))"
      ]
     },
     "execution_count": 46,
     "metadata": {},
     "output_type": "execute_result"
    }
   ],
   "source": [
    "square[0, :], square[:, 0], square[:, -1], square[-1, :]"
   ]
  },
  {
   "cell_type": "code",
   "execution_count": 49,
   "metadata": {},
   "outputs": [
    {
     "data": {
      "text/plain": [
       "([4, 5], [4, 6], [5, 7], [6, 7])"
      ]
     },
     "execution_count": 49,
     "metadata": {},
     "output_type": "execute_result"
    }
   ],
   "source": [
    "tri = 1 \n",
    "(get_edge_vertices(tri, [0, 1], n),\n",
    " get_edge_vertices(tri, [0, 2], n),  \n",
    " get_edge_vertices(tri, [1, 3], n),\n",
    " get_edge_vertices(tri, [2, 3], n))"
   ]
  },
  {
   "cell_type": "code",
   "execution_count": 18,
   "metadata": {},
   "outputs": [],
   "source": [
    "n = 5\n",
    "start = -0.5\n",
    "end = 0.5\n",
    "\n",
    "d1, d2 = torch.meshgrid(\n",
    "    torch.linspace(start, end, steps=n), \n",
    "    torch.linspace(start, end, steps=n))\n",
    "d3 = torch.full_like(d1, end) + 1 / n\n",
    "sides =  OrderedDict({\n",
    "    'front': torch.stack((+d3,  d1,  d2), dim=-1),\n",
    "    'right': torch.stack(( d1, +d3,  d2), dim=-1),    \n",
    "    'back' : torch.stack((-d3,  d1,  d2), dim=-1),         \n",
    "    'left' : torch.stack(( d1, -d3,  d2), dim=-1),\n",
    "    'top'  : torch.stack(( d1,  d2, +d3), dim=-1),\n",
    "    'down' : torch.stack(( d1,  d2, -d3), dim=-1),\n",
    "})\n",
    "vert = torch.stack(list(sides.values())).reshape(-1, 3)\n",
    "offset, faces = n ** 2, make_faces(n, n)\n",
    "faces = torch.cat([\n",
    "    i * offset + torch.tensor(faces)\n",
    "    for i in range(6)])\n",
    "textures = TexturesVertex(verts_features=[torch.ones_like(vert)])\n",
    "mesh = Meshes(verts=[vert], faces=[faces], textures=textures)\n",
    "\n",
    "#n = 3\n",
    "c0 = 0\n",
    "c1 = n-1\n",
    "c2 = n**2-n\n",
    "c3 = n**2-1 \n",
    "rmn = torch.tensor(\n",
    "    [[c0, c2, c2],\n",
    "     [c3, c3, c3],\n",
    "     [c0, c1, c1],\n",
    "     [c1, c3, c1],\n",
    "     [c1, c2, c3],\n",
    "     [c2, c3, c2],\n",
    "     [c0, c0, c0],\n",
    "     [c1, c2, c0]])\n",
    "\n",
    "corners = torch.tensor([\n",
    "    [ 0, 22, 14],\n",
    "    [ 3, 19,  7],\n",
    "    \n",
    "    [16,  9, 13],   \n",
    "    [17, 11,  5],\n",
    "    \n",
    "    [ 1, 18, 15],\n",
    "    [ 2, 23,  6],\n",
    "    \n",
    "    [20,  8, 12],\n",
    "    [21, 10,  4],\n",
    "])  \n",
    "tris = torch.div(corners, n**2, rounding_mode='trunc')\n",
    "corners = tris * n**2 + rmn\n",
    "\n",
    "edge_faces = torch.tensor(all_edge_triangles(n))\n",
    "\n",
    "m = trimesh.Trimesh(vertices=vert, \n",
    "    faces=torch.cat((faces, \n",
    "                     #corners,\n",
    "                     edge_faces,\n",
    "                    )))\n",
    "m.export(f'./data/cube-{n}x{n}.stl');"
   ]
  },
  {
   "cell_type": "code",
   "execution_count": 61,
   "metadata": {},
   "outputs": [
    {
     "data": {
      "text/plain": [
       "[[0, 2, 22],\n",
       " [22, 23, 2],\n",
       " [2, 3, 6],\n",
       " [6, 7, 3],\n",
       " [1, 3, 18],\n",
       " [18, 19, 3],\n",
       " [0, 1, 14],\n",
       " [14, 15, 1],\n",
       " [13, 15, 16],\n",
       " [16, 18, 15],\n",
       " [12, 14, 20],\n",
       " [20, 22, 14],\n",
       " [4, 6, 21],\n",
       " [21, 23, 6],\n",
       " [5, 7, 17],\n",
       " [17, 19, 7],\n",
       " [9, 11, 16],\n",
       " [16, 17, 11],\n",
       " [8, 9, 12],\n",
       " [12, 13, 9],\n",
       " [4, 5, 10],\n",
       " [10, 11, 5],\n",
       " [8, 10, 20],\n",
       " [20, 21, 10]]"
      ]
     },
     "execution_count": 61,
     "metadata": {},
     "output_type": "execute_result"
    }
   ],
   "source": [
    "edge_faces"
   ]
  },
  {
   "cell_type": "code",
   "execution_count": 16,
   "metadata": {},
   "outputs": [],
   "source": [
    "n = 3\n",
    "start = -0.5\n",
    "end = 0.5\n",
    "\n",
    "d1, d2 = torch.meshgrid(\n",
    "    torch.linspace(start, end, steps=n), \n",
    "    torch.linspace(start, end, steps=n))\n",
    "d3 = torch.full_like(d1, end) + 1 / n\n",
    "sides =  OrderedDict({\n",
    "    'front': torch.stack((+d3,  d1,  d2), dim=-1),\n",
    "    'right': torch.stack(( d1, +d3,  d2), dim=-1),    \n",
    "    'back' : torch.stack((-d3,  d1,  d2), dim=-1),         \n",
    "    'left' : torch.stack(( d1, -d3,  d2), dim=-1),\n",
    "    'top'  : torch.stack(( d1,  d2, +d3), dim=-1),\n",
    "    'down' : torch.stack(( d1,  d2, -d3), dim=-1),\n",
    "})\n",
    "vert = torch.stack(list(sides.values())).reshape(-1, 3)\n",
    "offset, faces = n ** 2, make_faces(n, n)\n",
    "faces = torch.cat([\n",
    "    i * offset + torch.tensor(faces)\n",
    "    for i in range(6)])\n",
    "textures = TexturesVertex(verts_features=[torch.ones_like(vert)])\n",
    "mesh = Meshes(verts=[vert], faces=[faces], textures=textures)\n",
    "\n",
    "n = 2\n",
    "c0 = 0\n",
    "c1 = n-1\n",
    "c2 = n**2-n\n",
    "c3 = n**2-1 \n",
    "rmn = torch.tensor(\n",
    "[[c0, c2, c2],\n",
    " [c3, c3, c3],\n",
    " [c0, c1, c1],\n",
    " [c1, c3, c1],\n",
    " [c1, c2, c3],\n",
    " [c2, c3, c2],\n",
    " [c0, c0, c0],\n",
    " [c1, c2, c0]])\n",
    "rmn\n",
    "\n",
    "corners = torch.tensor([\n",
    "    [ 0, 22, 14],\n",
    "    [ 3, 19,  7],\n",
    "    \n",
    "    [16,  9, 13],   \n",
    "    [17, 11,  5],\n",
    "    \n",
    "    [ 1, 18, 15],\n",
    "    [ 2, 23,  6],\n",
    "    \n",
    "    [20,  8, 12],\n",
    "    [21, 10,  4],\n",
    "]) \n",
    "\n",
    "adj_corners = tris * n**2 + rmn\n",
    "\n",
    "m = trimesh.Trimesh(vertices=vert, \n",
    "    faces=torch.cat((faces, corners)))\n",
    "m.export('./data/cube-3x3.stl');"
   ]
  },
  {
   "cell_type": "code",
   "execution_count": 15,
   "metadata": {},
   "outputs": [
    {
     "data": {
      "text/plain": [
       "tensor([[ 0, 16, 12],\n",
       "        [ 0, 12,  4],\n",
       "        [12,  8, 12],\n",
       "        [12,  8,  4],\n",
       "        [ 0, 12, 12],\n",
       "        [ 0, 16,  4],\n",
       "        [16,  8, 12],\n",
       "        [16,  8,  4]])"
      ]
     },
     "execution_count": 15,
     "metadata": {},
     "output_type": "execute_result"
    }
   ],
   "source": [
    "corners - adj_corners"
   ]
  },
  {
   "cell_type": "code",
   "execution_count": null,
   "metadata": {},
   "outputs": [],
   "source": []
  }
 ],
 "metadata": {
  "kernelspec": {
   "display_name": "Python [conda env:pytorch3d_06] *",
   "language": "python",
   "name": "conda-env-pytorch3d_06-py"
  },
  "language_info": {
   "codemirror_mode": {
    "name": "ipython",
    "version": 3
   },
   "file_extension": ".py",
   "mimetype": "text/x-python",
   "name": "python",
   "nbconvert_exporter": "python",
   "pygments_lexer": "ipython3",
   "version": "3.8.11"
  }
 },
 "nbformat": 4,
 "nbformat_minor": 4
}
