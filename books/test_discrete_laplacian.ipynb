{
 "cells": [
  {
   "cell_type": "code",
   "execution_count": 1,
   "metadata": {},
   "outputs": [],
   "source": [
    "import torch\n",
    "import torch.nn as nn\n",
    "import torch.nn.functional as F\n",
    "\n",
    "def get_laplacian(requires_grad=False):    \n",
    "    hood = [[ 1.,   4., 1.],\n",
    "            [ 4., -20., 4.],\n",
    "            [ 1.,   4., 1.],]\n",
    "\n",
    "    zeros = [[0., 0., 0.],\n",
    "             [0., 0., 0.],\n",
    "             [0., 0., 0.],]\n",
    "\n",
    "    weights = torch.tensor([\n",
    "        [hood, zeros, zeros],\n",
    "        [zeros, hood, zeros],\n",
    "        [zeros, zeros, hood],\n",
    "    ])\n",
    "    res = nn.Conv2d(3, 3, 3, stride=1, padding=1, \n",
    "        bias=False, padding_mode='replicate')\n",
    "    # nn.Conv2d(3, 3, self.kernel_size, stride=1, padding=0, bias=None, groups=3)\n",
    "    \n",
    "    res.requires_grad_(requires_grad)\n",
    "    res.weight.data = weights\n",
    "    return res\n",
    "\n",
    "#laplacian = "
   ]
  },
  {
   "cell_type": "code",
   "execution_count": 3,
   "metadata": {},
   "outputs": [
    {
     "data": {
      "text/plain": [
       "DiscreteLaplacian(\n",
       "  (seq): Sequential(\n",
       "    (conv): Conv2d(3, 3, kernel_size=(3, 3), stride=(1, 1), groups=3, bias=False)\n",
       "  )\n",
       ")"
      ]
     },
     "execution_count": 3,
     "metadata": {},
     "output_type": "execute_result"
    }
   ],
   "source": [
    "from collections import OrderedDict\n",
    "\n",
    "class DiscreteLaplacian(nn.Module):\n",
    "    def __init__(self):\n",
    "        super(DiscreteLaplacian, self).__init__()\n",
    "        \n",
    "        self.seq = nn.Sequential(OrderedDict([\n",
    "          #('padd', nn.ReflectionPad2d(1)),\n",
    "          ('conv', nn.Conv2d(3, 3, 3, stride=1, padding=0, \n",
    "                             bias=False, groups=3)),\n",
    "        ]))\n",
    "        self.seq.requires_grad_(False)\n",
    "        self.weights_init()\n",
    "\n",
    "    def forward(self, x):\n",
    "        return self.seq(x)#.sum()\n",
    "\n",
    "    def weights_init(self):\n",
    "        w = torch.tensor([[ 1.,   4., 1.],\n",
    "                          [ 4., -20., 4.],\n",
    "                          [ 1.,   4., 1.],])\n",
    "        for _, f in self.named_parameters():           \n",
    "            f.data.copy_(w)\n",
    "\n",
    "dl = DiscreteLaplacian()            \n",
    "dl"
   ]
  },
  {
   "cell_type": "code",
   "execution_count": 4,
   "metadata": {},
   "outputs": [
    {
     "data": {
      "text/plain": [
       "tensor([[[[  1.,   4.,   1.],\n",
       "          [  4., -20.,   4.],\n",
       "          [  1.,   4.,   1.]]],\n",
       "\n",
       "\n",
       "        [[[  1.,   4.,   1.],\n",
       "          [  4., -20.,   4.],\n",
       "          [  1.,   4.,   1.]]],\n",
       "\n",
       "\n",
       "        [[[  1.,   4.,   1.],\n",
       "          [  4., -20.,   4.],\n",
       "          [  1.,   4.,   1.]]]])"
      ]
     },
     "execution_count": 4,
     "metadata": {},
     "output_type": "execute_result"
    }
   ],
   "source": [
    "dl.seq.conv.weight.data"
   ]
  },
  {
   "cell_type": "code",
   "execution_count": 7,
   "metadata": {},
   "outputs": [
    {
     "data": {
      "text/plain": [
       "tensor(2.2430)"
      ]
     },
     "execution_count": 7,
     "metadata": {},
     "output_type": "execute_result"
    }
   ],
   "source": [
    "dl(torch.randn(1, 3, 8, 8) * 0.01).norm()"
   ]
  },
  {
   "cell_type": "code",
   "execution_count": null,
   "metadata": {},
   "outputs": [],
   "source": []
  }
 ],
 "metadata": {
  "kernelspec": {
   "display_name": "Python [conda env:pytorch3d_06] *",
   "language": "python",
   "name": "conda-env-pytorch3d_06-py"
  },
  "language_info": {
   "codemirror_mode": {
    "name": "ipython",
    "version": 3
   },
   "file_extension": ".py",
   "mimetype": "text/x-python",
   "name": "python",
   "nbconvert_exporter": "python",
   "pygments_lexer": "ipython3",
   "version": "3.8.11"
  }
 },
 "nbformat": 4,
 "nbformat_minor": 4
}
