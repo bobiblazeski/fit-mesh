{
 "cells": [
  {
   "cell_type": "code",
   "execution_count": 34,
   "metadata": {
    "scrolled": true
   },
   "outputs": [
    {
     "name": "stdout",
     "output_type": "stream",
     "text": [
      "ParameterDict(\n",
      "    (back): Parameter containing: [torch.FloatTensor of size 1x3x2x2]\n",
      "    (down): Parameter containing: [torch.FloatTensor of size 1x3x2x2]\n",
      "    (front): Parameter containing: [torch.FloatTensor of size 1x3x2x2]\n",
      "    (left): Parameter containing: [torch.FloatTensor of size 1x3x2x2]\n",
      "    (right): Parameter containing: [torch.FloatTensor of size 1x3x2x2]\n",
      "    (top): Parameter containing: [torch.FloatTensor of size 1x3x2x2]\n",
      ")\n",
      "ParameterDict(\n",
      "    (back): Parameter containing: [torch.FloatTensor of size 1x3x4x4]\n",
      "    (down): Parameter containing: [torch.FloatTensor of size 1x3x4x4]\n",
      "    (front): Parameter containing: [torch.FloatTensor of size 1x3x4x4]\n",
      "    (left): Parameter containing: [torch.FloatTensor of size 1x3x4x4]\n",
      "    (right): Parameter containing: [torch.FloatTensor of size 1x3x4x4]\n",
      "    (top): Parameter containing: [torch.FloatTensor of size 1x3x4x4]\n",
      ")\n",
      "ParameterDict(\n",
      "    (back): Parameter containing: [torch.FloatTensor of size 1x3x8x8]\n",
      "    (down): Parameter containing: [torch.FloatTensor of size 1x3x8x8]\n",
      "    (front): Parameter containing: [torch.FloatTensor of size 1x3x8x8]\n",
      "    (left): Parameter containing: [torch.FloatTensor of size 1x3x8x8]\n",
      "    (right): Parameter containing: [torch.FloatTensor of size 1x3x8x8]\n",
      "    (top): Parameter containing: [torch.FloatTensor of size 1x3x8x8]\n",
      ")\n",
      "{'back': tensor([[[[0., 0., 0., 0., 0., 0., 0., 0.],\n",
      "          [0., 0., 0., 0., 0., 0., 0., 0.],\n",
      "          [0., 0., 0., 0., 0., 0., 0., 0.],\n",
      "          [0., 0., 0., 0., 0., 0., 0., 0.],\n",
      "          [0., 0., 0., 0., 0., 0., 0., 0.],\n",
      "          [0., 0., 0., 0., 0., 0., 0., 0.],\n",
      "          [0., 0., 0., 0., 0., 0., 0., 0.],\n",
      "          [0., 0., 0., 0., 0., 0., 0., 0.]],\n",
      "\n",
      "         [[0., 0., 0., 0., 0., 0., 0., 0.],\n",
      "          [0., 0., 0., 0., 0., 0., 0., 0.],\n",
      "          [0., 0., 0., 0., 0., 0., 0., 0.],\n",
      "          [0., 0., 0., 0., 0., 0., 0., 0.],\n",
      "          [0., 0., 0., 0., 0., 0., 0., 0.],\n",
      "          [0., 0., 0., 0., 0., 0., 0., 0.],\n",
      "          [0., 0., 0., 0., 0., 0., 0., 0.],\n",
      "          [0., 0., 0., 0., 0., 0., 0., 0.]],\n",
      "\n",
      "         [[0., 0., 0., 0., 0., 0., 0., 0.],\n",
      "          [0., 0., 0., 0., 0., 0., 0., 0.],\n",
      "          [0., 0., 0., 0., 0., 0., 0., 0.],\n",
      "          [0., 0., 0., 0., 0., 0., 0., 0.],\n",
      "          [0., 0., 0., 0., 0., 0., 0., 0.],\n",
      "          [0., 0., 0., 0., 0., 0., 0., 0.],\n",
      "          [0., 0., 0., 0., 0., 0., 0., 0.],\n",
      "          [0., 0., 0., 0., 0., 0., 0., 0.]]]], grad_fn=<AddBackward0>), 'down': tensor([[[[0., 0., 0., 0., 0., 0., 0., 0.],\n",
      "          [0., 0., 0., 0., 0., 0., 0., 0.],\n",
      "          [0., 0., 0., 0., 0., 0., 0., 0.],\n",
      "          [0., 0., 0., 0., 0., 0., 0., 0.],\n",
      "          [0., 0., 0., 0., 0., 0., 0., 0.],\n",
      "          [0., 0., 0., 0., 0., 0., 0., 0.],\n",
      "          [0., 0., 0., 0., 0., 0., 0., 0.],\n",
      "          [0., 0., 0., 0., 0., 0., 0., 0.]],\n",
      "\n",
      "         [[0., 0., 0., 0., 0., 0., 0., 0.],\n",
      "          [0., 0., 0., 0., 0., 0., 0., 0.],\n",
      "          [0., 0., 0., 0., 0., 0., 0., 0.],\n",
      "          [0., 0., 0., 0., 0., 0., 0., 0.],\n",
      "          [0., 0., 0., 0., 0., 0., 0., 0.],\n",
      "          [0., 0., 0., 0., 0., 0., 0., 0.],\n",
      "          [0., 0., 0., 0., 0., 0., 0., 0.],\n",
      "          [0., 0., 0., 0., 0., 0., 0., 0.]],\n",
      "\n",
      "         [[0., 0., 0., 0., 0., 0., 0., 0.],\n",
      "          [0., 0., 0., 0., 0., 0., 0., 0.],\n",
      "          [0., 0., 0., 0., 0., 0., 0., 0.],\n",
      "          [0., 0., 0., 0., 0., 0., 0., 0.],\n",
      "          [0., 0., 0., 0., 0., 0., 0., 0.],\n",
      "          [0., 0., 0., 0., 0., 0., 0., 0.],\n",
      "          [0., 0., 0., 0., 0., 0., 0., 0.],\n",
      "          [0., 0., 0., 0., 0., 0., 0., 0.]]]], grad_fn=<AddBackward0>), 'front': tensor([[[[0., 0., 0., 0., 0., 0., 0., 0.],\n",
      "          [0., 0., 0., 0., 0., 0., 0., 0.],\n",
      "          [0., 0., 0., 0., 0., 0., 0., 0.],\n",
      "          [0., 0., 0., 0., 0., 0., 0., 0.],\n",
      "          [0., 0., 0., 0., 0., 0., 0., 0.],\n",
      "          [0., 0., 0., 0., 0., 0., 0., 0.],\n",
      "          [0., 0., 0., 0., 0., 0., 0., 0.],\n",
      "          [0., 0., 0., 0., 0., 0., 0., 0.]],\n",
      "\n",
      "         [[0., 0., 0., 0., 0., 0., 0., 0.],\n",
      "          [0., 0., 0., 0., 0., 0., 0., 0.],\n",
      "          [0., 0., 0., 0., 0., 0., 0., 0.],\n",
      "          [0., 0., 0., 0., 0., 0., 0., 0.],\n",
      "          [0., 0., 0., 0., 0., 0., 0., 0.],\n",
      "          [0., 0., 0., 0., 0., 0., 0., 0.],\n",
      "          [0., 0., 0., 0., 0., 0., 0., 0.],\n",
      "          [0., 0., 0., 0., 0., 0., 0., 0.]],\n",
      "\n",
      "         [[0., 0., 0., 0., 0., 0., 0., 0.],\n",
      "          [0., 0., 0., 0., 0., 0., 0., 0.],\n",
      "          [0., 0., 0., 0., 0., 0., 0., 0.],\n",
      "          [0., 0., 0., 0., 0., 0., 0., 0.],\n",
      "          [0., 0., 0., 0., 0., 0., 0., 0.],\n",
      "          [0., 0., 0., 0., 0., 0., 0., 0.],\n",
      "          [0., 0., 0., 0., 0., 0., 0., 0.],\n",
      "          [0., 0., 0., 0., 0., 0., 0., 0.]]]], grad_fn=<AddBackward0>), 'left': tensor([[[[0., 0., 0., 0., 0., 0., 0., 0.],\n",
      "          [0., 0., 0., 0., 0., 0., 0., 0.],\n",
      "          [0., 0., 0., 0., 0., 0., 0., 0.],\n",
      "          [0., 0., 0., 0., 0., 0., 0., 0.],\n",
      "          [0., 0., 0., 0., 0., 0., 0., 0.],\n",
      "          [0., 0., 0., 0., 0., 0., 0., 0.],\n",
      "          [0., 0., 0., 0., 0., 0., 0., 0.],\n",
      "          [0., 0., 0., 0., 0., 0., 0., 0.]],\n",
      "\n",
      "         [[0., 0., 0., 0., 0., 0., 0., 0.],\n",
      "          [0., 0., 0., 0., 0., 0., 0., 0.],\n",
      "          [0., 0., 0., 0., 0., 0., 0., 0.],\n",
      "          [0., 0., 0., 0., 0., 0., 0., 0.],\n",
      "          [0., 0., 0., 0., 0., 0., 0., 0.],\n",
      "          [0., 0., 0., 0., 0., 0., 0., 0.],\n",
      "          [0., 0., 0., 0., 0., 0., 0., 0.],\n",
      "          [0., 0., 0., 0., 0., 0., 0., 0.]],\n",
      "\n",
      "         [[0., 0., 0., 0., 0., 0., 0., 0.],\n",
      "          [0., 0., 0., 0., 0., 0., 0., 0.],\n",
      "          [0., 0., 0., 0., 0., 0., 0., 0.],\n",
      "          [0., 0., 0., 0., 0., 0., 0., 0.],\n",
      "          [0., 0., 0., 0., 0., 0., 0., 0.],\n",
      "          [0., 0., 0., 0., 0., 0., 0., 0.],\n",
      "          [0., 0., 0., 0., 0., 0., 0., 0.],\n",
      "          [0., 0., 0., 0., 0., 0., 0., 0.]]]], grad_fn=<AddBackward0>), 'right': tensor([[[[0., 0., 0., 0., 0., 0., 0., 0.],\n",
      "          [0., 0., 0., 0., 0., 0., 0., 0.],\n",
      "          [0., 0., 0., 0., 0., 0., 0., 0.],\n",
      "          [0., 0., 0., 0., 0., 0., 0., 0.],\n",
      "          [0., 0., 0., 0., 0., 0., 0., 0.],\n",
      "          [0., 0., 0., 0., 0., 0., 0., 0.],\n",
      "          [0., 0., 0., 0., 0., 0., 0., 0.],\n",
      "          [0., 0., 0., 0., 0., 0., 0., 0.]],\n",
      "\n",
      "         [[0., 0., 0., 0., 0., 0., 0., 0.],\n",
      "          [0., 0., 0., 0., 0., 0., 0., 0.],\n",
      "          [0., 0., 0., 0., 0., 0., 0., 0.],\n",
      "          [0., 0., 0., 0., 0., 0., 0., 0.],\n",
      "          [0., 0., 0., 0., 0., 0., 0., 0.],\n",
      "          [0., 0., 0., 0., 0., 0., 0., 0.],\n",
      "          [0., 0., 0., 0., 0., 0., 0., 0.],\n",
      "          [0., 0., 0., 0., 0., 0., 0., 0.]],\n",
      "\n",
      "         [[0., 0., 0., 0., 0., 0., 0., 0.],\n",
      "          [0., 0., 0., 0., 0., 0., 0., 0.],\n",
      "          [0., 0., 0., 0., 0., 0., 0., 0.],\n",
      "          [0., 0., 0., 0., 0., 0., 0., 0.],\n",
      "          [0., 0., 0., 0., 0., 0., 0., 0.],\n",
      "          [0., 0., 0., 0., 0., 0., 0., 0.],\n",
      "          [0., 0., 0., 0., 0., 0., 0., 0.],\n",
      "          [0., 0., 0., 0., 0., 0., 0., 0.]]]], grad_fn=<AddBackward0>), 'top': tensor([[[[0., 0., 0., 0., 0., 0., 0., 0.],\n",
      "          [0., 0., 0., 0., 0., 0., 0., 0.],\n",
      "          [0., 0., 0., 0., 0., 0., 0., 0.],\n",
      "          [0., 0., 0., 0., 0., 0., 0., 0.],\n",
      "          [0., 0., 0., 0., 0., 0., 0., 0.],\n",
      "          [0., 0., 0., 0., 0., 0., 0., 0.],\n",
      "          [0., 0., 0., 0., 0., 0., 0., 0.],\n",
      "          [0., 0., 0., 0., 0., 0., 0., 0.]],\n",
      "\n",
      "         [[0., 0., 0., 0., 0., 0., 0., 0.],\n",
      "          [0., 0., 0., 0., 0., 0., 0., 0.],\n",
      "          [0., 0., 0., 0., 0., 0., 0., 0.],\n",
      "          [0., 0., 0., 0., 0., 0., 0., 0.],\n",
      "          [0., 0., 0., 0., 0., 0., 0., 0.],\n",
      "          [0., 0., 0., 0., 0., 0., 0., 0.],\n",
      "          [0., 0., 0., 0., 0., 0., 0., 0.],\n",
      "          [0., 0., 0., 0., 0., 0., 0., 0.]],\n",
      "\n",
      "         [[0., 0., 0., 0., 0., 0., 0., 0.],\n",
      "          [0., 0., 0., 0., 0., 0., 0., 0.],\n",
      "          [0., 0., 0., 0., 0., 0., 0., 0.],\n",
      "          [0., 0., 0., 0., 0., 0., 0., 0.],\n",
      "          [0., 0., 0., 0., 0., 0., 0., 0.],\n",
      "          [0., 0., 0., 0., 0., 0., 0., 0.],\n",
      "          [0., 0., 0., 0., 0., 0., 0., 0.],\n",
      "          [0., 0., 0., 0., 0., 0., 0., 0.]]]], grad_fn=<AddBackward0>)}\n",
      "torch.Size([6, 3, 8, 8])\n",
      "torch.Size([384, 3])\n"
     ]
    },
    {
     "data": {
      "text/plain": [
       "(<pytorch3d.structures.meshes.Meshes at 0x7feef620f340>, 0)"
      ]
     },
     "execution_count": 34,
     "metadata": {},
     "output_type": "execute_result"
    }
   ],
   "source": [
    "import math\n",
    "import torch\n",
    "import torch.nn as nn\n",
    "import torch.nn.functional as F\n",
    "\n",
    "from src.cube import make_cube_mesh\n",
    "from src.discrete_laplacian import DiscreteLaplacian\n",
    "from src.operators import get_gaussian\n",
    "\n",
    "def sides_dict(n):\n",
    "    return nn.ParameterDict({\n",
    "        'front': nn.Parameter(torch.zeros((1, 3, n, n))),\n",
    "        'back' : nn.Parameter(torch.zeros((1, 3, n, n))),\n",
    "        'left' : nn.Parameter(torch.zeros((1, 3, n, n))),\n",
    "        'right': nn.Parameter(torch.zeros((1, 3, n, n))),\n",
    "        'top'  : nn.Parameter(torch.zeros((1, 3, n, n))),\n",
    "        'down' : nn.Parameter(torch.zeros((1, 3, n, n))),\n",
    "    })\n",
    "\n",
    "\n",
    "class ProgressiveCube(nn.Module):\n",
    "    def __init__(self, n, kernel=21, sigma=7, start=-0.5, end=0.5):\n",
    "        super(ProgressiveCube, self).__init__()        \n",
    "        self.n = n\n",
    "        self.side_names = list(sides_dict(1).keys())\n",
    "        self.params = nn.ModuleList([sides_dict(2**i)\n",
    "            for i in range(1, int(math.log2(n))+1)])\n",
    "        \n",
    "        self.source = make_cube_mesh(n, start, end)\n",
    "        self.gaussian = get_gaussian(kernel)\n",
    "        #self.gaussian = DiscreteGaussian(kernel, sigma=sigma)\n",
    "        self.laplacian = DiscreteLaplacian()\n",
    "        clip_value = 1. / n\n",
    "        for d in self.params:\n",
    "            for p in d.values():\n",
    "                #p.register_hook(lambda grad: torch.nan_to_num(grad))\n",
    "                p.register_hook(lambda grad: self.gaussian(torch.nan_to_num(grad)))\n",
    "                #p.register_hook(lambda grad: torch.clamp(self.gaussian(grad), -clip_value, clip_value))\n",
    "                #p.register_hook(lambda grad: torch.clamp(grad, -clip_value, clip_value))        \n",
    "\n",
    "    def make_vert(self):\n",
    "        return torch.cat([p[0].reshape(3, -1).t()\n",
    "                          for p in self.params.values()])\n",
    "    \n",
    "    def scale(self, t):\n",
    "        return  F.interpolate(t, self.n, mode='bilinear', align_corners=True)\n",
    "\n",
    "    def forward(self):\n",
    "        summed = {}\n",
    "        for d in self.params:\n",
    "            print(d)\n",
    "            for key in side_keys:\n",
    "                if key in summed:\n",
    "                    summed[key] = summed[key] + self.scale(d[key])\n",
    "                else:\n",
    "                    summed[key] = self.scale(d[key])        \n",
    "        ps = torch.cat([p for p in summed.values()])        \n",
    "        deform_verts = ps.permute(0, 2, 3, 1).reshape(-1, 3)         \n",
    "        new_src_mesh = self.source.offset_verts(deform_verts)        \n",
    "        return new_src_mesh, 0 #self.laplacian(ps)\n",
    "    \n",
    "    def to(self, device):\n",
    "        module = super(ProgressiveCube, self).to(device)        \n",
    "        module.source = self.source.to(device)        \n",
    "        return module\n",
    "    \n",
    "    def export(self, f):        \n",
    "        mesh, _ = self.forward()\n",
    "        mesh = mesh.detach()\n",
    "        save_obj(f, mesh.verts_packed(), mesh.faces_packed())   \n",
    "\n",
    "        \n",
    "cube = Cube(8, kernel=3)\n",
    "\n",
    "cube.forward()"
   ]
  },
  {
   "cell_type": "code",
   "execution_count": 26,
   "metadata": {},
   "outputs": [
    {
     "data": {
      "text/plain": [
       "torch.Size([384, 3])"
      ]
     },
     "execution_count": 26,
     "metadata": {},
     "output_type": "execute_result"
    }
   ],
   "source": [
    "cube.source.verts_packed().shape"
   ]
  },
  {
   "cell_type": "code",
   "execution_count": 28,
   "metadata": {},
   "outputs": [
    {
     "data": {
      "text/plain": [
       "64.0"
      ]
     },
     "execution_count": 28,
     "metadata": {},
     "output_type": "execute_result"
    }
   ],
   "source": [
    "384 / 6"
   ]
  },
  {
   "cell_type": "code",
   "execution_count": 27,
   "metadata": {},
   "outputs": [
    {
     "data": {
      "text/plain": [
       "Cube(\n",
       "  (params): ModuleList(\n",
       "    (0): ParameterDict(\n",
       "        (back): Parameter containing: [torch.FloatTensor of size 1x3x2x2]\n",
       "        (down): Parameter containing: [torch.FloatTensor of size 1x3x2x2]\n",
       "        (front): Parameter containing: [torch.FloatTensor of size 1x3x2x2]\n",
       "        (left): Parameter containing: [torch.FloatTensor of size 1x3x2x2]\n",
       "        (right): Parameter containing: [torch.FloatTensor of size 1x3x2x2]\n",
       "        (top): Parameter containing: [torch.FloatTensor of size 1x3x2x2]\n",
       "    )\n",
       "    (1): ParameterDict(\n",
       "        (back): Parameter containing: [torch.FloatTensor of size 1x3x4x4]\n",
       "        (down): Parameter containing: [torch.FloatTensor of size 1x3x4x4]\n",
       "        (front): Parameter containing: [torch.FloatTensor of size 1x3x4x4]\n",
       "        (left): Parameter containing: [torch.FloatTensor of size 1x3x4x4]\n",
       "        (right): Parameter containing: [torch.FloatTensor of size 1x3x4x4]\n",
       "        (top): Parameter containing: [torch.FloatTensor of size 1x3x4x4]\n",
       "    )\n",
       "    (2): ParameterDict(\n",
       "        (back): Parameter containing: [torch.FloatTensor of size 1x3x8x8]\n",
       "        (down): Parameter containing: [torch.FloatTensor of size 1x3x8x8]\n",
       "        (front): Parameter containing: [torch.FloatTensor of size 1x3x8x8]\n",
       "        (left): Parameter containing: [torch.FloatTensor of size 1x3x8x8]\n",
       "        (right): Parameter containing: [torch.FloatTensor of size 1x3x8x8]\n",
       "        (top): Parameter containing: [torch.FloatTensor of size 1x3x8x8]\n",
       "    )\n",
       "  )\n",
       "  (gaussian): Conv2d(3, 3, kernel_size=(3, 3), stride=(1, 1), padding=(1, 1), bias=False, padding_mode=replicate)\n",
       "  (laplacian): DiscreteLaplacian(\n",
       "    (seq): Sequential(\n",
       "      (conv): Conv2d(3, 3, kernel_size=(3, 3), stride=(1, 1), groups=3, bias=False)\n",
       "    )\n",
       "  )\n",
       ")"
      ]
     },
     "execution_count": 27,
     "metadata": {},
     "output_type": "execute_result"
    }
   ],
   "source": [
    "cube"
   ]
  },
  {
   "cell_type": "code",
   "execution_count": 13,
   "metadata": {},
   "outputs": [
    {
     "data": {
      "text/plain": [
       "ModuleList(\n",
       "  (0): ParameterDict(\n",
       "      (back): Parameter containing: [torch.FloatTensor of size 1x3x2x2]\n",
       "      (down): Parameter containing: [torch.FloatTensor of size 1x3x2x2]\n",
       "      (front): Parameter containing: [torch.FloatTensor of size 1x3x2x2]\n",
       "      (left): Parameter containing: [torch.FloatTensor of size 1x3x2x2]\n",
       "      (right): Parameter containing: [torch.FloatTensor of size 1x3x2x2]\n",
       "      (top): Parameter containing: [torch.FloatTensor of size 1x3x2x2]\n",
       "  )\n",
       "  (1): ParameterDict(\n",
       "      (back): Parameter containing: [torch.FloatTensor of size 1x3x4x4]\n",
       "      (down): Parameter containing: [torch.FloatTensor of size 1x3x4x4]\n",
       "      (front): Parameter containing: [torch.FloatTensor of size 1x3x4x4]\n",
       "      (left): Parameter containing: [torch.FloatTensor of size 1x3x4x4]\n",
       "      (right): Parameter containing: [torch.FloatTensor of size 1x3x4x4]\n",
       "      (top): Parameter containing: [torch.FloatTensor of size 1x3x4x4]\n",
       "  )\n",
       ")"
      ]
     },
     "execution_count": 13,
     "metadata": {},
     "output_type": "execute_result"
    }
   ],
   "source": [
    "n = 4\n",
    "params = nn.ModuleList([sides_dict(2**i)\n",
    "            for i in range(1, int(math.log2(n))+1)])\n",
    "params"
   ]
  },
  {
   "cell_type": "code",
   "execution_count": 38,
   "metadata": {},
   "outputs": [
    {
     "data": {
      "text/plain": [
       "Sequential(\n",
       "  (0): ReflectionPad2d((10, 10, 10, 10))\n",
       "  (1): Conv2d(3, 3, kernel_size=(21, 21), stride=(1, 1), groups=3, bias=False)\n",
       ")"
      ]
     },
     "execution_count": 38,
     "metadata": {},
     "output_type": "execute_result"
    }
   ],
   "source": [
    "seq.requires_grad_(False)\n"
   ]
  },
  {
   "cell_type": "code",
   "execution_count": 14,
   "metadata": {},
   "outputs": [
    {
     "data": {
      "text/plain": [
       "['back', 'down', 'front', 'left', 'right', 'top']"
      ]
     },
     "execution_count": 14,
     "metadata": {},
     "output_type": "execute_result"
    }
   ],
   "source": [
    "side_keys = list(sides_dict(1).keys())\n",
    "side_keys"
   ]
  },
  {
   "cell_type": "code",
   "execution_count": 15,
   "metadata": {},
   "outputs": [
    {
     "data": {
      "text/plain": [
       "torch.Size([1, 3, 4, 4])"
      ]
     },
     "execution_count": 15,
     "metadata": {},
     "output_type": "execute_result"
    }
   ],
   "source": [
    "F.interpolate(torch.rand(1, 3, 2, 2), n).shape"
   ]
  },
  {
   "cell_type": "code",
   "execution_count": 18,
   "metadata": {
    "scrolled": true
   },
   "outputs": [
    {
     "data": {
      "text/plain": [
       "{'back': tensor([[[[0., 0., 0., 0.],\n",
       "           [0., 0., 0., 0.],\n",
       "           [0., 0., 0., 0.],\n",
       "           [0., 0., 0., 0.]],\n",
       " \n",
       "          [[0., 0., 0., 0.],\n",
       "           [0., 0., 0., 0.],\n",
       "           [0., 0., 0., 0.],\n",
       "           [0., 0., 0., 0.]],\n",
       " \n",
       "          [[0., 0., 0., 0.],\n",
       "           [0., 0., 0., 0.],\n",
       "           [0., 0., 0., 0.],\n",
       "           [0., 0., 0., 0.]]]], grad_fn=<AddBackward0>),\n",
       " 'down': tensor([[[[0., 0., 0., 0.],\n",
       "           [0., 0., 0., 0.],\n",
       "           [0., 0., 0., 0.],\n",
       "           [0., 0., 0., 0.]],\n",
       " \n",
       "          [[0., 0., 0., 0.],\n",
       "           [0., 0., 0., 0.],\n",
       "           [0., 0., 0., 0.],\n",
       "           [0., 0., 0., 0.]],\n",
       " \n",
       "          [[0., 0., 0., 0.],\n",
       "           [0., 0., 0., 0.],\n",
       "           [0., 0., 0., 0.],\n",
       "           [0., 0., 0., 0.]]]], grad_fn=<AddBackward0>),\n",
       " 'front': tensor([[[[0., 0., 0., 0.],\n",
       "           [0., 0., 0., 0.],\n",
       "           [0., 0., 0., 0.],\n",
       "           [0., 0., 0., 0.]],\n",
       " \n",
       "          [[0., 0., 0., 0.],\n",
       "           [0., 0., 0., 0.],\n",
       "           [0., 0., 0., 0.],\n",
       "           [0., 0., 0., 0.]],\n",
       " \n",
       "          [[0., 0., 0., 0.],\n",
       "           [0., 0., 0., 0.],\n",
       "           [0., 0., 0., 0.],\n",
       "           [0., 0., 0., 0.]]]], grad_fn=<AddBackward0>),\n",
       " 'left': tensor([[[[0., 0., 0., 0.],\n",
       "           [0., 0., 0., 0.],\n",
       "           [0., 0., 0., 0.],\n",
       "           [0., 0., 0., 0.]],\n",
       " \n",
       "          [[0., 0., 0., 0.],\n",
       "           [0., 0., 0., 0.],\n",
       "           [0., 0., 0., 0.],\n",
       "           [0., 0., 0., 0.]],\n",
       " \n",
       "          [[0., 0., 0., 0.],\n",
       "           [0., 0., 0., 0.],\n",
       "           [0., 0., 0., 0.],\n",
       "           [0., 0., 0., 0.]]]], grad_fn=<AddBackward0>),\n",
       " 'right': tensor([[[[0., 0., 0., 0.],\n",
       "           [0., 0., 0., 0.],\n",
       "           [0., 0., 0., 0.],\n",
       "           [0., 0., 0., 0.]],\n",
       " \n",
       "          [[0., 0., 0., 0.],\n",
       "           [0., 0., 0., 0.],\n",
       "           [0., 0., 0., 0.],\n",
       "           [0., 0., 0., 0.]],\n",
       " \n",
       "          [[0., 0., 0., 0.],\n",
       "           [0., 0., 0., 0.],\n",
       "           [0., 0., 0., 0.],\n",
       "           [0., 0., 0., 0.]]]], grad_fn=<AddBackward0>),\n",
       " 'top': tensor([[[[0., 0., 0., 0.],\n",
       "           [0., 0., 0., 0.],\n",
       "           [0., 0., 0., 0.],\n",
       "           [0., 0., 0., 0.]],\n",
       " \n",
       "          [[0., 0., 0., 0.],\n",
       "           [0., 0., 0., 0.],\n",
       "           [0., 0., 0., 0.],\n",
       "           [0., 0., 0., 0.]],\n",
       " \n",
       "          [[0., 0., 0., 0.],\n",
       "           [0., 0., 0., 0.],\n",
       "           [0., 0., 0., 0.],\n",
       "           [0., 0., 0., 0.]]]], grad_fn=<AddBackward0>)}"
      ]
     },
     "execution_count": 18,
     "metadata": {},
     "output_type": "execute_result"
    }
   ],
   "source": [
    "res = {}\n",
    "for d in params:\n",
    "    for key in side_keys:\n",
    "        if key in res:\n",
    "            res[key] = res[key] + F.interpolate(d[key], n, mode='bilinear', align_corners=True)\n",
    "        else:\n",
    "            res[key] = F.interpolate(d[key], n, mode='bilinear', align_corners=True)\n",
    "res            "
   ]
  },
  {
   "cell_type": "code",
   "execution_count": null,
   "metadata": {},
   "outputs": [],
   "source": []
  }
 ],
 "metadata": {
  "kernelspec": {
   "display_name": "Python [conda env:pytorch3d_06] *",
   "language": "python",
   "name": "conda-env-pytorch3d_06-py"
  },
  "language_info": {
   "codemirror_mode": {
    "name": "ipython",
    "version": 3
   },
   "file_extension": ".py",
   "mimetype": "text/x-python",
   "name": "python",
   "nbconvert_exporter": "python",
   "pygments_lexer": "ipython3",
   "version": "3.8.11"
  }
 },
 "nbformat": 4,
 "nbformat_minor": 4
}
