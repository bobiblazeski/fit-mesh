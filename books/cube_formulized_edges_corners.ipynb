{
 "cells": [
  {
   "cell_type": "code",
   "execution_count": 1,
   "metadata": {},
   "outputs": [
    {
     "data": {
      "text/html": [
       "        <script type=\"text/javascript\">\n",
       "        window.PlotlyConfig = {MathJaxConfig: 'local'};\n",
       "        if (window.MathJax) {MathJax.Hub.Config({SVG: {font: \"STIX-Web\"}});}\n",
       "        if (typeof require !== 'undefined') {\n",
       "        require.undef(\"plotly\");\n",
       "        requirejs.config({\n",
       "            paths: {\n",
       "                'plotly': ['https://cdn.plot.ly/plotly-latest.min']\n",
       "            }\n",
       "        });\n",
       "        require(['plotly'], function(Plotly) {\n",
       "            window._Plotly = Plotly;\n",
       "        });\n",
       "        }\n",
       "        </script>\n",
       "        "
      ]
     },
     "metadata": {},
     "output_type": "display_data"
    },
    {
     "data": {
      "text/html": [
       "        <script type=\"text/javascript\">\n",
       "        window.PlotlyConfig = {MathJaxConfig: 'local'};\n",
       "        if (window.MathJax) {MathJax.Hub.Config({SVG: {font: \"STIX-Web\"}});}\n",
       "        if (typeof require !== 'undefined') {\n",
       "        require.undef(\"plotly\");\n",
       "        requirejs.config({\n",
       "            paths: {\n",
       "                'plotly': ['https://cdn.plot.ly/plotly-latest.min']\n",
       "            }\n",
       "        });\n",
       "        require(['plotly'], function(Plotly) {\n",
       "            window._Plotly = Plotly;\n",
       "        });\n",
       "        }\n",
       "        </script>\n",
       "        "
      ]
     },
     "metadata": {},
     "output_type": "display_data"
    },
    {
     "data": {
      "text/html": [
       "        <script type=\"text/javascript\">\n",
       "        window.PlotlyConfig = {MathJaxConfig: 'local'};\n",
       "        if (window.MathJax) {MathJax.Hub.Config({SVG: {font: \"STIX-Web\"}});}\n",
       "        if (typeof require !== 'undefined') {\n",
       "        require.undef(\"plotly\");\n",
       "        requirejs.config({\n",
       "            paths: {\n",
       "                'plotly': ['https://cdn.plot.ly/plotly-latest.min']\n",
       "            }\n",
       "        });\n",
       "        require(['plotly'], function(Plotly) {\n",
       "            window._Plotly = Plotly;\n",
       "        });\n",
       "        }\n",
       "        </script>\n",
       "        "
      ]
     },
     "metadata": {},
     "output_type": "display_data"
    },
    {
     "data": {
      "text/html": [
       "        <script type=\"text/javascript\">\n",
       "        window.PlotlyConfig = {MathJaxConfig: 'local'};\n",
       "        if (window.MathJax) {MathJax.Hub.Config({SVG: {font: \"STIX-Web\"}});}\n",
       "        if (typeof require !== 'undefined') {\n",
       "        require.undef(\"plotly\");\n",
       "        requirejs.config({\n",
       "            paths: {\n",
       "                'plotly': ['https://cdn.plot.ly/plotly-latest.min']\n",
       "            }\n",
       "        });\n",
       "        require(['plotly'], function(Plotly) {\n",
       "            window._Plotly = Plotly;\n",
       "        });\n",
       "        }\n",
       "        </script>\n",
       "        "
      ]
     },
     "metadata": {},
     "output_type": "display_data"
    }
   ],
   "source": [
    "from collections import OrderedDict\n",
    "\n",
    "import torch\n",
    "import torch.nn as nn\n",
    "import torch.nn.functional as F\n",
    "\n",
    "import pytorch3d\n",
    "import pytorch3d.io\n",
    "from pytorch3d.structures import Meshes\n",
    "from pytorch3d.renderer import TexturesVertex\n",
    "\n",
    "import trimesh\n",
    "\n",
    "from src.util import make_faces\n",
    "from src.cube_util import all_edge_triangles"
   ]
  },
  {
   "cell_type": "code",
   "execution_count": 29,
   "metadata": {},
   "outputs": [
    {
     "data": {
      "text/plain": [
       "'./data/cube-1001x1001.stl'"
      ]
     },
     "execution_count": 29,
     "metadata": {},
     "output_type": "execute_result"
    }
   ],
   "source": [
    "n = 1001\n",
    "start = -0.5\n",
    "end = 0.5\n",
    "\n",
    "d1, d2 = torch.meshgrid(\n",
    "    torch.linspace(start, end, steps=n), \n",
    "    torch.linspace(start, end, steps=n))\n",
    "d3 = torch.full_like(d1, end) + 1 / n\n",
    "sides =  OrderedDict({\n",
    "    'front': torch.stack((+d3,  d1,  d2), dim=-1),\n",
    "    'right': torch.stack(( d1, +d3,  d2), dim=-1),    \n",
    "    'back' : torch.stack((-d3,  d1,  d2), dim=-1),         \n",
    "    'left' : torch.stack(( d1, -d3,  d2), dim=-1),\n",
    "    'top'  : torch.stack(( d1,  d2, +d3), dim=-1),\n",
    "    'down' : torch.stack(( d1,  d2, -d3), dim=-1),\n",
    "})\n",
    "vert = torch.stack(list(sides.values())).reshape(-1, 3)\n",
    "offset, faces = n ** 2, make_faces(n, n)\n",
    "faces = torch.cat([\n",
    "    i * offset + torch.tensor(faces)\n",
    "    for i in range(6)])\n",
    "textures = TexturesVertex(verts_features=[torch.ones_like(vert)])\n",
    "mesh = Meshes(verts=[vert], faces=[faces], textures=textures)\n",
    "\n",
    "edge_faces = torch.tensor(all_edge_triangles(n))\n",
    "\n",
    "def get_corners(n):\n",
    "    s0 = 0\n",
    "    s1 = n-1\n",
    "    s2 = n**2-n\n",
    "    s3 = n**2-1\n",
    "    tris = torch.tensor([\n",
    "        [0, 5, 3],\n",
    "        [0, 4, 1],\n",
    "        [4, 2, 3],\n",
    "        [4, 2, 1],\n",
    "        [0, 4, 3],\n",
    "        [0, 5, 1],\n",
    "        [5, 2, 3],\n",
    "        [5, 2, 1]])    \n",
    "    rmn = torch.tensor([\n",
    "        [s0, s2, s2],\n",
    "        [s3, s3, s3],\n",
    "        [s0, s1, s1],\n",
    "        [s1, s3, s1],\n",
    "        [s1, s2, s3],\n",
    "        [s2, s3, s2],\n",
    "        [s0, s0, s0],\n",
    "        [s1, s2, s0]])\n",
    "    return tris * n**2+ rmn\n",
    "\n",
    "corners = get_corners(n)\n",
    "m = trimesh.Trimesh(vertices=vert, \n",
    "    faces=torch.cat((faces, \n",
    "                     corners,\n",
    "                     edge_faces,\n",
    "                    )))\n",
    "filename = f'./data/cube-{n}x{n}.stl'\n",
    "m.export(filename);\n",
    "filename"
   ]
  },
  {
   "cell_type": "code",
   "execution_count": 22,
   "metadata": {},
   "outputs": [
    {
     "data": {
      "text/plain": [
       "tensor([[ 0, 30, 30],\n",
       "        [35, 35, 35],\n",
       "        [ 0,  5,  5],\n",
       "        [ 5, 35,  5],\n",
       "        [ 5, 30, 35],\n",
       "        [30, 35, 30],\n",
       "        [ 0,  0,  0],\n",
       "        [ 5, 30,  0]])"
      ]
     },
     "execution_count": 22,
     "metadata": {},
     "output_type": "execute_result"
    }
   ],
   "source": [
    "corners"
   ]
  },
  {
   "cell_type": "code",
   "execution_count": 3,
   "metadata": {},
   "outputs": [
    {
     "data": {
      "text/plain": [
       "tensor([[ 0, 22, 14],\n",
       "        [ 3, 19,  7],\n",
       "        [16,  9, 13],\n",
       "        [17, 11,  5],\n",
       "        [ 1, 18, 15],\n",
       "        [ 2, 23,  6],\n",
       "        [20,  8, 12],\n",
       "        [21, 10,  4]])"
      ]
     },
     "execution_count": 3,
     "metadata": {},
     "output_type": "execute_result"
    }
   ],
   "source": [
    "corners = torch.tensor([\n",
    "    [ 0, 22, 14],\n",
    "    [ 3, 19,  7],\n",
    "    \n",
    "    [16,  9, 13],   \n",
    "    [17, 11,  5],\n",
    "    \n",
    "    [ 1, 18, 15],\n",
    "    [ 2, 23,  6],\n",
    "    \n",
    "    [20,  8, 12],\n",
    "    [21, 10,  4],\n",
    "])\n",
    "corners"
   ]
  },
  {
   "cell_type": "code",
   "execution_count": 4,
   "metadata": {},
   "outputs": [
    {
     "data": {
      "text/plain": [
       "tensor([[0, 5, 3],\n",
       "        [0, 4, 1],\n",
       "        [4, 2, 3],\n",
       "        [4, 2, 1],\n",
       "        [0, 4, 3],\n",
       "        [0, 5, 1],\n",
       "        [5, 2, 3],\n",
       "        [5, 2, 1]])"
      ]
     },
     "execution_count": 4,
     "metadata": {},
     "output_type": "execute_result"
    }
   ],
   "source": [
    "tris = torch.div(corners, 4, rounding_mode='trunc')\n",
    "tris"
   ]
  },
  {
   "cell_type": "code",
   "execution_count": 5,
   "metadata": {},
   "outputs": [
    {
     "data": {
      "text/plain": [
       "tensor([[0, 2, 2],\n",
       "        [3, 3, 3],\n",
       "        [0, 1, 1],\n",
       "        [1, 3, 1],\n",
       "        [1, 2, 3],\n",
       "        [2, 3, 2],\n",
       "        [0, 0, 0],\n",
       "        [1, 2, 0]])"
      ]
     },
     "execution_count": 5,
     "metadata": {},
     "output_type": "execute_result"
    }
   ],
   "source": [
    "torch.remainder(corners, 4)"
   ]
  },
  {
   "cell_type": "code",
   "execution_count": 16,
   "metadata": {},
   "outputs": [
    {
     "name": "stdout",
     "output_type": "stream",
     "text": [
      "tensor([[ 4, 24],\n",
      "        [ 0, 20]])\n",
      "tensor([[ 0, 20, 20],\n",
      "        [24, 24, 24],\n",
      "        [ 0,  4,  4],\n",
      "        [ 4, 24,  4],\n",
      "        [ 4, 20, 24],\n",
      "        [20, 24, 20],\n",
      "        [ 0,  0,  0],\n",
      "        [ 4, 20,  0]])\n"
     ]
    }
   ],
   "source": [
    "n = 5\n",
    "s0 = 0\n",
    "s1 = n-1\n",
    "s2 = n**2-n\n",
    "s3 = n**2-1\n",
    "print(torch.tensor([\n",
    "    [s1, s3],\n",
    "    [s0, s2],\n",
    "]))\n",
    "rmn = torch.tensor([\n",
    "    [s0, s2, s2],\n",
    "    [s3, s3, s3],\n",
    "    [s0, s1, s1],\n",
    "    [s1, s3, s1],\n",
    "    [s1, s2, s3],\n",
    "    [s2, s3, s2],\n",
    "    [s0, s0, s0],\n",
    "    [s1, s2, s0]])\n",
    "print(rmn)"
   ]
  },
  {
   "cell_type": "code",
   "execution_count": 23,
   "metadata": {},
   "outputs": [
    {
     "data": {
      "text/plain": [
       "tensor([[0, 5, 3],\n",
       "        [0, 4, 1],\n",
       "        [4, 2, 3],\n",
       "        [4, 2, 1],\n",
       "        [0, 4, 3],\n",
       "        [0, 5, 1],\n",
       "        [5, 2, 3],\n",
       "        [5, 2, 1]])"
      ]
     },
     "execution_count": 23,
     "metadata": {},
     "output_type": "execute_result"
    }
   ],
   "source": [
    "tris"
   ]
  },
  {
   "cell_type": "code",
   "execution_count": 25,
   "metadata": {},
   "outputs": [
    {
     "data": {
      "text/plain": [
       "tensor([[ 0, 51, 33],\n",
       "        [ 8, 44, 17],\n",
       "        [36, 20, 29],\n",
       "        [38, 26, 11],\n",
       "        [ 2, 42, 35],\n",
       "        [ 6, 53, 15],\n",
       "        [45, 18, 27],\n",
       "        [47, 24,  9]])"
      ]
     },
     "execution_count": 25,
     "metadata": {},
     "output_type": "execute_result"
    }
   ],
   "source": [
    "def get_corners(n):\n",
    "    s0 = 0\n",
    "    s1 = n-1\n",
    "    s2 = n**2-n\n",
    "    s3 = n**2-1\n",
    "    tris = torch.tensor([\n",
    "        [0, 5, 3],\n",
    "        [0, 4, 1],\n",
    "        [4, 2, 3],\n",
    "        [4, 2, 1],\n",
    "        [0, 4, 3],\n",
    "        [0, 5, 1],\n",
    "        [5, 2, 3],\n",
    "        [5, 2, 1]])    \n",
    "    rmn = torch.tensor([\n",
    "        [s0, s2, s2],\n",
    "        [s3, s3, s3],\n",
    "        [s0, s1, s1],\n",
    "        [s1, s3, s1],\n",
    "        [s1, s2, s3],\n",
    "        [s2, s3, s2],\n",
    "        [s0, s0, s0],\n",
    "        [s1, s2, s0]])\n",
    "    return tris * n**2+ rmn\n",
    "\n",
    "get_corners(3)"
   ]
  },
  {
   "cell_type": "code",
   "execution_count": null,
   "metadata": {},
   "outputs": [],
   "source": [
    "tris"
   ]
  }
 ],
 "metadata": {
  "kernelspec": {
   "display_name": "Python [conda env:pytorch3d_06] *",
   "language": "python",
   "name": "conda-env-pytorch3d_06-py"
  },
  "language_info": {
   "codemirror_mode": {
    "name": "ipython",
    "version": 3
   },
   "file_extension": ".py",
   "mimetype": "text/x-python",
   "name": "python",
   "nbconvert_exporter": "python",
   "pygments_lexer": "ipython3",
   "version": "3.8.11"
  }
 },
 "nbformat": 4,
 "nbformat_minor": 4
}
