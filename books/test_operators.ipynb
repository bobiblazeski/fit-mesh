{
 "cells": [
  {
   "cell_type": "code",
   "execution_count": 8,
   "metadata": {},
   "outputs": [],
   "source": [
    "import torch\n",
    "import torch.nn as nn\n",
    "\n",
    "from src.cube import make_cube_mesh\n",
    "\n",
    "from src.operators import get_gaussian"
   ]
  },
  {
   "cell_type": "code",
   "execution_count": 39,
   "metadata": {},
   "outputs": [],
   "source": [
    "class Cube(nn.Module):\n",
    "    def __init__(self, n, kernel=7, start=-0.5, end=0.5):\n",
    "        super(Cube, self).__init__()        \n",
    "        self.n = n\n",
    "        self.params = nn.ParameterDict({\n",
    "            'front': nn.Parameter(torch.zeros((3, n, n))),\n",
    "            'back' : nn.Parameter(torch.zeros((3, n, n))),\n",
    "            'left' : nn.Parameter(torch.zeros((3, n, n))),\n",
    "            'right': nn.Parameter(torch.zeros((3, n, n))),\n",
    "            'top'  : nn.Parameter(torch.zeros((3, n, n))),\n",
    "            'down' : nn.Parameter(torch.zeros((3, n, n))),            \n",
    "        })\n",
    "        self.source = make_cube_mesh(n, start, end)\n",
    "        self.gaussian = get_gaussian(kernel)\n",
    "    \n",
    "    def make_vert(self):\n",
    "        return torch.cat([self.gaussian(p)[0].reshape(3, -1)  \n",
    "                          for p in params.values()], dim=-1).t()        \n",
    "\n",
    "    def forward(self):\n",
    "        deform_verts = self.make_vert()\n",
    "        new_src_mesh = self.source.offset_verts(deform_verts)\n",
    "        return new_src_mesh\n",
    "    \n",
    "    def to(self, device):\n",
    "        module = super(Cube, self).to(device)        \n",
    "        module.source = self.source.to(device)        \n",
    "        return module\n",
    "    \n",
    "    def export(self, f):\n",
    "        mesh = self.forward().detach()\n",
    "        save_obj(f, mesh.verts_packed(), mesh.faces_packed())    "
   ]
  },
  {
   "cell_type": "code",
   "execution_count": 2,
   "metadata": {},
   "outputs": [
    {
     "data": {
      "text/plain": [
       "Conv2d(3, 3, kernel_size=(3, 3), stride=(1, 1), padding=(1, 1), bias=False, padding_mode=replicate)"
      ]
     },
     "execution_count": 2,
     "metadata": {},
     "output_type": "execute_result"
    }
   ],
   "source": [
    "g3 = get_gaussian(3)\n",
    "g3"
   ]
  },
  {
   "cell_type": "code",
   "execution_count": 3,
   "metadata": {
    "scrolled": true
   },
   "outputs": [
    {
     "data": {
      "text/plain": [
       "tensor([[[[ 7.9438e-01,  4.3005e-01, -6.6315e-01,  ..., -9.5278e-01,\n",
       "           -7.8254e-01, -7.3293e-01],\n",
       "          [-5.2570e-02, -2.0779e-01, -7.8589e-01,  ..., -6.2589e-01,\n",
       "           -5.1360e-01, -3.3650e-01],\n",
       "          [-8.4221e-02, -6.1115e-01, -1.0637e+00,  ..., -2.9301e-01,\n",
       "           -2.2609e-01, -3.0271e-01],\n",
       "          ...,\n",
       "          [ 1.9079e-01,  6.9547e-03,  5.1614e-02,  ...,  4.0490e-01,\n",
       "            1.5286e-01, -3.3568e-02],\n",
       "          [-3.5926e-01, -1.6361e-01, -8.2602e-02,  ...,  6.7123e-01,\n",
       "            2.1885e-01, -4.4470e-01],\n",
       "          [-6.1303e-01,  2.5004e-01, -4.4083e-02,  ...,  6.9320e-01,\n",
       "            5.4686e-01,  1.9382e-01]],\n",
       "\n",
       "         [[ 2.2345e-01,  4.6967e-01,  3.8529e-01,  ..., -7.7210e-02,\n",
       "            5.7891e-02, -2.0997e-01],\n",
       "          [ 1.5053e-01,  3.1964e-01,  3.7400e-01,  ...,  2.9857e-01,\n",
       "            1.8273e-01, -3.5422e-01],\n",
       "          [-1.9012e-01, -2.0400e-01, -1.3082e-01,  ...,  4.9211e-01,\n",
       "            1.7546e-01, -1.5087e-01],\n",
       "          ...,\n",
       "          [-4.2463e-02, -1.1393e-01,  1.4012e-01,  ...,  1.6665e-01,\n",
       "           -3.8485e-01, -1.0063e+00],\n",
       "          [ 8.6007e-01,  3.4556e-01,  3.1248e-01,  ..., -1.5900e-01,\n",
       "           -4.5093e-01, -8.4226e-01],\n",
       "          [ 9.2931e-01,  7.2095e-01,  6.3474e-01,  ...,  9.7955e-02,\n",
       "            1.2298e-02, -2.8993e-01]],\n",
       "\n",
       "         [[-3.3183e-01, -4.7866e-01,  1.1487e-02,  ...,  1.9288e-01,\n",
       "            3.7912e-01,  5.0239e-01],\n",
       "          [-2.8445e-01, -2.5289e-01, -1.8522e-01,  ..., -2.4188e-01,\n",
       "            1.1333e-01,  7.4899e-02],\n",
       "          [-2.7517e-01, -5.2697e-03, -8.6184e-02,  ..., -3.3963e-01,\n",
       "            1.2419e-02, -1.4179e-01],\n",
       "          ...,\n",
       "          [-1.2900e+00, -1.1778e+00, -5.6043e-01,  ...,  1.2097e-03,\n",
       "            6.5850e-01,  5.9233e-01],\n",
       "          [-1.1806e+00, -3.6500e-01,  2.7546e-01,  ...,  2.8984e-01,\n",
       "            7.8735e-01,  9.2266e-01],\n",
       "          [-6.2890e-01,  3.5991e-01,  6.5820e-01,  ...,  7.1482e-02,\n",
       "            5.0043e-01,  6.8040e-01]]],\n",
       "\n",
       "\n",
       "        [[[-1.6182e-01, -3.2307e-01,  3.2338e-01,  ...,  7.9468e-02,\n",
       "           -1.2111e-01,  2.9354e-01],\n",
       "          [ 4.9246e-01,  4.3074e-01,  5.7632e-01,  ...,  1.7315e-01,\n",
       "           -2.0445e-02,  3.4694e-01],\n",
       "          [ 7.8365e-01,  3.6940e-01, -1.3397e-02,  ...,  1.8864e-01,\n",
       "            2.3003e-01,  4.8935e-01],\n",
       "          ...,\n",
       "          [ 5.6115e-01,  3.9070e-01, -7.9936e-02,  ...,  6.8188e-02,\n",
       "            8.5913e-02, -3.2456e-01],\n",
       "          [ 4.5975e-01,  3.4416e-01,  1.5513e-01,  ..., -1.7587e-01,\n",
       "            1.4098e-01,  3.2747e-01],\n",
       "          [ 6.3649e-01,  3.1969e-01,  6.4122e-01,  ..., -6.4508e-01,\n",
       "           -2.0296e-01,  5.0521e-01]],\n",
       "\n",
       "         [[-1.1320e+00, -5.7560e-01, -4.3579e-02,  ...,  5.5520e-01,\n",
       "            4.3492e-01,  6.0209e-01],\n",
       "          [-4.8840e-01, -1.9955e-02,  4.0622e-01,  ...,  4.4995e-01,\n",
       "            4.1804e-01,  4.2664e-01],\n",
       "          [ 8.7369e-02,  4.3070e-01,  7.8620e-01,  ...,  5.5596e-01,\n",
       "            2.0766e-01, -1.8435e-01],\n",
       "          ...,\n",
       "          [ 1.2314e-01, -2.9611e-01, -2.8917e-01,  ..., -9.3207e-02,\n",
       "            3.7195e-01,  2.1178e-01],\n",
       "          [ 4.9949e-01, -1.6363e-01, -2.5660e-01,  ...,  4.3390e-02,\n",
       "            4.2262e-01, -7.6452e-02],\n",
       "          [ 7.4563e-01,  2.9398e-01, -1.5453e-01,  ...,  5.4720e-01,\n",
       "            1.0895e+00,  6.2537e-01]],\n",
       "\n",
       "         [[ 1.3682e-01, -4.4657e-01, -2.2824e-01,  ..., -1.9604e-01,\n",
       "           -3.9671e-01,  2.5610e-01],\n",
       "          [ 2.6221e-02, -4.2027e-02,  1.4153e-01,  ..., -2.0560e-01,\n",
       "            2.2723e-02,  5.0785e-02],\n",
       "          [ 2.3235e-01,  3.2311e-01,  2.4928e-01,  ..., -1.3110e-01,\n",
       "            4.1111e-01,  6.4330e-01],\n",
       "          ...,\n",
       "          [ 7.6395e-01,  7.0218e-01,  8.4702e-01,  ..., -1.6729e-01,\n",
       "            3.5837e-01,  3.2460e-01],\n",
       "          [ 5.8596e-01,  4.1613e-01,  6.7233e-01,  ...,  1.9750e-01,\n",
       "            6.8799e-01,  9.5426e-01],\n",
       "          [ 1.4662e-01,  2.9563e-01,  6.0497e-01,  ...,  7.5759e-02,\n",
       "            4.7199e-01,  1.0714e+00]]],\n",
       "\n",
       "\n",
       "        [[[-6.5558e-01, -3.4444e-01, -1.8009e-01,  ..., -2.7103e-01,\n",
       "           -1.4492e-01,  3.2190e-02],\n",
       "          [-1.1802e+00, -7.0078e-01,  2.6096e-02,  ..., -4.9985e-01,\n",
       "           -2.1796e-01,  1.1264e-01],\n",
       "          [-1.5144e+00, -9.9317e-01, -2.3409e-01,  ..., -6.0951e-01,\n",
       "           -2.1624e-01,  8.8572e-02],\n",
       "          ...,\n",
       "          [-6.3941e-01,  4.8906e-02,  7.1236e-01,  ..., -1.0537e-01,\n",
       "           -2.9817e-01, -2.4323e-01],\n",
       "          [-6.3569e-01, -1.9376e-01,  4.5648e-01,  ...,  8.2508e-02,\n",
       "           -4.6475e-01, -6.9215e-01],\n",
       "          [-3.9118e-01, -4.5012e-01,  1.1642e-02,  ..., -1.1472e-01,\n",
       "           -7.6914e-01, -1.0436e+00]],\n",
       "\n",
       "         [[ 2.5679e-01,  7.5938e-01,  1.1626e+00,  ..., -8.1607e-02,\n",
       "           -4.1816e-01, -5.2592e-01],\n",
       "          [-6.3451e-01,  4.5886e-02,  4.7003e-01,  ...,  9.1832e-02,\n",
       "            1.0222e-01, -6.2328e-02],\n",
       "          [-5.7240e-01, -3.7971e-01, -1.4509e-01,  ...,  4.0242e-01,\n",
       "            5.7943e-01, -3.5214e-02],\n",
       "          ...,\n",
       "          [-5.0532e-01,  1.6329e-01,  5.2785e-01,  ..., -5.6588e-01,\n",
       "           -3.8549e-01, -3.0099e-01],\n",
       "          [-8.5525e-01, -2.2768e-01,  2.1389e-01,  ..., -6.9347e-01,\n",
       "           -1.7813e-01,  7.8177e-02],\n",
       "          [-7.2243e-01, -3.9803e-01,  2.6173e-02,  ..., -1.3858e-01,\n",
       "           -4.1144e-01, -4.9677e-01]],\n",
       "\n",
       "         [[-1.9950e-01, -1.6047e-01, -1.9899e-01,  ...,  3.3264e-01,\n",
       "            4.0669e-01,  5.2189e-02],\n",
       "          [-5.0734e-01, -2.1825e-01,  1.3968e-01,  ...,  7.2955e-01,\n",
       "            6.7996e-01,  2.7769e-01],\n",
       "          [-1.5459e-01, -4.2147e-01, -6.2945e-02,  ...,  9.4791e-01,\n",
       "            7.2817e-01,  2.7028e-01],\n",
       "          ...,\n",
       "          [-1.0097e-01,  1.2516e-01,  4.2719e-01,  ..., -6.3358e-01,\n",
       "           -3.1916e-01, -2.5018e-01],\n",
       "          [ 6.0052e-01,  5.9544e-01,  8.1426e-01,  ..., -2.4770e-01,\n",
       "            8.9261e-02,  1.0468e-01],\n",
       "          [ 1.1920e+00,  8.5981e-01,  7.1910e-01,  ..., -5.0866e-01,\n",
       "            3.0951e-02,  4.1937e-01]]]])"
      ]
     },
     "execution_count": 3,
     "metadata": {},
     "output_type": "execute_result"
    }
   ],
   "source": [
    "g3(torch.randn(3, 3, 100, 100))"
   ]
  },
  {
   "cell_type": "code",
   "execution_count": 40,
   "metadata": {},
   "outputs": [
    {
     "data": {
      "text/plain": [
       "Cube(\n",
       "  (params): ParameterDict(\n",
       "      (back): Parameter containing: [torch.FloatTensor of size 3x11x11]\n",
       "      (down): Parameter containing: [torch.FloatTensor of size 3x11x11]\n",
       "      (front): Parameter containing: [torch.FloatTensor of size 3x11x11]\n",
       "      (left): Parameter containing: [torch.FloatTensor of size 3x11x11]\n",
       "      (right): Parameter containing: [torch.FloatTensor of size 3x11x11]\n",
       "      (top): Parameter containing: [torch.FloatTensor of size 3x11x11]\n",
       "  )\n",
       "  (gaussian): Conv2d(3, 3, kernel_size=(7, 7), stride=(1, 1), padding=(3, 3), bias=False, padding_mode=replicate)\n",
       ")"
      ]
     },
     "execution_count": 40,
     "metadata": {},
     "output_type": "execute_result"
    }
   ],
   "source": [
    "cube = Cube(11)\n",
    "cube"
   ]
  },
  {
   "cell_type": "code",
   "execution_count": 41,
   "metadata": {},
   "outputs": [
    {
     "data": {
      "text/plain": [
       "<pytorch3d.structures.meshes.Meshes at 0x7f4bee15e2e0>"
      ]
     },
     "execution_count": 41,
     "metadata": {},
     "output_type": "execute_result"
    }
   ],
   "source": [
    "cube.forward()"
   ]
  },
  {
   "cell_type": "code",
   "execution_count": 14,
   "metadata": {},
   "outputs": [
    {
     "data": {
      "text/plain": [
       "ParameterDict(\n",
       "    (back): Parameter containing: [torch.FloatTensor of size 1x3x11x11]\n",
       "    (down): Parameter containing: [torch.FloatTensor of size 1x3x11x11]\n",
       "    (front): Parameter containing: [torch.FloatTensor of size 1x3x11x11]\n",
       "    (left): Parameter containing: [torch.FloatTensor of size 1x3x11x11]\n",
       "    (right): Parameter containing: [torch.FloatTensor of size 1x3x11x11]\n",
       "    (top): Parameter containing: [torch.FloatTensor of size 1x3x11x11]\n",
       ")"
      ]
     },
     "execution_count": 14,
     "metadata": {},
     "output_type": "execute_result"
    }
   ],
   "source": [
    "n =11\n",
    "params = nn.ParameterDict({\n",
    "            'front': nn.Parameter(torch.zeros((1, 3, n, n))),\n",
    "            'back' : nn.Parameter(torch.zeros((1, 3, n, n))),\n",
    "            'left' : nn.Parameter(torch.zeros((1, 3, n, n))),\n",
    "            'right': nn.Parameter(torch.zeros((1, 3, n, n))),\n",
    "            'top'  : nn.Parameter(torch.zeros((1, 3, n, n))),\n",
    "            'down' : nn.Parameter(torch.zeros((1, 3, n, n))),            \n",
    "        })\n",
    "params"
   ]
  },
  {
   "cell_type": "code",
   "execution_count": 34,
   "metadata": {
    "scrolled": true
   },
   "outputs": [
    {
     "data": {
      "text/plain": [
       "torch.Size([726, 3])"
      ]
     },
     "execution_count": 34,
     "metadata": {},
     "output_type": "execute_result"
    }
   ],
   "source": [
    "v = torch.cat([g3(p)[0].reshape(3, -1)  for p in params.values()], dim=-1).t()\n",
    "v.shape"
   ]
  },
  {
   "cell_type": "code",
   "execution_count": 26,
   "metadata": {},
   "outputs": [
    {
     "data": {
      "text/plain": [
       "torch.Size([1, 3, 11, 11])"
      ]
     },
     "execution_count": 26,
     "metadata": {},
     "output_type": "execute_result"
    }
   ],
   "source": [
    "g3(params['front']).shape"
   ]
  },
  {
   "cell_type": "code",
   "execution_count": 27,
   "metadata": {},
   "outputs": [
    {
     "data": {
      "text/plain": [
       "torch.Size([3, 11, 11])"
      ]
     },
     "execution_count": 27,
     "metadata": {},
     "output_type": "execute_result"
    }
   ],
   "source": [
    "g3(params['front'])[0].shape"
   ]
  },
  {
   "cell_type": "code",
   "execution_count": 29,
   "metadata": {},
   "outputs": [
    {
     "data": {
      "text/plain": [
       "torch.Size([3, 121])"
      ]
     },
     "execution_count": 29,
     "metadata": {},
     "output_type": "execute_result"
    }
   ],
   "source": [
    "g3(params['front'])[0].reshape(3, -1).shape"
   ]
  },
  {
   "cell_type": "code",
   "execution_count": 48,
   "metadata": {},
   "outputs": [
    {
     "name": "stdout",
     "output_type": "stream",
     "text": [
      "False\n"
     ]
    }
   ],
   "source": [
    "if params['front'].data.grad:\n",
    "    print(True)\n",
    "else:\n",
    "    print(False)"
   ]
  },
  {
   "cell_type": "code",
   "execution_count": 50,
   "metadata": {},
   "outputs": [
    {
     "name": "stdout",
     "output_type": "stream",
     "text": [
      "Parameter containing:\n",
      "tensor([[[[0., 0., 0., 0., 0., 0., 0., 0., 0., 0., 0.],\n",
      "          [0., 0., 0., 0., 0., 0., 0., 0., 0., 0., 0.],\n",
      "          [0., 0., 0., 0., 0., 0., 0., 0., 0., 0., 0.],\n",
      "          [0., 0., 0., 0., 0., 0., 0., 0., 0., 0., 0.],\n",
      "          [0., 0., 0., 0., 0., 0., 0., 0., 0., 0., 0.],\n",
      "          [0., 0., 0., 0., 0., 0., 0., 0., 0., 0., 0.],\n",
      "          [0., 0., 0., 0., 0., 0., 0., 0., 0., 0., 0.],\n",
      "          [0., 0., 0., 0., 0., 0., 0., 0., 0., 0., 0.],\n",
      "          [0., 0., 0., 0., 0., 0., 0., 0., 0., 0., 0.],\n",
      "          [0., 0., 0., 0., 0., 0., 0., 0., 0., 0., 0.],\n",
      "          [0., 0., 0., 0., 0., 0., 0., 0., 0., 0., 0.]],\n",
      "\n",
      "         [[0., 0., 0., 0., 0., 0., 0., 0., 0., 0., 0.],\n",
      "          [0., 0., 0., 0., 0., 0., 0., 0., 0., 0., 0.],\n",
      "          [0., 0., 0., 0., 0., 0., 0., 0., 0., 0., 0.],\n",
      "          [0., 0., 0., 0., 0., 0., 0., 0., 0., 0., 0.],\n",
      "          [0., 0., 0., 0., 0., 0., 0., 0., 0., 0., 0.],\n",
      "          [0., 0., 0., 0., 0., 0., 0., 0., 0., 0., 0.],\n",
      "          [0., 0., 0., 0., 0., 0., 0., 0., 0., 0., 0.],\n",
      "          [0., 0., 0., 0., 0., 0., 0., 0., 0., 0., 0.],\n",
      "          [0., 0., 0., 0., 0., 0., 0., 0., 0., 0., 0.],\n",
      "          [0., 0., 0., 0., 0., 0., 0., 0., 0., 0., 0.],\n",
      "          [0., 0., 0., 0., 0., 0., 0., 0., 0., 0., 0.]],\n",
      "\n",
      "         [[0., 0., 0., 0., 0., 0., 0., 0., 0., 0., 0.],\n",
      "          [0., 0., 0., 0., 0., 0., 0., 0., 0., 0., 0.],\n",
      "          [0., 0., 0., 0., 0., 0., 0., 0., 0., 0., 0.],\n",
      "          [0., 0., 0., 0., 0., 0., 0., 0., 0., 0., 0.],\n",
      "          [0., 0., 0., 0., 0., 0., 0., 0., 0., 0., 0.],\n",
      "          [0., 0., 0., 0., 0., 0., 0., 0., 0., 0., 0.],\n",
      "          [0., 0., 0., 0., 0., 0., 0., 0., 0., 0., 0.],\n",
      "          [0., 0., 0., 0., 0., 0., 0., 0., 0., 0., 0.],\n",
      "          [0., 0., 0., 0., 0., 0., 0., 0., 0., 0., 0.],\n",
      "          [0., 0., 0., 0., 0., 0., 0., 0., 0., 0., 0.],\n",
      "          [0., 0., 0., 0., 0., 0., 0., 0., 0., 0., 0.]]]], requires_grad=True)\n"
     ]
    },
    {
     "ename": "AttributeError",
     "evalue": "'NoneType' object has no attribute 'dim'",
     "output_type": "error",
     "traceback": [
      "\u001b[0;31m---------------------------------------------------------------------------\u001b[0m",
      "\u001b[0;31mAttributeError\u001b[0m                            Traceback (most recent call last)",
      "\u001b[0;32m<ipython-input-50-31f257c7e51d>\u001b[0m in \u001b[0;36m<module>\u001b[0;34m\u001b[0m\n\u001b[1;32m      1\u001b[0m \u001b[0;32mfor\u001b[0m \u001b[0mp\u001b[0m \u001b[0;32min\u001b[0m \u001b[0mparams\u001b[0m\u001b[0;34m.\u001b[0m\u001b[0mvalues\u001b[0m\u001b[0;34m(\u001b[0m\u001b[0;34m)\u001b[0m\u001b[0;34m:\u001b[0m\u001b[0;34m\u001b[0m\u001b[0;34m\u001b[0m\u001b[0m\n\u001b[1;32m      2\u001b[0m     \u001b[0mprint\u001b[0m\u001b[0;34m(\u001b[0m\u001b[0mp\u001b[0m\u001b[0;34m)\u001b[0m\u001b[0;34m\u001b[0m\u001b[0;34m\u001b[0m\u001b[0m\n\u001b[0;32m----> 3\u001b[0;31m     \u001b[0mp\u001b[0m\u001b[0;34m.\u001b[0m\u001b[0mdata\u001b[0m\u001b[0;34m.\u001b[0m\u001b[0mgrad\u001b[0m \u001b[0;34m=\u001b[0m \u001b[0mg3\u001b[0m\u001b[0;34m(\u001b[0m\u001b[0mp\u001b[0m\u001b[0;34m.\u001b[0m\u001b[0mdata\u001b[0m\u001b[0;34m.\u001b[0m\u001b[0mgrad\u001b[0m\u001b[0;34m)\u001b[0m\u001b[0;34m\u001b[0m\u001b[0;34m\u001b[0m\u001b[0m\n\u001b[0m",
      "\u001b[0;32m~/miniconda3/envs/pytorch3d_06/lib/python3.8/site-packages/torch/nn/modules/module.py\u001b[0m in \u001b[0;36m_call_impl\u001b[0;34m(self, *input, **kwargs)\u001b[0m\n\u001b[1;32m   1049\u001b[0m         if not (self._backward_hooks or self._forward_hooks or self._forward_pre_hooks or _global_backward_hooks\n\u001b[1;32m   1050\u001b[0m                 or _global_forward_hooks or _global_forward_pre_hooks):\n\u001b[0;32m-> 1051\u001b[0;31m             \u001b[0;32mreturn\u001b[0m \u001b[0mforward_call\u001b[0m\u001b[0;34m(\u001b[0m\u001b[0;34m*\u001b[0m\u001b[0minput\u001b[0m\u001b[0;34m,\u001b[0m \u001b[0;34m**\u001b[0m\u001b[0mkwargs\u001b[0m\u001b[0;34m)\u001b[0m\u001b[0;34m\u001b[0m\u001b[0;34m\u001b[0m\u001b[0m\n\u001b[0m\u001b[1;32m   1052\u001b[0m         \u001b[0;31m# Do not call functions when jit is used\u001b[0m\u001b[0;34m\u001b[0m\u001b[0;34m\u001b[0m\u001b[0;34m\u001b[0m\u001b[0m\n\u001b[1;32m   1053\u001b[0m         \u001b[0mfull_backward_hooks\u001b[0m\u001b[0;34m,\u001b[0m \u001b[0mnon_full_backward_hooks\u001b[0m \u001b[0;34m=\u001b[0m \u001b[0;34m[\u001b[0m\u001b[0;34m]\u001b[0m\u001b[0;34m,\u001b[0m \u001b[0;34m[\u001b[0m\u001b[0;34m]\u001b[0m\u001b[0;34m\u001b[0m\u001b[0;34m\u001b[0m\u001b[0m\n",
      "\u001b[0;32m~/miniconda3/envs/pytorch3d_06/lib/python3.8/site-packages/torch/nn/modules/conv.py\u001b[0m in \u001b[0;36mforward\u001b[0;34m(self, input)\u001b[0m\n\u001b[1;32m    441\u001b[0m \u001b[0;34m\u001b[0m\u001b[0m\n\u001b[1;32m    442\u001b[0m     \u001b[0;32mdef\u001b[0m \u001b[0mforward\u001b[0m\u001b[0;34m(\u001b[0m\u001b[0mself\u001b[0m\u001b[0;34m,\u001b[0m \u001b[0minput\u001b[0m\u001b[0;34m:\u001b[0m \u001b[0mTensor\u001b[0m\u001b[0;34m)\u001b[0m \u001b[0;34m->\u001b[0m \u001b[0mTensor\u001b[0m\u001b[0;34m:\u001b[0m\u001b[0;34m\u001b[0m\u001b[0;34m\u001b[0m\u001b[0m\n\u001b[0;32m--> 443\u001b[0;31m         \u001b[0;32mreturn\u001b[0m \u001b[0mself\u001b[0m\u001b[0;34m.\u001b[0m\u001b[0m_conv_forward\u001b[0m\u001b[0;34m(\u001b[0m\u001b[0minput\u001b[0m\u001b[0;34m,\u001b[0m \u001b[0mself\u001b[0m\u001b[0;34m.\u001b[0m\u001b[0mweight\u001b[0m\u001b[0;34m,\u001b[0m \u001b[0mself\u001b[0m\u001b[0;34m.\u001b[0m\u001b[0mbias\u001b[0m\u001b[0;34m)\u001b[0m\u001b[0;34m\u001b[0m\u001b[0;34m\u001b[0m\u001b[0m\n\u001b[0m\u001b[1;32m    444\u001b[0m \u001b[0;34m\u001b[0m\u001b[0m\n\u001b[1;32m    445\u001b[0m \u001b[0;32mclass\u001b[0m \u001b[0mConv3d\u001b[0m\u001b[0;34m(\u001b[0m\u001b[0m_ConvNd\u001b[0m\u001b[0;34m)\u001b[0m\u001b[0;34m:\u001b[0m\u001b[0;34m\u001b[0m\u001b[0;34m\u001b[0m\u001b[0m\n",
      "\u001b[0;32m~/miniconda3/envs/pytorch3d_06/lib/python3.8/site-packages/torch/nn/modules/conv.py\u001b[0m in \u001b[0;36m_conv_forward\u001b[0;34m(self, input, weight, bias)\u001b[0m\n\u001b[1;32m    434\u001b[0m     \u001b[0;32mdef\u001b[0m \u001b[0m_conv_forward\u001b[0m\u001b[0;34m(\u001b[0m\u001b[0mself\u001b[0m\u001b[0;34m,\u001b[0m \u001b[0minput\u001b[0m\u001b[0;34m:\u001b[0m \u001b[0mTensor\u001b[0m\u001b[0;34m,\u001b[0m \u001b[0mweight\u001b[0m\u001b[0;34m:\u001b[0m \u001b[0mTensor\u001b[0m\u001b[0;34m,\u001b[0m \u001b[0mbias\u001b[0m\u001b[0;34m:\u001b[0m \u001b[0mOptional\u001b[0m\u001b[0;34m[\u001b[0m\u001b[0mTensor\u001b[0m\u001b[0;34m]\u001b[0m\u001b[0;34m)\u001b[0m\u001b[0;34m:\u001b[0m\u001b[0;34m\u001b[0m\u001b[0;34m\u001b[0m\u001b[0m\n\u001b[1;32m    435\u001b[0m         \u001b[0;32mif\u001b[0m \u001b[0mself\u001b[0m\u001b[0;34m.\u001b[0m\u001b[0mpadding_mode\u001b[0m \u001b[0;34m!=\u001b[0m \u001b[0;34m'zeros'\u001b[0m\u001b[0;34m:\u001b[0m\u001b[0;34m\u001b[0m\u001b[0;34m\u001b[0m\u001b[0m\n\u001b[0;32m--> 436\u001b[0;31m             return F.conv2d(F.pad(input, self._reversed_padding_repeated_twice, mode=self.padding_mode),\n\u001b[0m\u001b[1;32m    437\u001b[0m                             \u001b[0mweight\u001b[0m\u001b[0;34m,\u001b[0m \u001b[0mbias\u001b[0m\u001b[0;34m,\u001b[0m \u001b[0mself\u001b[0m\u001b[0;34m.\u001b[0m\u001b[0mstride\u001b[0m\u001b[0;34m,\u001b[0m\u001b[0;34m\u001b[0m\u001b[0;34m\u001b[0m\u001b[0m\n\u001b[1;32m    438\u001b[0m                             _pair(0), self.dilation, self.groups)\n",
      "\u001b[0;32m~/miniconda3/envs/pytorch3d_06/lib/python3.8/site-packages/torch/nn/functional.py\u001b[0m in \u001b[0;36m_pad\u001b[0;34m(input, pad, mode, value)\u001b[0m\n\u001b[1;32m   4149\u001b[0m         \u001b[0;32mreturn\u001b[0m \u001b[0mhandle_torch_function\u001b[0m\u001b[0;34m(\u001b[0m\u001b[0m_pad\u001b[0m\u001b[0;34m,\u001b[0m \u001b[0;34m(\u001b[0m\u001b[0minput\u001b[0m\u001b[0;34m,\u001b[0m\u001b[0;34m)\u001b[0m\u001b[0;34m,\u001b[0m \u001b[0minput\u001b[0m\u001b[0;34m,\u001b[0m \u001b[0mpad\u001b[0m\u001b[0;34m,\u001b[0m \u001b[0mmode\u001b[0m\u001b[0;34m=\u001b[0m\u001b[0mmode\u001b[0m\u001b[0;34m,\u001b[0m \u001b[0mvalue\u001b[0m\u001b[0;34m=\u001b[0m\u001b[0mvalue\u001b[0m\u001b[0;34m)\u001b[0m\u001b[0;34m\u001b[0m\u001b[0;34m\u001b[0m\u001b[0m\n\u001b[1;32m   4150\u001b[0m     \u001b[0;32massert\u001b[0m \u001b[0mlen\u001b[0m\u001b[0;34m(\u001b[0m\u001b[0mpad\u001b[0m\u001b[0;34m)\u001b[0m \u001b[0;34m%\u001b[0m \u001b[0;36m2\u001b[0m \u001b[0;34m==\u001b[0m \u001b[0;36m0\u001b[0m\u001b[0;34m,\u001b[0m \u001b[0;34m\"Padding length must be divisible by 2\"\u001b[0m\u001b[0;34m\u001b[0m\u001b[0;34m\u001b[0m\u001b[0m\n\u001b[0;32m-> 4151\u001b[0;31m     \u001b[0;32massert\u001b[0m \u001b[0mlen\u001b[0m\u001b[0;34m(\u001b[0m\u001b[0mpad\u001b[0m\u001b[0;34m)\u001b[0m \u001b[0;34m//\u001b[0m \u001b[0;36m2\u001b[0m \u001b[0;34m<=\u001b[0m \u001b[0minput\u001b[0m\u001b[0;34m.\u001b[0m\u001b[0mdim\u001b[0m\u001b[0;34m(\u001b[0m\u001b[0;34m)\u001b[0m\u001b[0;34m,\u001b[0m \u001b[0;34m\"Padding length too large\"\u001b[0m\u001b[0;34m\u001b[0m\u001b[0;34m\u001b[0m\u001b[0m\n\u001b[0m\u001b[1;32m   4152\u001b[0m     \u001b[0;32mif\u001b[0m \u001b[0mmode\u001b[0m \u001b[0;34m==\u001b[0m \u001b[0;34m\"constant\"\u001b[0m\u001b[0;34m:\u001b[0m\u001b[0;34m\u001b[0m\u001b[0;34m\u001b[0m\u001b[0m\n\u001b[1;32m   4153\u001b[0m         \u001b[0;32mreturn\u001b[0m \u001b[0m_VF\u001b[0m\u001b[0;34m.\u001b[0m\u001b[0mconstant_pad_nd\u001b[0m\u001b[0;34m(\u001b[0m\u001b[0minput\u001b[0m\u001b[0;34m,\u001b[0m \u001b[0mpad\u001b[0m\u001b[0;34m,\u001b[0m \u001b[0mvalue\u001b[0m\u001b[0;34m)\u001b[0m\u001b[0;34m\u001b[0m\u001b[0;34m\u001b[0m\u001b[0m\n",
      "\u001b[0;31mAttributeError\u001b[0m: 'NoneType' object has no attribute 'dim'"
     ]
    }
   ],
   "source": [
    "for p in params.values():\n",
    "    print(p)\n",
    "    p.data.grad = g3(p.data.grad)"
   ]
  },
  {
   "cell_type": "code",
   "execution_count": 46,
   "metadata": {},
   "outputs": [
    {
     "ename": "AttributeError",
     "evalue": "'str' object has no attribute 'data'",
     "output_type": "error",
     "traceback": [
      "\u001b[0;31m---------------------------------------------------------------------------\u001b[0m",
      "\u001b[0;31mAttributeError\u001b[0m                            Traceback (most recent call last)",
      "\u001b[0;32m<ipython-input-46-1dbe6f2c151b>\u001b[0m in \u001b[0;36m<module>\u001b[0;34m\u001b[0m\n\u001b[0;32m----> 1\u001b[0;31m \u001b[0mp\u001b[0m\u001b[0;34m.\u001b[0m\u001b[0mdata\u001b[0m\u001b[0;34m.\u001b[0m\u001b[0mgrad\u001b[0m\u001b[0;34m\u001b[0m\u001b[0;34m\u001b[0m\u001b[0m\n\u001b[0m",
      "\u001b[0;31mAttributeError\u001b[0m: 'str' object has no attribute 'data'"
     ]
    }
   ],
   "source": [
    "p.data.grad"
   ]
  },
  {
   "cell_type": "code",
   "execution_count": null,
   "metadata": {},
   "outputs": [],
   "source": []
  }
 ],
 "metadata": {
  "kernelspec": {
   "display_name": "Python [conda env:pytorch3d_06] *",
   "language": "python",
   "name": "conda-env-pytorch3d_06-py"
  },
  "language_info": {
   "codemirror_mode": {
    "name": "ipython",
    "version": 3
   },
   "file_extension": ".py",
   "mimetype": "text/x-python",
   "name": "python",
   "nbconvert_exporter": "python",
   "pygments_lexer": "ipython3",
   "version": "3.8.11"
  }
 },
 "nbformat": 4,
 "nbformat_minor": 4
}
