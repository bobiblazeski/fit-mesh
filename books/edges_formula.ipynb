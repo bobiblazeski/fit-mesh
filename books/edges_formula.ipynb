{
 "cells": [
  {
   "cell_type": "code",
   "execution_count": 1,
   "metadata": {},
   "outputs": [
    {
     "data": {
      "text/html": [
       "        <script type=\"text/javascript\">\n",
       "        window.PlotlyConfig = {MathJaxConfig: 'local'};\n",
       "        if (window.MathJax) {MathJax.Hub.Config({SVG: {font: \"STIX-Web\"}});}\n",
       "        if (typeof require !== 'undefined') {\n",
       "        require.undef(\"plotly\");\n",
       "        requirejs.config({\n",
       "            paths: {\n",
       "                'plotly': ['https://cdn.plot.ly/plotly-latest.min']\n",
       "            }\n",
       "        });\n",
       "        require(['plotly'], function(Plotly) {\n",
       "            window._Plotly = Plotly;\n",
       "        });\n",
       "        }\n",
       "        </script>\n",
       "        "
      ]
     },
     "metadata": {},
     "output_type": "display_data"
    },
    {
     "data": {
      "text/html": [
       "        <script type=\"text/javascript\">\n",
       "        window.PlotlyConfig = {MathJaxConfig: 'local'};\n",
       "        if (window.MathJax) {MathJax.Hub.Config({SVG: {font: \"STIX-Web\"}});}\n",
       "        if (typeof require !== 'undefined') {\n",
       "        require.undef(\"plotly\");\n",
       "        requirejs.config({\n",
       "            paths: {\n",
       "                'plotly': ['https://cdn.plot.ly/plotly-latest.min']\n",
       "            }\n",
       "        });\n",
       "        require(['plotly'], function(Plotly) {\n",
       "            window._Plotly = Plotly;\n",
       "        });\n",
       "        }\n",
       "        </script>\n",
       "        "
      ]
     },
     "metadata": {},
     "output_type": "display_data"
    },
    {
     "data": {
      "text/html": [
       "        <script type=\"text/javascript\">\n",
       "        window.PlotlyConfig = {MathJaxConfig: 'local'};\n",
       "        if (window.MathJax) {MathJax.Hub.Config({SVG: {font: \"STIX-Web\"}});}\n",
       "        if (typeof require !== 'undefined') {\n",
       "        require.undef(\"plotly\");\n",
       "        requirejs.config({\n",
       "            paths: {\n",
       "                'plotly': ['https://cdn.plot.ly/plotly-latest.min']\n",
       "            }\n",
       "        });\n",
       "        require(['plotly'], function(Plotly) {\n",
       "            window._Plotly = Plotly;\n",
       "        });\n",
       "        }\n",
       "        </script>\n",
       "        "
      ]
     },
     "metadata": {},
     "output_type": "display_data"
    },
    {
     "data": {
      "text/html": [
       "        <script type=\"text/javascript\">\n",
       "        window.PlotlyConfig = {MathJaxConfig: 'local'};\n",
       "        if (window.MathJax) {MathJax.Hub.Config({SVG: {font: \"STIX-Web\"}});}\n",
       "        if (typeof require !== 'undefined') {\n",
       "        require.undef(\"plotly\");\n",
       "        requirejs.config({\n",
       "            paths: {\n",
       "                'plotly': ['https://cdn.plot.ly/plotly-latest.min']\n",
       "            }\n",
       "        });\n",
       "        require(['plotly'], function(Plotly) {\n",
       "            window._Plotly = Plotly;\n",
       "        });\n",
       "        }\n",
       "        </script>\n",
       "        "
      ]
     },
     "metadata": {},
     "output_type": "display_data"
    }
   ],
   "source": [
    "from collections import OrderedDict\n",
    "\n",
    "import torch\n",
    "import torch.nn as nn\n",
    "import torch.nn.functional as F\n",
    "\n",
    "import pytorch3d\n",
    "import pytorch3d.io\n",
    "from pytorch3d.structures import Meshes\n",
    "from pytorch3d.renderer import TexturesVertex\n",
    "\n",
    "import trimesh\n",
    "\n",
    "from src.util import make_faces"
   ]
  },
  {
   "cell_type": "code",
   "execution_count": 2,
   "metadata": {
    "scrolled": true
   },
   "outputs": [
    {
     "data": {
      "text/plain": [
       "tensor([[0, 5, 0],\n",
       "        [0, 5, 5],\n",
       "        [0, 1, 0],\n",
       "        [1, 0, 1],\n",
       "        [0, 4, 4],\n",
       "        [0, 4, 0],\n",
       "        [0, 3, 3],\n",
       "        [0, 3, 0],\n",
       "        [3, 3, 4],\n",
       "        [3, 4, 4],\n",
       "        [3, 3, 5],\n",
       "        [3, 5, 5],\n",
       "        [5, 5, 1],\n",
       "        [1, 1, 5],\n",
       "        [1, 4, 4],\n",
       "        [1, 1, 4],\n",
       "        [2, 4, 4],\n",
       "        [2, 2, 4],\n",
       "        [2, 2, 3],\n",
       "        [3, 2, 3],\n",
       "        [2, 1, 1],\n",
       "        [2, 1, 2],\n",
       "        [2, 2, 5],\n",
       "        [5, 5, 2]])"
      ]
     },
     "execution_count": 2,
     "metadata": {},
     "output_type": "execute_result"
    }
   ],
   "source": [
    "edges = torch.tensor([\n",
    "    [ 0, 22,  2],\n",
    "    [ 2, 22, 23],\n",
    "    \n",
    "    [ 3,  7,  2],\n",
    "    [ 7,  2,  6],\n",
    "    \n",
    "    [ 1, 18, 19],\n",
    "    [ 1, 19,  3],\n",
    "    \n",
    "    [ 1, 14, 15],\n",
    "    [ 1, 14,  0],\n",
    "    #\n",
    "    [13, 15, 16],\n",
    "    [15, 16, 18],\n",
    "    \n",
    "    [12, 14, 20],\n",
    "    [14, 22, 20],\n",
    "    \n",
    "    [23, 21,  6],\n",
    "    [ 6,  4, 21],\n",
    "    \n",
    "    [ 7, 19, 17],\n",
    "    [ 5,  7, 17],\n",
    "    #\n",
    "    [11, 16, 17],\n",
    "    [11,  9, 16],\n",
    "    \n",
    "    [8,  9, 13],\n",
    "    [13, 8, 12],\n",
    "    \n",
    "    [10, 4,  5],\n",
    "    [11, 5, 10],\n",
    "    \n",
    "    [10,  8, 21],\n",
    "    [20, 21,  8],\n",
    "])\n",
    "\n",
    "torch.div(edges, 4, rounding_mode='trunc')"
   ]
  },
  {
   "cell_type": "code",
   "execution_count": 3,
   "metadata": {},
   "outputs": [
    {
     "data": {
      "text/plain": [
       "tensor([[0, 2, 2],\n",
       "        [2, 2, 3],\n",
       "        [3, 3, 2],\n",
       "        [3, 2, 2],\n",
       "        [1, 2, 3],\n",
       "        [1, 3, 3],\n",
       "        [1, 2, 3],\n",
       "        [1, 2, 0],\n",
       "        [1, 3, 0],\n",
       "        [3, 0, 2],\n",
       "        [0, 2, 0],\n",
       "        [2, 2, 0],\n",
       "        [3, 1, 2],\n",
       "        [2, 0, 1],\n",
       "        [3, 3, 1],\n",
       "        [1, 3, 1],\n",
       "        [3, 0, 1],\n",
       "        [3, 1, 0],\n",
       "        [0, 1, 1],\n",
       "        [1, 0, 0],\n",
       "        [2, 0, 1],\n",
       "        [3, 1, 2],\n",
       "        [2, 0, 1],\n",
       "        [0, 1, 0]])"
      ]
     },
     "execution_count": 3,
     "metadata": {},
     "output_type": "execute_result"
    }
   ],
   "source": [
    "torch.remainder(edges, 4)"
   ]
  },
  {
   "cell_type": "code",
   "execution_count": 25,
   "metadata": {},
   "outputs": [
    {
     "name": "stdout",
     "output_type": "stream",
     "text": [
      "remainders 0 2 2 3\n",
      "remainders 2 2 2 3\n",
      "remainders 1 2 2 3\n",
      "remainders 0 2 2 3\n",
      "remainders 1 0 0 2\n",
      "remainders 0 0 0 2\n",
      "remainders 0 1 1 3\n",
      "remainders 1 1 1 3\n",
      "remainders 1 0 0 1\n",
      "remainders 0 0 0 1\n",
      "remainders 0 2 2 3\n",
      "remainders 0 0 0 1\n"
     ]
    }
   ],
   "source": [
    "def pairwise(iterable):\n",
    "    \"s -> (s0, s1), (s2, s3), (s4, s5), ...\"\n",
    "    a = iter(iterable)\n",
    "    return zip(a, a)\n",
    "\n",
    "l = [0, 1, 2, 3, 4, 5, 6, 7]\n",
    "for x, y in pairwise(edges.tolist()):\n",
    "    m = list(set(x + y))\n",
    "    m.sort()\n",
    "    a1, a2, b1, b2 = m\n",
    "    #print('elems', a1, a2, b1, b2)\n",
    "    tri_a, tri_b = a1 // 4, b1 // 4\n",
    "    #print('tris', tri_a, tri_b)\n",
    "    ra1, ra2 = a1 % 4, b1 % 4\n",
    "    rb1, rb2 = b1 % 4, b2 % 4\n",
    "    print('remainders', ra1, ra2, rb1, rb2)"
   ]
  },
  {
   "cell_type": "code",
   "execution_count": 26,
   "metadata": {},
   "outputs": [
    {
     "data": {
      "text/plain": [
       "[[0, 1], [2, 3]]"
      ]
     },
     "execution_count": 26,
     "metadata": {},
     "output_type": "execute_result"
    }
   ],
   "source": [
    "[[0, 1], [2, 3]]"
   ]
  },
  {
   "cell_type": "code",
   "execution_count": 27,
   "metadata": {},
   "outputs": [
    {
     "data": {
      "text/plain": [
       "[[0, 2], [1, 3]]"
      ]
     },
     "execution_count": 27,
     "metadata": {},
     "output_type": "execute_result"
    }
   ],
   "source": [
    "[[0, 2], [1, 3]]"
   ]
  },
  {
   "cell_type": "code",
   "execution_count": 29,
   "metadata": {},
   "outputs": [
    {
     "data": {
      "text/plain": [
       "False"
      ]
     },
     "execution_count": 29,
     "metadata": {},
     "output_type": "execute_result"
    }
   ],
   "source": [
    "[0, 1] in [[0, 2], [1, 3]]"
   ]
  },
  {
   "cell_type": "code",
   "execution_count": 50,
   "metadata": {},
   "outputs": [
    {
     "data": {
      "text/plain": [
       "[28, 29, 30, 31]"
      ]
     },
     "execution_count": 50,
     "metadata": {},
     "output_type": "execute_result"
    }
   ],
   "source": [
    "def get_edge(tri, pair, n):\n",
    "    square = torch.arange(n**2).reshape(n, n)\n",
    "    if pair == [0, 1]:\n",
    "        r = square[0, :]\n",
    "    elif pair == [2, 3]:\n",
    "        r = square[:, 0]\n",
    "    elif pair == [0, 2]:\n",
    "        r = square[:, -1]\n",
    "    elif pair == [1, 3]:\n",
    "        r = square[-1, :]\n",
    "    else:\n",
    "        raise Exception(f'Unknown pair {pair}')\n",
    "    return (tri * n ** 2 + r).tolist()\n",
    "\n",
    "get_edge(1, [1, 3], 4)"
   ]
  },
  {
   "cell_type": "code",
   "execution_count": 36,
   "metadata": {},
   "outputs": [
    {
     "data": {
      "text/plain": [
       "(tensor([0, 1, 2, 3, 4]),\n",
       " tensor([ 0,  5, 10, 15, 20]),\n",
       " tensor([ 4,  9, 14, 19, 24]),\n",
       " tensor([20, 21, 22, 23, 24]))"
      ]
     },
     "execution_count": 36,
     "metadata": {},
     "output_type": "execute_result"
    }
   ],
   "source": [
    "square[0, :], square[:, 0], square[:, -1], square[-1, :]"
   ]
  },
  {
   "cell_type": "code",
   "execution_count": 51,
   "metadata": {},
   "outputs": [
    {
     "data": {
      "text/plain": [
       "[[28, 29, 8], [29, 30, 9], [30, 31, 10]]"
      ]
     },
     "execution_count": 51,
     "metadata": {},
     "output_type": "execute_result"
    }
   ],
   "source": [
    "l1, l2 = (\n",
    "    [28, 29, 30, 31],\n",
    "    [ 8,  9, 10, 11])\n",
    "\n",
    "[[a, b, c] for a, b, c in zip(l1, l1[1:], l2)]\n",
    "    "
   ]
  },
  {
   "cell_type": "code",
   "execution_count": 53,
   "metadata": {},
   "outputs": [
    {
     "data": {
      "text/plain": [
       "[[8, 9, 29], [9, 10, 30], [10, 11, 31]]"
      ]
     },
     "execution_count": 53,
     "metadata": {},
     "output_type": "execute_result"
    }
   ],
   "source": [
    "[[a, b, c] for a, b, c in zip(l2, l2[1:], l1[1:])]"
   ]
  },
  {
   "cell_type": "code",
   "execution_count": 55,
   "metadata": {},
   "outputs": [
    {
     "data": {
      "text/plain": [
       "[[28, 29, 8], [29, 30, 9], [30, 31, 10], [8, 9, 29], [9, 10, 30], [10, 11, 31]]"
      ]
     },
     "execution_count": 55,
     "metadata": {},
     "output_type": "execute_result"
    }
   ],
   "source": [
    "def get_triangles(l1, l2):\n",
    "    t1 = [[a, b, c] for a, b, c \n",
    "          in zip(l1, l1[1:], l2)]\n",
    "    t2 = [[a, b, c] for a, b, c \n",
    "          in zip(l2, l2[1:], l1[1:])]\n",
    "    return t1 + t2\n",
    "\n",
    "get_triangles(l1, l2)"
   ]
  },
  {
   "cell_type": "code",
   "execution_count": null,
   "metadata": {},
   "outputs": [],
   "source": []
  }
 ],
 "metadata": {
  "kernelspec": {
   "display_name": "Python [conda env:pytorch3d_06] *",
   "language": "python",
   "name": "conda-env-pytorch3d_06-py"
  },
  "language_info": {
   "codemirror_mode": {
    "name": "ipython",
    "version": 3
   },
   "file_extension": ".py",
   "mimetype": "text/x-python",
   "name": "python",
   "nbconvert_exporter": "python",
   "pygments_lexer": "ipython3",
   "version": "3.8.11"
  }
 },
 "nbformat": 4,
 "nbformat_minor": 4
}
