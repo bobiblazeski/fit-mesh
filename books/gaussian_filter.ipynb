{
 "cells": [
  {
   "cell_type": "code",
   "execution_count": 3,
   "metadata": {},
   "outputs": [
    {
     "data": {
      "text/plain": [
       "GaussianLayer(\n",
       "  (seq): Sequential(\n",
       "    (0): ReflectionPad2d((1, 1, 1, 1))\n",
       "    (1): Conv2d(3, 3, kernel_size=(3, 3), stride=(1, 1), groups=3, bias=False)\n",
       "  )\n",
       ")"
      ]
     },
     "execution_count": 3,
     "metadata": {},
     "output_type": "execute_result"
    }
   ],
   "source": [
    "import numpy  as np\n",
    "import torch\n",
    "import torch.nn as nn\n",
    "import scipy\n",
    "from scipy.ndimage import gaussian_filter\n",
    "\n",
    "class GaussianLayer(nn.Module):\n",
    "    def __init__(self, kernel_size, sigma=7):\n",
    "        super(GaussianLayer, self).__init__()\n",
    "        assert kernel_size % 2 == 1\n",
    "        self.kernel_size = kernel_size\n",
    "        self.side = (kernel_size-1) // 2\n",
    "        self.sigma = sigma\n",
    "        self.seq = nn.Sequential(\n",
    "            nn.ReflectionPad2d(self.side), \n",
    "            nn.Conv2d(3, 3, self.kernel_size, stride=1, padding=0, bias=None, groups=3)\n",
    "        )\n",
    "\n",
    "        self.weights_init()\n",
    "    def forward(self, x):\n",
    "        return self.seq(x)\n",
    "\n",
    "    def weights_init(self):\n",
    "        n= np.zeros((self.kernel_size, self.kernel_size))\n",
    "        n[self.side, self.side] = 1\n",
    "        k = gaussian_filter(n,sigma=self.sigma)\n",
    "        for name, f in self.named_parameters():            \n",
    "            f.data.copy_(torch.from_numpy(k))\n",
    "\n",
    "gaussian = GaussianLayer(3, 2)\n",
    "gaussian"
   ]
  },
  {
   "cell_type": "code",
   "execution_count": 4,
   "metadata": {},
   "outputs": [
    {
     "data": {
      "text/plain": [
       "torch.Size([1, 3, 24, 24])"
      ]
     },
     "execution_count": 4,
     "metadata": {},
     "output_type": "execute_result"
    }
   ],
   "source": [
    "gaussian(torch.rand(1, 3, 24, 24)).shape"
   ]
  },
  {
   "cell_type": "code",
   "execution_count": 31,
   "metadata": {},
   "outputs": [
    {
     "data": {
      "text/plain": [
       "Conv2d(3, 3, kernel_size=(3, 3), stride=(1, 1), groups=3, bias=False)"
      ]
     },
     "execution_count": 31,
     "metadata": {},
     "output_type": "execute_result"
    }
   ],
   "source": [
    "conv =gaussian.seq[1]\n",
    "conv"
   ]
  },
  {
   "cell_type": "code",
   "execution_count": 33,
   "metadata": {},
   "outputs": [
    {
     "data": {
      "text/plain": [
       "torch.Size([3, 1, 3, 3])"
      ]
     },
     "execution_count": 33,
     "metadata": {},
     "output_type": "execute_result"
    }
   ],
   "source": [
    "conv.weight.shape"
   ]
  },
  {
   "cell_type": "code",
   "execution_count": 41,
   "metadata": {},
   "outputs": [
    {
     "data": {
      "text/plain": [
       "Conv2d(3, 3, kernel_size=(7, 7), stride=(1, 1), bias=False)"
      ]
     },
     "execution_count": 41,
     "metadata": {},
     "output_type": "execute_result"
    }
   ],
   "source": [
    "conv1 = nn.Conv2d(3, 3, 7, stride=1, padding=0, bias=None, groups=3)\n",
    "conv1"
   ]
  },
  {
   "cell_type": "code",
   "execution_count": 42,
   "metadata": {},
   "outputs": [
    {
     "data": {
      "text/plain": [
       "torch.Size([3, 3, 7, 7])"
      ]
     },
     "execution_count": 42,
     "metadata": {},
     "output_type": "execute_result"
    }
   ],
   "source": [
    "conv1.weight.shape"
   ]
  },
  {
   "cell_type": "code",
   "execution_count": 43,
   "metadata": {},
   "outputs": [
    {
     "data": {
      "text/plain": [
       "[('weight',\n",
       "  Parameter containing:\n",
       "  tensor([[[[0.1111, 0.1111, 0.1111],\n",
       "            [0.1111, 0.1111, 0.1111],\n",
       "            [0.1111, 0.1111, 0.1111]]],\n",
       "  \n",
       "  \n",
       "          [[[0.1111, 0.1111, 0.1111],\n",
       "            [0.1111, 0.1111, 0.1111],\n",
       "            [0.1111, 0.1111, 0.1111]]],\n",
       "  \n",
       "  \n",
       "          [[[0.1111, 0.1111, 0.1111],\n",
       "            [0.1111, 0.1111, 0.1111],\n",
       "            [0.1111, 0.1111, 0.1111]]]], requires_grad=True))]"
      ]
     },
     "execution_count": 43,
     "metadata": {},
     "output_type": "execute_result"
    }
   ],
   "source": [
    "list(conv.named_parameters())"
   ]
  },
  {
   "cell_type": "code",
   "execution_count": 18,
   "metadata": {},
   "outputs": [
    {
     "name": "stdout",
     "output_type": "stream",
     "text": [
      "(5, 5) 1.0000000000000002\n"
     ]
    },
    {
     "data": {
      "image/png": "[encoded data removed]",
      "text/plain": [
       "<Figure size 432x288 with 2 Axes>"
      ]
     },
     "metadata": {
      "needs_background": "light"
     },
     "output_type": "display_data"
    }
   ],
   "source": [
    "import numpy as np\n",
    "import seaborn as sns\n",
    "import matplotlib.pylab as plt\n",
    "\n",
    "size, sigma = 5, 2\n",
    "assert size % 2 == 1\n",
    "n= np.zeros((size,size))\n",
    "n[(size-1) // 2, (size-1) // 2] = 1\n",
    "k = gaussian_filter(n,sigma=sigma)\n",
    "print(k.shape, k.sum())\n",
    "\n",
    "ax = sns.heatmap(k, linewidth=0.5)\n",
    "plt.show()"
   ]
  },
  {
   "cell_type": "code",
   "execution_count": 5,
   "metadata": {},
   "outputs": [
    {
     "data": {
      "text/plain": [
       "(21, 21)"
      ]
     },
     "execution_count": 5,
     "metadata": {},
     "output_type": "execute_result"
    }
   ],
   "source": [
    "n= np.zeros((21,21))\n",
    "n[10,10] = 1\n",
    "k = gaussian_filter(n,sigma=3)\n",
    "k.shape"
   ]
  },
  {
   "cell_type": "code",
   "execution_count": 5,
   "metadata": {},
   "outputs": [
    {
     "data": {
      "text/plain": [
       "Parameter containing:\n",
       "tensor([[[0., 0., 0.],\n",
       "         [0., 0., 0.],\n",
       "         [0., 0., 0.]],\n",
       "\n",
       "        [[0., 0., 0.],\n",
       "         [0., 0., 0.],\n",
       "         [0., 0., 0.]],\n",
       "\n",
       "        [[0., 0., 0.],\n",
       "         [0., 0., 0.],\n",
       "         [0., 0., 0.]]], requires_grad=True)"
      ]
     },
     "execution_count": 5,
     "metadata": {},
     "output_type": "execute_result"
    }
   ],
   "source": [
    "n = 3\n",
    "p = nn.Parameter(torch.zeros((3, n, n)))\n",
    "p"
   ]
  },
  {
   "cell_type": "code",
   "execution_count": 6,
   "metadata": {},
   "outputs": [
    {
     "name": "stdout",
     "output_type": "stream",
     "text": [
      "1\n"
     ]
    },
    {
     "data": {
      "text/plain": [
       "2"
      ]
     },
     "execution_count": 6,
     "metadata": {},
     "output_type": "execute_result"
    }
   ],
   "source": [
    "scipy.nd"
   ]
  },
  {
   "cell_type": "code",
   "execution_count": 2,
   "metadata": {},
   "outputs": [
    {
     "data": {
      "text/plain": [
       "ParameterDict(\n",
       "    (back): Parameter containing: [torch.FloatTensor of size 1x3x5x5]\n",
       "    (down): Parameter containing: [torch.FloatTensor of size 1x3x5x5]\n",
       "    (front): Parameter containing: [torch.FloatTensor of size 1x3x5x5]\n",
       "    (left): Parameter containing: [torch.FloatTensor of size 1x3x5x5]\n",
       "    (right): Parameter containing: [torch.FloatTensor of size 1x3x5x5]\n",
       "    (top): Parameter containing: [torch.FloatTensor of size 1x3x5x5]\n",
       ")"
      ]
     },
     "execution_count": 2,
     "metadata": {},
     "output_type": "execute_result"
    }
   ],
   "source": [
    "n = 5\n",
    "params = nn.ParameterDict({\n",
    "    'front': nn.Parameter(torch.zeros((1, 3, n, n))),\n",
    "    'back' : nn.Parameter(torch.zeros((1, 3, n, n))),\n",
    "    'left' : nn.Parameter(torch.zeros((1, 3, n, n))),\n",
    "    'right': nn.Parameter(torch.zeros((1, 3, n, n))),\n",
    "    'top'  : nn.Parameter(torch.zeros((1, 3, n, n))),\n",
    "    'down' : nn.Parameter(torch.zeros((1, 3, n, n))),\n",
    "})\n",
    "params"
   ]
  },
  {
   "cell_type": "code",
   "execution_count": 7,
   "metadata": {},
   "outputs": [
    {
     "data": {
      "text/plain": [
       "tensor([[[[0., 0., 0., 0., 0.],\n",
       "          [0., 0., 0., 0., 0.],\n",
       "          [0., 0., 0., 0., 0.],\n",
       "          [0., 0., 0., 0., 0.],\n",
       "          [0., 0., 0., 0., 0.]],\n",
       "\n",
       "         [[0., 0., 0., 0., 0.],\n",
       "          [0., 0., 0., 0., 0.],\n",
       "          [0., 0., 0., 0., 0.],\n",
       "          [0., 0., 0., 0., 0.],\n",
       "          [0., 0., 0., 0., 0.]],\n",
       "\n",
       "         [[0., 0., 0., 0., 0.],\n",
       "          [0., 0., 0., 0., 0.],\n",
       "          [0., 0., 0., 0., 0.],\n",
       "          [0., 0., 0., 0., 0.],\n",
       "          [0., 0., 0., 0., 0.]]]])"
      ]
     },
     "execution_count": 7,
     "metadata": {},
     "output_type": "execute_result"
    }
   ],
   "source": [
    "torch.nan_to_num_(params['front'].data)"
   ]
  },
  {
   "cell_type": "code",
   "execution_count": 8,
   "metadata": {},
   "outputs": [],
   "source": [
    "for p in params.values():\n",
    "    torch.nan_to_num_(p.data)"
   ]
  },
  {
   "cell_type": "code",
   "execution_count": null,
   "metadata": {},
   "outputs": [],
   "source": []
  }
 ],
 "metadata": {
  "kernelspec": {
   "display_name": "Python [conda env:pytorch3d_06] *",
   "language": "python",
   "name": "conda-env-pytorch3d_06-py"
  },
  "language_info": {
   "codemirror_mode": {
    "name": "ipython",
    "version": 3
   },
   "file_extension": ".py",
   "mimetype": "text/x-python",
   "name": "python",
   "nbconvert_exporter": "python",
   "pygments_lexer": "ipython3",
   "version": "3.8.11"
  }
 },
 "nbformat": 4,
 "nbformat_minor": 4
}
