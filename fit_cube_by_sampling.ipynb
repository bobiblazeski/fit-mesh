{
 "cells": [
  {
   "cell_type": "code",
   "execution_count": 1,
   "metadata": {},
   "outputs": [],
   "source": [
    "import numpy as np\n",
    "import os\n",
    "import sys\n",
    "import torch\n",
    "import pytorch3d\n",
    "\n",
    "import matplotlib.pyplot as plt\n",
    "\n",
    "import trimesh\n",
    "from pytorch3d.io import load_objs_as_meshes, save_obj\n",
    "import numpy as np\n",
    "from tqdm.notebook import tqdm\n",
    "\n",
    "#from src.cleansed_cube import Cube\n",
    "\n",
    "from pytorch3d.loss import (\n",
    "    chamfer_distance, \n",
    "    mesh_edge_loss, \n",
    "    mesh_laplacian_smoothing, \n",
    "    mesh_normal_consistency,\n",
    ")\n",
    "from pytorch3d.io import load_objs_as_meshes, save_obj\n",
    "\n",
    "from pytorch3d.loss import (\n",
    "    chamfer_distance, \n",
    "    mesh_edge_loss, \n",
    "    mesh_laplacian_smoothing, \n",
    "    mesh_normal_consistency,\n",
    ")\n",
    "\n",
    "# Data structures and functions for rendering\n",
    "from pytorch3d.structures import Meshes\n",
    "from pytorch3d.renderer import (\n",
    "    look_at_view_transform,\n",
    "    OpenGLPerspectiveCameras, \n",
    "    PointLights, \n",
    "    DirectionalLights, \n",
    "    Materials, \n",
    "    RasterizationSettings, \n",
    "    MeshRenderer,\n",
    "    MeshRasterizer,\n",
    "    SoftPhongShader,\n",
    "    SoftSilhouetteShader,\n",
    "    SoftPhongShader,\n",
    "    TexturesVertex,\n",
    ")\n",
    "\n",
    "from pytorch3d.ops import sample_points_from_meshes\n",
    "from pytorch3d.loss import (\n",
    "    chamfer_distance, \n",
    "    mesh_edge_loss, \n",
    "    mesh_laplacian_smoothing, \n",
    "    mesh_normal_consistency,\n",
    ")\n",
    "\n",
    "from src.plot_image_grid import image_grid"
   ]
  },
  {
   "cell_type": "code",
   "execution_count": 2,
   "metadata": {},
   "outputs": [],
   "source": [
    "import torch\n",
    "import torch.nn  as nn\n",
    "\n",
    "\n",
    "from src.operators import get_gaussian\n",
    "\n",
    "from src.cleansed_cube import SourceCube, sides_dict\n",
    "from src.discrete_laplacian import DiscreteLaplacian\n",
    "from src.discrete_gaussian import DiscreteGaussian\n",
    "from src.padding import pad_side\n",
    "\n",
    "class SimpleCube(nn.Module):\n",
    "    def __init__(self, n, kernel=5, sigma=1, clip_value = 0.1, start=-0.5, end=0.5):\n",
    "        super(SimpleCube, self).__init__()        \n",
    "        self.n = n\n",
    "        self.kernel = kernel\n",
    "        self.params = sides_dict(n)\n",
    "        self.source = SourceCube(n, start, end)\n",
    "        #self.gaussian = get_gaussian(kernel)\n",
    "        self.gaussian = DiscreteGaussian(kernel, sigma=sigma, padding=False)\n",
    "        self.laplacian = DiscreteLaplacian()          \n",
    "        for p in self.params.values():            \n",
    "            p.register_hook(lambda grad: torch.clamp(\n",
    "                torch.nan_to_num(grad), -clip_value, clip_value))\n",
    "\n",
    "    def make_vert(self):\n",
    "        return torch.cat([p[0].reshape(3, -1).t()\n",
    "                          for p in self.params.values()]) \n",
    "\n",
    "    def forward(self):\n",
    "        ps = torch.cat([p for p in self.params.values()])        \n",
    "        deform_verts = ps.permute(0, 2, 3, 1).reshape(-1, 3)        \n",
    "        new_src_mesh = self.source(deform_verts)        \n",
    "        laplacian = self.final_laplacian(new_src_mesh.vertices) \n",
    "        return new_src_mesh, laplacian # self.laplacian(ps)\n",
    "    \n",
    "    def final_laplacian(self, vert):\n",
    "        side_names = ['front', 'right', 'back', 'left', 'top', 'down']\n",
    "        sides = {}\n",
    "        vertices = vert[0, :, :3].reshape(6, self.n, self.n, 3)\n",
    "        for i, side_name in enumerate(side_names):\n",
    "            sides[side_name] = vertices[i]\n",
    "        res = 0\n",
    "        for side_name in side_names:\n",
    "            padded = pad_side(sides, side_name, self.kernel)\n",
    "            padded = padded.permute(2, 0, 1)[None]\n",
    "            res += self.laplacian(padded) * 1/6\n",
    "        return res\n",
    "    \n",
    "    def smooth(self):\n",
    "        sides = {}\n",
    "        for side_name in self.params:\n",
    "            grad = self.params[side_name].grad[0]\n",
    "            sides[side_name] = grad.permute(1, 2, 0)\n",
    "            \n",
    "        for side_name in self.params:\n",
    "            padded = pad_side(sides, side_name, self.kernel)\n",
    "            padded = padded.permute(2, 0, 1)[None]\n",
    "            padded = self.gaussian(padded)\n",
    "            self.params[side_name].grad.copy_(padded)\n",
    "    \n",
    "    def laplacian_loss(self):\n",
    "        sides, loss = {}, 0\n",
    "        for side_name in self.params:\n",
    "            side = self.params[side_name]    \n",
    "            sides[side_name] = side[0].permute(1, 2, 0)\n",
    "\n",
    "        for side_name in self.params:\n",
    "            padded = pad_side(sides, side_name, self.kernel)    \n",
    "            padded = padded.permute(2, 0, 1)[None]\n",
    "            loss += self.laplacian(padded) * 1/6\n",
    "            \n",
    "        return loss\n",
    "      \n",
    "    def export(self, f):        \n",
    "        mesh, _ = self.forward()\n",
    "        vertices = mesh.vertices[0].cpu().detach()\n",
    "        faces = mesh.faces.cpu().detach()        \n",
    "        mesh = trimesh.Trimesh(vertices=vertices, faces=faces)\n",
    "        mesh.export(f)"
   ]
  },
  {
   "cell_type": "code",
   "execution_count": 3,
   "metadata": {},
   "outputs": [],
   "source": [
    "if torch.cuda.is_available():\n",
    "    device = torch.device(\"cuda:0\")\n",
    "    torch.cuda.set_device(device)\n",
    "else:\n",
    "    device = torch.device(\"cpu\")\n",
    "\n",
    "\n",
    "obj_filename = \"./data/bunny.obj\"\n",
    "obj_filename = \"./data/nefertiti.obj\"\n",
    "bunny = load_objs_as_meshes([obj_filename], device=device)\n",
    "\n",
    "textures=TexturesVertex(verts_features=[torch.ones_like(bunny.verts_packed())])\n",
    "\n",
    "bunny = Meshes(verts=[bunny.verts_packed()], \n",
    "           faces=[bunny.faces_packed()],\n",
    "           textures=textures)\n",
    "\n",
    "verts = bunny.verts_packed()\n",
    "N = verts.shape[0]\n",
    "center = verts.mean(0)\n",
    "scale = max((verts - center).abs().max(0)[0])\n",
    "bunny.offset_verts_(-center)\n",
    "bunny.scale_verts_((1.0 / float(scale)));"
   ]
  },
  {
   "cell_type": "code",
   "execution_count": 4,
   "metadata": {},
   "outputs": [
    {
     "data": {
      "text/plain": [
       "tensor([[[-0.2139, -0.9915,  0.0452],\n",
       "         [ 0.3887,  0.5209,  0.1039],\n",
       "         [-0.1458, -0.7027, -0.0133],\n",
       "         ...,\n",
       "         [-0.2696,  0.6226,  0.0899],\n",
       "         [-0.1215,  0.6017,  0.4080],\n",
       "         [ 0.3772,  0.4916, -0.1434]]], device='cuda:0')"
      ]
     },
     "execution_count": 4,
     "metadata": {},
     "output_type": "execute_result"
    }
   ],
   "source": [
    "sample_trg = sample_points_from_meshes(bunny, 5000)\n",
    "sample_trg\n",
    "#sample_src = sample_points_from_meshes(new_src_mesh, 5000)"
   ]
  },
  {
   "cell_type": "code",
   "execution_count": 25,
   "metadata": {
    "scrolled": true
   },
   "outputs": [
    {
     "name": "stdout",
     "output_type": "stream",
     "text": [
      "7\n"
     ]
    },
    {
     "data": {
      "text/plain": [
       "SGD (\n",
       "Parameter Group 0\n",
       "    dampening: 0\n",
       "    lr: 0.1\n",
       "    momentum: 0.0\n",
       "    nesterov: False\n",
       "    weight_decay: 0\n",
       ")"
      ]
     },
     "execution_count": 25,
     "metadata": {},
     "output_type": "execute_result"
    }
   ],
   "source": [
    "n, kernel, sigma = 32, 7, 2\n",
    "\n",
    "cube = SimpleCube(n, kernel=kernel, sigma=sigma, clip_value = 1.).to(device)\n",
    "\n",
    "optimizer = torch.optim.SGD(cube.parameters(), lr=0.1, momentum=0.)\n",
    "#optimizer = torch.optim.Adam(cube.parameters(), lr=0.001)\n",
    "optimizer"
   ]
  },
  {
   "cell_type": "code",
   "execution_count": null,
   "metadata": {
    "scrolled": true
   },
   "outputs": [
    {
     "data": {
      "application/vnd.jupyter.widget-view+json": {
       "model_id": "bab39746dbf848008f4c8f489be55380",
       "version_major": 2,
       "version_minor": 0
      },
      "text/plain": [
       "HBox(children=(FloatProgress(value=0.0, max=20001.0), HTML(value='')))"
      ]
     },
     "metadata": {},
     "output_type": "display_data"
    },
    {
     "name": "stdout",
     "output_type": "stream",
     "text": [
      "./data/cube_mesh_32_0.obj\n",
      "./data/cube_mesh_32_500.obj\n",
      "./data/cube_mesh_32_1000.obj\n",
      "./data/cube_mesh_32_1500.obj\n",
      "./data/cube_mesh_32_2000.obj\n",
      "./data/cube_mesh_32_2500.obj\n",
      "./data/cube_mesh_32_3000.obj\n"
     ]
    }
   ],
   "source": [
    "Niter = 20001\n",
    "num_views_per_iteration = 2\n",
    "\n",
    "loop = tqdm(range(Niter))\n",
    "\n",
    "laplace_weight =  1.\n",
    "\n",
    "w_chamfer = 1.0\n",
    "w_laplacian = 0.1 \n",
    "w_normal = 0.01 \n",
    "w_edge = 1.0 \n",
    "\n",
    "for i in loop:\n",
    "    stop = False\n",
    "    \n",
    "    optimizer.zero_grad()\n",
    "    \n",
    "    new_src_mesh, laplace_loss = cube.forward()        \n",
    "    verts=new_src_mesh.vertices[:, :, :3]\n",
    "    textures = TexturesVertex(verts_features=torch.ones_like(verts))\n",
    "    p3d_mesh = Meshes(verts=verts,\n",
    "                  faces=new_src_mesh.faces[None],\n",
    "                  textures=textures)\n",
    "    \n",
    "    sample_src = sample_points_from_meshes(p3d_mesh, 15000)\n",
    "    sample_trg = sample_points_from_meshes(bunny, 15000)\n",
    "    \n",
    "    loss_chamfer, _ = chamfer_distance(sample_trg, sample_src)\n",
    "    loss_laplacian = mesh_laplacian_smoothing(p3d_mesh, method=\"uniform\")\n",
    "    loss_normal = mesh_normal_consistency(p3d_mesh)\n",
    "    loss_edge = mesh_edge_loss(p3d_mesh)\n",
    "    \n",
    "    \n",
    "    \n",
    "    \n",
    "    #laplacian_smoothing = mesh_laplacian_smoothing(new_src_mesh, method=\"uniform\")\n",
    "    sum_loss = torch.tensor(0.0, device=device) \n",
    "    \n",
    "    sum_loss += loss_chamfer * w_chamfer\n",
    "    #sum_loss += laplace_loss * w_laplacian\n",
    "    sum_loss += loss_laplacian * w_laplacian\n",
    "    sum_loss += loss_normal * w_normal\n",
    "    sum_loss += loss_edge * w_edge\n",
    "    \n",
    "    loop.set_description(\"total_loss = %.6f\" % sum_loss)\n",
    "    \n",
    "    sum_loss.backward()\n",
    "    #cube.smooth()\n",
    "    optimizer.step()\n",
    "    \n",
    "    if i % 500 == 0:\n",
    "        f = f'./data/cube_mesh_{n}_{i}.obj'\n",
    "        cube.export(f)\n",
    "        print(f)\n",
    "#kernel = 0\n",
    "f = f'./data/cube_mesh_{n}_{kernel}.obj'\n",
    "cube.export(f)\n",
    "f"
   ]
  },
  {
   "cell_type": "code",
   "execution_count": null,
   "metadata": {},
   "outputs": [],
   "source": []
  },
  {
   "cell_type": "code",
   "execution_count": null,
   "metadata": {},
   "outputs": [],
   "source": []
  }
 ],
 "metadata": {
  "kernelspec": {
   "display_name": "Python [conda env:pytorch3d_06] *",
   "language": "python",
   "name": "conda-env-pytorch3d_06-py"
  },
  "language_info": {
   "codemirror_mode": {
    "name": "ipython",
    "version": 3
   },
   "file_extension": ".py",
   "mimetype": "text/x-python",
   "name": "python",
   "nbconvert_exporter": "python",
   "pygments_lexer": "ipython3",
   "version": "3.8.11"
  }
 },
 "nbformat": 4,
 "nbformat_minor": 4
}
