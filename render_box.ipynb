{
 "cells": [
  {
   "cell_type": "code",
   "execution_count": 4,
   "metadata": {},
   "outputs": [
    {
     "data": {
      "text/html": [
       "        <script type=\"text/javascript\">\n",
       "        window.PlotlyConfig = {MathJaxConfig: 'local'};\n",
       "        if (window.MathJax) {MathJax.Hub.Config({SVG: {font: \"STIX-Web\"}});}\n",
       "        if (typeof require !== 'undefined') {\n",
       "        require.undef(\"plotly\");\n",
       "        requirejs.config({\n",
       "            paths: {\n",
       "                'plotly': ['https://cdn.plot.ly/plotly-latest.min']\n",
       "            }\n",
       "        });\n",
       "        require(['plotly'], function(Plotly) {\n",
       "            window._Plotly = Plotly;\n",
       "        });\n",
       "        }\n",
       "        </script>\n",
       "        "
      ]
     },
     "metadata": {},
     "output_type": "display_data"
    },
    {
     "data": {
      "text/html": [
       "        <script type=\"text/javascript\">\n",
       "        window.PlotlyConfig = {MathJaxConfig: 'local'};\n",
       "        if (window.MathJax) {MathJax.Hub.Config({SVG: {font: \"STIX-Web\"}});}\n",
       "        if (typeof require !== 'undefined') {\n",
       "        require.undef(\"plotly\");\n",
       "        requirejs.config({\n",
       "            paths: {\n",
       "                'plotly': ['https://cdn.plot.ly/plotly-latest.min']\n",
       "            }\n",
       "        });\n",
       "        require(['plotly'], function(Plotly) {\n",
       "            window._Plotly = Plotly;\n",
       "        });\n",
       "        }\n",
       "        </script>\n",
       "        "
      ]
     },
     "metadata": {},
     "output_type": "display_data"
    },
    {
     "data": {
      "text/html": [
       "        <script type=\"text/javascript\">\n",
       "        window.PlotlyConfig = {MathJaxConfig: 'local'};\n",
       "        if (window.MathJax) {MathJax.Hub.Config({SVG: {font: \"STIX-Web\"}});}\n",
       "        if (typeof require !== 'undefined') {\n",
       "        require.undef(\"plotly\");\n",
       "        requirejs.config({\n",
       "            paths: {\n",
       "                'plotly': ['https://cdn.plot.ly/plotly-latest.min']\n",
       "            }\n",
       "        });\n",
       "        require(['plotly'], function(Plotly) {\n",
       "            window._Plotly = Plotly;\n",
       "        });\n",
       "        }\n",
       "        </script>\n",
       "        "
      ]
     },
     "metadata": {},
     "output_type": "display_data"
    },
    {
     "data": {
      "text/html": [
       "        <script type=\"text/javascript\">\n",
       "        window.PlotlyConfig = {MathJaxConfig: 'local'};\n",
       "        if (window.MathJax) {MathJax.Hub.Config({SVG: {font: \"STIX-Web\"}});}\n",
       "        if (typeof require !== 'undefined') {\n",
       "        require.undef(\"plotly\");\n",
       "        requirejs.config({\n",
       "            paths: {\n",
       "                'plotly': ['https://cdn.plot.ly/plotly-latest.min']\n",
       "            }\n",
       "        });\n",
       "        require(['plotly'], function(Plotly) {\n",
       "            window._Plotly = Plotly;\n",
       "        });\n",
       "        }\n",
       "        </script>\n",
       "        "
      ]
     },
     "metadata": {},
     "output_type": "display_data"
    },
    {
     "data": {
      "text/plain": [
       "Cube(\n",
       "  (params): ParameterDict(\n",
       "      (back): Parameter containing: [torch.FloatTensor of size 5x5x3]\n",
       "      (down): Parameter containing: [torch.FloatTensor of size 5x5x3]\n",
       "      (front): Parameter containing: [torch.FloatTensor of size 5x5x3]\n",
       "      (left): Parameter containing: [torch.FloatTensor of size 5x5x3]\n",
       "      (right): Parameter containing: [torch.FloatTensor of size 5x5x3]\n",
       "      (top): Parameter containing: [torch.FloatTensor of size 5x5x3]\n",
       "  )\n",
       ")"
      ]
     },
     "execution_count": 4,
     "metadata": {},
     "output_type": "execute_result"
    }
   ],
   "source": [
    "import torch\n",
    "import torch.nn as nn\n",
    "import torch.nn.functional as F\n",
    "\n",
    "from src.util import make_faces\n",
    "\n",
    "class Cube(nn.Module):\n",
    "    def __init__(self, n, start=-0.5, end=0.5):\n",
    "        super(Cube, self).__init__()\n",
    "        self.n = n\n",
    "        \n",
    "        d1, d2 = torch.meshgrid(\n",
    "            torch.linspace(start, end, steps=n), \n",
    "            torch.linspace(start, end, steps=n))\n",
    "        d3 = torch.full_like(d1, end)\n",
    "\n",
    "        self.params = nn.ParameterDict({\n",
    "            'front': nn.Parameter(torch.stack((+d3, d1, d2), dim=-1)),\n",
    "            'back': nn.Parameter(torch.stack((-d3, d1, d2), dim=-1)),\n",
    "            \n",
    "            'left': nn.Parameter(torch.stack((d1, +d3, d2), dim=-1)),\n",
    "            'right': nn.Parameter(torch.stack((d1, -d3, d2), dim=-1)),\n",
    "            \n",
    "            'top': nn.Parameter(torch.stack((d1, d2, +d3), dim=-1)),\n",
    "            'down': nn.Parameter(torch.stack((d1, d2, -d3), dim=-1)),\n",
    "        })      \n",
    "\n",
    "    def forward(self, x):\n",
    "        x = F.relu(self.conv1(x))\n",
    "        return F.relu(self.conv2(x))\n",
    "\n",
    "#new_src_mesh = src_mesh.offset_verts(deform_verts)\n",
    "\n",
    "cube = Cube(5)    \n",
    "cube"
   ]
  },
  {
   "cell_type": "code",
   "execution_count": 5,
   "metadata": {},
   "outputs": [
    {
     "data": {
      "text/plain": [
       "torch.Size([6, 5, 5, 3])"
      ]
     },
     "execution_count": 5,
     "metadata": {},
     "output_type": "execute_result"
    }
   ],
   "source": [
    "vert = torch.stack(list(cube.params.values()))\n",
    "vert.shape"
   ]
  },
  {
   "cell_type": "code",
   "execution_count": 6,
   "metadata": {
    "scrolled": true
   },
   "outputs": [
    {
     "data": {
      "text/plain": [
       "tensor([[ 5,  0,  6],\n",
       "        [ 1,  6,  0],\n",
       "        [ 6,  1,  7],\n",
       "        [ 2,  7,  1],\n",
       "        [ 7,  2,  8],\n",
       "        [ 3,  8,  2],\n",
       "        [ 8,  3,  9],\n",
       "        [ 4,  9,  3],\n",
       "        [10,  5, 11],\n",
       "        [ 6, 11,  5],\n",
       "        [11,  6, 12],\n",
       "        [ 7, 12,  6],\n",
       "        [12,  7, 13],\n",
       "        [ 8, 13,  7],\n",
       "        [13,  8, 14],\n",
       "        [ 9, 14,  8],\n",
       "        [15, 10, 16],\n",
       "        [11, 16, 10],\n",
       "        [16, 11, 17],\n",
       "        [12, 17, 11],\n",
       "        [17, 12, 18],\n",
       "        [13, 18, 12],\n",
       "        [18, 13, 19],\n",
       "        [14, 19, 13],\n",
       "        [20, 15, 21],\n",
       "        [16, 21, 15],\n",
       "        [21, 16, 22],\n",
       "        [17, 22, 16],\n",
       "        [22, 17, 23],\n",
       "        [18, 23, 17],\n",
       "        [23, 18, 24],\n",
       "        [19, 24, 18]])"
      ]
     },
     "execution_count": 6,
     "metadata": {},
     "output_type": "execute_result"
    }
   ],
   "source": [
    "n = 5\n",
    "vert_offset = n ** 2\n",
    "side_faces = torch.tensor(make_faces(n, n))\n",
    "side_faces"
   ]
  },
  {
   "cell_type": "code",
   "execution_count": 7,
   "metadata": {},
   "outputs": [
    {
     "data": {
      "text/plain": [
       "torch.Size([192, 3])"
      ]
     },
     "execution_count": 7,
     "metadata": {},
     "output_type": "execute_result"
    }
   ],
   "source": [
    "all_faces = torch.cat([side_faces + (i * vert_offset)  for i in range(6)])\n",
    "all_faces.shape"
   ]
  },
  {
   "cell_type": "code",
   "execution_count": 8,
   "metadata": {},
   "outputs": [],
   "source": [
    "import pytorch3d\n",
    "\n",
    "from pytorch3d.io import load_objs_as_meshes, save_obj\n",
    "\n",
    "from pytorch3d.structures import Meshes\n",
    "\n",
    "#verts = torch.stack()\n",
    "mesh = Meshes(verts=[vert.reshape(-1,3)], faces=[all_faces])\n",
    "mesh\n",
    "\n",
    "pytorch3d.io.save_ply('./data/cube.ply', mesh.verts_packed(), faces=mesh.faces_packed())"
   ]
  },
  {
   "cell_type": "code",
   "execution_count": 1,
   "metadata": {},
   "outputs": [],
   "source": [
    "import pytorch3d.io\n"
   ]
  },
  {
   "cell_type": "code",
   "execution_count": 1,
   "metadata": {},
   "outputs": [],
   "source": [
    "import os\n",
    "import sys\n",
    "import torch\n",
    "import pytorch3d"
   ]
  },
  {
   "cell_type": "code",
   "execution_count": 2,
   "metadata": {},
   "outputs": [
    {
     "ename": "AttributeError",
     "evalue": "module 'pytorch3d' has no attribute 'io'",
     "output_type": "error",
     "traceback": [
      "\u001b[0;31m---------------------------------------------------------------------------\u001b[0m",
      "\u001b[0;31mAttributeError\u001b[0m                            Traceback (most recent call last)",
      "\u001b[0;32m<ipython-input-2-00f3aa558127>\u001b[0m in \u001b[0;36m<module>\u001b[0;34m\u001b[0m\n\u001b[0;32m----> 1\u001b[0;31m \u001b[0mpytorch3d\u001b[0m\u001b[0;34m.\u001b[0m\u001b[0mio\u001b[0m\u001b[0;34m\u001b[0m\u001b[0;34m\u001b[0m\u001b[0m\n\u001b[0m",
      "\u001b[0;31mAttributeError\u001b[0m: module 'pytorch3d' has no attribute 'io'"
     ]
    }
   ],
   "source": [
    "pytorch3d."
   ]
  },
  {
   "cell_type": "code",
   "execution_count": 2,
   "metadata": {},
   "outputs": [],
   "source": [
    "import torch"
   ]
  },
  {
   "cell_type": "code",
   "execution_count": 3,
   "metadata": {},
   "outputs": [
    {
     "data": {
      "text/plain": [
       "tensor([[[0., 0., 0.],\n",
       "         [0., 0., 0.],\n",
       "         [0., 0., 0.],\n",
       "         [0., 0., 0.],\n",
       "         [0., 0., 0.]],\n",
       "\n",
       "        [[0., 0., 0.],\n",
       "         [0., 0., 0.],\n",
       "         [0., 0., 0.],\n",
       "         [0., 0., 0.],\n",
       "         [0., 0., 0.]],\n",
       "\n",
       "        [[0., 0., 0.],\n",
       "         [0., 0., 0.],\n",
       "         [0., 0., 0.],\n",
       "         [0., 0., 0.],\n",
       "         [0., 0., 0.]],\n",
       "\n",
       "        [[0., 0., 0.],\n",
       "         [0., 0., 0.],\n",
       "         [0., 0., 0.],\n",
       "         [0., 0., 0.],\n",
       "         [0., 0., 0.]],\n",
       "\n",
       "        [[0., 0., 0.],\n",
       "         [0., 0., 0.],\n",
       "         [0., 0., 0.],\n",
       "         [0., 0., 0.],\n",
       "         [0., 0., 0.]]])"
      ]
     },
     "execution_count": 3,
     "metadata": {},
     "output_type": "execute_result"
    }
   ],
   "source": [
    "torch.zeros((5, 5, 3))"
   ]
  },
  {
   "cell_type": "code",
   "execution_count": null,
   "metadata": {},
   "outputs": [],
   "source": []
  }
 ],
 "metadata": {
  "kernelspec": {
   "display_name": "Python [conda env:pytorch3d_06] *",
   "language": "python",
   "name": "conda-env-pytorch3d_06-py"
  },
  "language_info": {
   "codemirror_mode": {
    "name": "ipython",
    "version": 3
   },
   "file_extension": ".py",
   "mimetype": "text/x-python",
   "name": "python",
   "nbconvert_exporter": "python",
   "pygments_lexer": "ipython3",
   "version": "3.8.11"
  }
 },
 "nbformat": 4,
 "nbformat_minor": 4
}
