{
 "cells": [
  {
   "cell_type": "code",
   "execution_count": 1,
   "metadata": {},
   "outputs": [
    {
     "data": {
      "text/html": [
       "        <script type=\"text/javascript\">\n",
       "        window.PlotlyConfig = {MathJaxConfig: 'local'};\n",
       "        if (window.MathJax) {MathJax.Hub.Config({SVG: {font: \"STIX-Web\"}});}\n",
       "        if (typeof require !== 'undefined') {\n",
       "        require.undef(\"plotly\");\n",
       "        requirejs.config({\n",
       "            paths: {\n",
       "                'plotly': ['https://cdn.plot.ly/plotly-latest.min']\n",
       "            }\n",
       "        });\n",
       "        require(['plotly'], function(Plotly) {\n",
       "            window._Plotly = Plotly;\n",
       "        });\n",
       "        }\n",
       "        </script>\n",
       "        "
      ]
     },
     "metadata": {},
     "output_type": "display_data"
    },
    {
     "data": {
      "text/html": [
       "        <script type=\"text/javascript\">\n",
       "        window.PlotlyConfig = {MathJaxConfig: 'local'};\n",
       "        if (window.MathJax) {MathJax.Hub.Config({SVG: {font: \"STIX-Web\"}});}\n",
       "        if (typeof require !== 'undefined') {\n",
       "        require.undef(\"plotly\");\n",
       "        requirejs.config({\n",
       "            paths: {\n",
       "                'plotly': ['https://cdn.plot.ly/plotly-latest.min']\n",
       "            }\n",
       "        });\n",
       "        require(['plotly'], function(Plotly) {\n",
       "            window._Plotly = Plotly;\n",
       "        });\n",
       "        }\n",
       "        </script>\n",
       "        "
      ]
     },
     "metadata": {},
     "output_type": "display_data"
    },
    {
     "data": {
      "text/html": [
       "        <script type=\"text/javascript\">\n",
       "        window.PlotlyConfig = {MathJaxConfig: 'local'};\n",
       "        if (window.MathJax) {MathJax.Hub.Config({SVG: {font: \"STIX-Web\"}});}\n",
       "        if (typeof require !== 'undefined') {\n",
       "        require.undef(\"plotly\");\n",
       "        requirejs.config({\n",
       "            paths: {\n",
       "                'plotly': ['https://cdn.plot.ly/plotly-latest.min']\n",
       "            }\n",
       "        });\n",
       "        require(['plotly'], function(Plotly) {\n",
       "            window._Plotly = Plotly;\n",
       "        });\n",
       "        }\n",
       "        </script>\n",
       "        "
      ]
     },
     "metadata": {},
     "output_type": "display_data"
    },
    {
     "data": {
      "text/html": [
       "        <script type=\"text/javascript\">\n",
       "        window.PlotlyConfig = {MathJaxConfig: 'local'};\n",
       "        if (window.MathJax) {MathJax.Hub.Config({SVG: {font: \"STIX-Web\"}});}\n",
       "        if (typeof require !== 'undefined') {\n",
       "        require.undef(\"plotly\");\n",
       "        requirejs.config({\n",
       "            paths: {\n",
       "                'plotly': ['https://cdn.plot.ly/plotly-latest.min']\n",
       "            }\n",
       "        });\n",
       "        require(['plotly'], function(Plotly) {\n",
       "            window._Plotly = Plotly;\n",
       "        });\n",
       "        }\n",
       "        </script>\n",
       "        "
      ]
     },
     "metadata": {},
     "output_type": "display_data"
    }
   ],
   "source": [
    "import os\n",
    "import sys\n",
    "import torch\n",
    "import pytorch3d\n",
    "import matplotlib.pyplot as plt\n",
    "\n",
    "\n",
    "from pytorch3d.utils import ico_sphere\n",
    "import numpy as np\n",
    "from tqdm.notebook import tqdm\n",
    "\n",
    "# Util function for loading meshes\n",
    "from pytorch3d.io import load_objs_as_meshes, save_obj\n",
    "\n",
    "from pytorch3d.loss import (\n",
    "    chamfer_distance, \n",
    "    mesh_edge_loss, \n",
    "    mesh_laplacian_smoothing, \n",
    "    mesh_normal_consistency,\n",
    ")\n",
    "\n",
    "# Data structures and functions for rendering\n",
    "from pytorch3d.structures import Meshes\n",
    "from pytorch3d.renderer import (\n",
    "    look_at_view_transform,\n",
    "    OpenGLPerspectiveCameras, \n",
    "    PointLights, \n",
    "    DirectionalLights, \n",
    "    Materials, \n",
    "    RasterizationSettings, \n",
    "    MeshRenderer, \n",
    "    MeshRasterizer,  \n",
    "    SoftPhongShader,\n",
    "    SoftSilhouetteShader,\n",
    "    SoftPhongShader,\n",
    "    TexturesVertex\n",
    ")\n",
    "\n",
    "import trimesh\n",
    "from src.util import make_faces\n",
    "from src.plot_image_grid import image_grid"
   ]
  },
  {
   "cell_type": "code",
   "execution_count": null,
   "metadata": {},
   "outputs": [],
   "source": [
    "pytorch3d."
   ]
  },
  {
   "cell_type": "code",
   "execution_count": 2,
   "metadata": {},
   "outputs": [],
   "source": [
    "# Setup\n",
    "if torch.cuda.is_available():\n",
    "    device = torch.device(\"cuda:0\")\n",
    "    torch.cuda.set_device(device)\n",
    "else:\n",
    "    device = torch.device(\"cpu\")\n",
    "\n",
    "obj_filename = \"./data/bunny.obj\"\n",
    "bunny = load_objs_as_meshes([obj_filename], device=device)\n",
    "\n",
    "textures=TexturesVertex(verts_features=[torch.ones_like(bunny.verts_packed())])\n",
    "\n",
    "bunny = Meshes(verts=[bunny.verts_packed()], \n",
    "           faces=[bunny.faces_packed()],\n",
    "           textures=textures)\n",
    "\n",
    "verts = bunny.verts_packed()\n",
    "N = verts.shape[0]\n",
    "center = verts.mean(0)\n",
    "scale = max((verts - center).abs().max(0)[0])\n",
    "bunny.offset_verts_(-center)\n",
    "bunny.scale_verts_((1.0 / float(scale)));"
   ]
  },
  {
   "cell_type": "code",
   "execution_count": 3,
   "metadata": {},
   "outputs": [],
   "source": [
    "# the number of different viewpoints from which we want to render the mesh.\n",
    "num_views = 40\n",
    "\n",
    "# Get a batch of viewing angles. \n",
    "elev = torch.linspace(0, 360, num_views)\n",
    "azim = torch.linspace(-180, 180, num_views)\n",
    "\n",
    "# Place a point light in front of the object. As mentioned above, the front of \n",
    "# the cow is facing the -z direction. \n",
    "lights = PointLights(device=device, location=[[0.0, 0.0, -3.0]])\n",
    "\n",
    "# Initialize an OpenGL perspective camera that represents a batch of different \n",
    "# viewing angles. All the cameras helper methods support mixed type inputs and \n",
    "# broadcasting. So we can view the camera from the a distance of dist=2.7, and \n",
    "# then specify elevation and azimuth angles for each viewpoint as tensors. \n",
    "R, T = look_at_view_transform(dist=2.7, elev=elev, azim=azim)\n",
    "cameras = OpenGLPerspectiveCameras(device=device, R=R, T=T)\n",
    "\n",
    "# We arbitrarily choose one particular view that will be used to visualize \n",
    "# results\n",
    "camera = OpenGLPerspectiveCameras(device=device, R=R[None, 1, ...], \n",
    "                                  T=T[None, 1, ...]) \n",
    "\n",
    "bunnies = bunny.extend(num_views)"
   ]
  },
  {
   "cell_type": "code",
   "execution_count": 62,
   "metadata": {},
   "outputs": [
    {
     "data": {
      "text/plain": [
       "torch.Size([10242, 3])"
      ]
     },
     "execution_count": 62,
     "metadata": {},
     "output_type": "execute_result"
    }
   ],
   "source": [
    "# We initialize the source shape to be a sphere of radius 1.  \n",
    "src_mesh = ico_sphere(5, device)\n",
    "src_mesh.verts_packed().shape"
   ]
  },
  {
   "cell_type": "code",
   "execution_count": 63,
   "metadata": {},
   "outputs": [],
   "source": [
    "# Rasterization settings for differentiable rendering, where the blur_radius\n",
    "# initialization is based on Liu et al, 'Soft Rasterizer: A Differentiable \n",
    "# Renderer for Image-based 3D Reasoning', ICCV 2019\n",
    "sigma = 1e-4\n",
    "raster_settings_soft = RasterizationSettings(\n",
    "    image_size=512, \n",
    "    blur_radius=np.log(1. / 1e-4 - 1.)*sigma, \n",
    "    faces_per_pixel=50, \n",
    ")\n",
    "\n",
    "# Silhouette renderer \n",
    "renderer_silhouette = MeshRenderer(\n",
    "    rasterizer=MeshRasterizer(\n",
    "        cameras=camera, \n",
    "        raster_settings=raster_settings_soft\n",
    "    ),\n",
    "    shader=SoftSilhouetteShader()\n",
    ")\n",
    "\n",
    "target_cameras = [OpenGLPerspectiveCameras(device=device, R=R[None, i, ...], \n",
    "                                           T=T[None, i, ...]) for i in range(num_views)]"
   ]
  },
  {
   "cell_type": "code",
   "execution_count": 64,
   "metadata": {},
   "outputs": [
    {
     "data": {
      "image/png": "[encoded data removed]",
      "text/plain": [
       "<Figure size 1080x648 with 40 Axes>"
      ]
     },
     "metadata": {
      "needs_background": "light"
     },
     "output_type": "display_data"
    }
   ],
   "source": [
    "# Rasterization settings for silhouette rendering  \n",
    "sigma = 1e-4\n",
    "raster_settings_silhouette = RasterizationSettings(\n",
    "    image_size=16, \n",
    "    blur_radius=np.log(1. / 1e-4 - 1.)*sigma, \n",
    "    faces_per_pixel=50, \n",
    ")\n",
    "\n",
    "# Silhouette renderer \n",
    "renderer_silhouette = MeshRenderer(\n",
    "    rasterizer=MeshRasterizer(\n",
    "        cameras=camera, \n",
    "        raster_settings=raster_settings_silhouette\n",
    "    ),\n",
    "    shader=SoftSilhouetteShader()\n",
    ")\n",
    "\n",
    "# Render silhouette images.  The 3rd channel of the rendering output is \n",
    "# the alpha/silhouette channel\n",
    "silhouette_images = renderer_silhouette(bunnies, cameras=cameras, lights=lights)\n",
    "target_silhouette = [silhouette_images[i, ..., 3] for i in range(num_views)]\n",
    "\n",
    "# Visualize silhouette images\n",
    "image_grid(silhouette_images.cpu().numpy(), rows=4, cols=10, rgb=False)\n",
    "plt.show()"
   ]
  },
  {
   "cell_type": "code",
   "execution_count": 65,
   "metadata": {},
   "outputs": [],
   "source": [
    "deform_verts = torch.full(src_mesh.verts_packed().shape, 0.0, device=device, requires_grad=True)\n",
    "\n",
    "optimizer = torch.optim.SGD([deform_verts], lr=1., momentum=0.)"
   ]
  },
  {
   "cell_type": "code",
   "execution_count": 66,
   "metadata": {
    "scrolled": true
   },
   "outputs": [
    {
     "data": {
      "application/vnd.jupyter.widget-view+json": {
       "model_id": "07d464d9e31540c38314ef1665641ae1",
       "version_major": 2,
       "version_minor": 0
      },
      "text/plain": [
       "HBox(children=(FloatProgress(value=0.0, max=10000.0), HTML(value='')))"
      ]
     },
     "metadata": {},
     "output_type": "display_data"
    },
    {
     "name": "stdout",
     "output_type": "stream",
     "text": [
      "2758\n",
      "\n"
     ]
    }
   ],
   "source": [
    "Niter = 10000\n",
    "num_views_per_iteration = 2\n",
    "\n",
    "loop = tqdm(range(Niter))\n",
    "\n",
    "losses = {\"silhouette\": {\"weight\": 1.0, \"values\": []},\n",
    "          \"edge\": {\"weight\": 1.0, \"values\": []},\n",
    "          \"normal\": {\"weight\": 0.01, \"values\": []},\n",
    "          \"laplacian\": {\"weight\": 1.0, \"values\": []},\n",
    "         }\n",
    "\n",
    "# Losses to smooth / regularize the mesh shape\n",
    "def update_mesh_shape_prior_losses(mesh, loss):\n",
    "    # and (b) the edge length of the predicted mesh\n",
    "    loss[\"edge\"] = mesh_edge_loss(mesh)\n",
    "    \n",
    "    # mesh normal consistency\n",
    "    loss[\"normal\"] = mesh_normal_consistency(mesh)\n",
    "    \n",
    "    # mesh laplacian smoothing\n",
    "    loss[\"laplacian\"] = mesh_laplacian_smoothing(mesh, method=\"uniform\")\n",
    "    \n",
    "\n",
    "for i in loop:\n",
    "    stop = False\n",
    "#    with torch.autograd.detect_anomaly():\n",
    "    optimizer.zero_grad()\n",
    "\n",
    "    # Deform the mesh\n",
    "    #new_src_mesh = src_mesh.offset_verts(torch.sigmoid(deform_verts))\n",
    "    new_src_mesh = src_mesh.offset_verts(deform_verts)\n",
    "\n",
    "    sum_loss = torch.tensor(0.0, device=device)\n",
    "#     sum_loss += mesh_edge_loss(new_src_mesh) * 1.0\n",
    "#     sum_loss += mesh_normal_consistency(new_src_mesh) * 0.01\n",
    "#     sum_loss += mesh_laplacian_smoothing(new_src_mesh, method=\"uniform\") * 1.0\n",
    "    \n",
    "    # Compute the average silhouette loss over two random views, as the average \n",
    "    # squared L2 distance between the predicted silhouette and the target \n",
    "    # silhouette from our dataset\n",
    "    for j in np.random.permutation(num_views).tolist()[:num_views_per_iteration]:\n",
    "        images_predicted = renderer_silhouette(new_src_mesh, cameras=target_cameras[j], lights=lights)\n",
    "        predicted_silhouette = images_predicted[..., 3]\n",
    "        loss_silhouette = ((predicted_silhouette - target_silhouette[j]) ** 2).mean()\n",
    "        if not torch.isnan(loss_silhouette):            \n",
    "            sum_loss += loss_silhouette / num_views_per_iteration\n",
    "        else:\n",
    "            stop = True\n",
    "    \n",
    "    if stop:\n",
    "        print(i)\n",
    "        pytorch3d.io.save_ply(f'./data/deformed{i}.ply', \n",
    "            new_src_mesh.verts_packed(),\n",
    "            faces=new_src_mesh.faces_packed())\n",
    "        break\n",
    "        \n",
    "    loop.set_description(\"total_loss = %.6f\" % sum_loss)\n",
    "    if sum_loss > 0:\n",
    "        sum_loss.backward()\n",
    "        optimizer.step()\n",
    "        #x.data.sub_(lr * x.grad.data)\n",
    "        #x.grad.data.zero_()\n",
    "\n",
    "#     if i % 50  == 0 and sum_loss > 0:\n",
    "#         pytorch3d.io.save_ply(f'./data/deformed_{i}.ply', \n",
    "#             new_src_mesh.verts_packed(),\n",
    "#             faces=new_src_mesh.faces_packed())"
   ]
  },
  {
   "cell_type": "code",
   "execution_count": 61,
   "metadata": {},
   "outputs": [
    {
     "data": {
      "image/png": "[encoded data removed]",
      "text/plain": [
       "<Figure size 1440x720 with 2 Axes>"
      ]
     },
     "metadata": {
      "needs_background": "light"
     },
     "output_type": "display_data"
    }
   ],
   "source": [
    "def visualize_prediction(predicted_mesh, renderer=renderer_silhouette, \n",
    "        target_image=silhouette_images[1], title='', silhouette=False):\n",
    "    inds = 3 if silhouette else range(3)\n",
    "    with torch.no_grad():\n",
    "        predicted_images = renderer(predicted_mesh)\n",
    "    plt.figure(figsize=(20, 10))\n",
    "    plt.subplot(1, 2, 1)\n",
    "    plt.imshow(predicted_images[0, ..., inds].cpu().detach().numpy())\n",
    "\n",
    "    plt.subplot(1, 2, 2)\n",
    "    plt.imshow(target_image.cpu().detach().numpy())\n",
    "    plt.title(title)\n",
    "    plt.axis(\"off\")\n",
    "\n",
    "pytorch3d.io.save_ply('./data/deformed.ply', new_src_mesh.verts_packed(), faces=new_src_mesh.faces_packed())\n",
    "visualize_prediction(new_src_mesh, silhouette=True, \n",
    "                     target_image=target_silhouette[1])"
   ]
  },
  {
   "cell_type": "code",
   "execution_count": null,
   "metadata": {},
   "outputs": [],
   "source": [
    "pytorch3d."
   ]
  }
 ],
 "metadata": {
  "kernelspec": {
   "display_name": "Python [conda env:pytorch3d_06] *",
   "language": "python",
   "name": "conda-env-pytorch3d_06-py"
  },
  "language_info": {
   "codemirror_mode": {
    "name": "ipython",
    "version": 3
   },
   "file_extension": ".py",
   "mimetype": "text/x-python",
   "name": "python",
   "nbconvert_exporter": "python",
   "pygments_lexer": "ipython3",
   "version": "3.8.11"
  }
 },
 "nbformat": 4,
 "nbformat_minor": 4
}
