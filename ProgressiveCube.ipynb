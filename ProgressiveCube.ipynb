{
 "cells": [
  {
   "cell_type": "code",
   "execution_count": 35,
   "metadata": {},
   "outputs": [
    {
     "name": "stdout",
     "output_type": "stream",
     "text": [
      "ParameterDict(\n",
      "    (back): Parameter containing: [torch.FloatTensor of size 1x3x2x2]\n",
      "    (down): Parameter containing: [torch.FloatTensor of size 1x3x2x2]\n",
      "    (front): Parameter containing: [torch.FloatTensor of size 1x3x2x2]\n",
      "    (left): Parameter containing: [torch.FloatTensor of size 1x3x2x2]\n",
      "    (right): Parameter containing: [torch.FloatTensor of size 1x3x2x2]\n",
      "    (top): Parameter containing: [torch.FloatTensor of size 1x3x2x2]\n",
      ")\n",
      "ParameterDict(\n",
      "    (back): Parameter containing: [torch.FloatTensor of size 1x3x4x4]\n",
      "    (down): Parameter containing: [torch.FloatTensor of size 1x3x4x4]\n",
      "    (front): Parameter containing: [torch.FloatTensor of size 1x3x4x4]\n",
      "    (left): Parameter containing: [torch.FloatTensor of size 1x3x4x4]\n",
      "    (right): Parameter containing: [torch.FloatTensor of size 1x3x4x4]\n",
      "    (top): Parameter containing: [torch.FloatTensor of size 1x3x4x4]\n",
      ")\n",
      "ParameterDict(\n",
      "    (back): Parameter containing: [torch.FloatTensor of size 1x3x8x8]\n",
      "    (down): Parameter containing: [torch.FloatTensor of size 1x3x8x8]\n",
      "    (front): Parameter containing: [torch.FloatTensor of size 1x3x8x8]\n",
      "    (left): Parameter containing: [torch.FloatTensor of size 1x3x8x8]\n",
      "    (right): Parameter containing: [torch.FloatTensor of size 1x3x8x8]\n",
      "    (top): Parameter containing: [torch.FloatTensor of size 1x3x8x8]\n",
      ")\n"
     ]
    },
    {
     "data": {
      "text/plain": [
       "Cube(\n",
       "  (params): ModuleList(\n",
       "    (0): ParameterDict(\n",
       "        (back): Parameter containing: [torch.FloatTensor of size 1x3x2x2]\n",
       "        (down): Parameter containing: [torch.FloatTensor of size 1x3x2x2]\n",
       "        (front): Parameter containing: [torch.FloatTensor of size 1x3x2x2]\n",
       "        (left): Parameter containing: [torch.FloatTensor of size 1x3x2x2]\n",
       "        (right): Parameter containing: [torch.FloatTensor of size 1x3x2x2]\n",
       "        (top): Parameter containing: [torch.FloatTensor of size 1x3x2x2]\n",
       "    )\n",
       "    (1): ParameterDict(\n",
       "        (back): Parameter containing: [torch.FloatTensor of size 1x3x4x4]\n",
       "        (down): Parameter containing: [torch.FloatTensor of size 1x3x4x4]\n",
       "        (front): Parameter containing: [torch.FloatTensor of size 1x3x4x4]\n",
       "        (left): Parameter containing: [torch.FloatTensor of size 1x3x4x4]\n",
       "        (right): Parameter containing: [torch.FloatTensor of size 1x3x4x4]\n",
       "        (top): Parameter containing: [torch.FloatTensor of size 1x3x4x4]\n",
       "    )\n",
       "    (2): ParameterDict(\n",
       "        (back): Parameter containing: [torch.FloatTensor of size 1x3x8x8]\n",
       "        (down): Parameter containing: [torch.FloatTensor of size 1x3x8x8]\n",
       "        (front): Parameter containing: [torch.FloatTensor of size 1x3x8x8]\n",
       "        (left): Parameter containing: [torch.FloatTensor of size 1x3x8x8]\n",
       "        (right): Parameter containing: [torch.FloatTensor of size 1x3x8x8]\n",
       "        (top): Parameter containing: [torch.FloatTensor of size 1x3x8x8]\n",
       "    )\n",
       "  )\n",
       ")"
      ]
     },
     "execution_count": 35,
     "metadata": {},
     "output_type": "execute_result"
    }
   ],
   "source": [
    "import torch\n",
    "import torch.nn as nn\n",
    "import torch.nn.functional as F\n",
    "\n",
    "from src.cube import make_cube_mesh\n",
    "from src.operators import get_gaussian\n",
    "\n",
    "def sides_dict(n):\n",
    "    return nn.ParameterDict({\n",
    "        'front': nn.Parameter(torch.zeros((1, 3, n, n))),\n",
    "        'back' : nn.Parameter(torch.zeros((1, 3, n, n))),\n",
    "        'left' : nn.Parameter(torch.zeros((1, 3, n, n))),\n",
    "        'right': nn.Parameter(torch.zeros((1, 3, n, n))),\n",
    "        'top'  : nn.Parameter(torch.zeros((1, 3, n, n))),\n",
    "        'down' : nn.Parameter(torch.zeros((1, 3, n, n))),\n",
    "    })\n",
    "\n",
    "class Cube(nn.Module):\n",
    "    def __init__(self, n, kernel=21, sigma=7, start=-0.5, end=0.5):\n",
    "        super(Cube, self).__init__()\n",
    "        assert math.log2(n).is_integer(), f\"n must be power of 2, n={n}\"\n",
    "        \n",
    "        self.n = n\n",
    "        self.params = nn.ModuleList([sides_dict(2**i) for i in range(1, int(math.log2(n)))])      \n",
    "        self.source = make_cube_mesh(n, start, end)\n",
    "        #self.gaussian = get_gaussian(kernel)\n",
    "        #self.gaussian = GaussianLayer(kernel, sigma=sigma)\n",
    "        clip_value = 1. / n\n",
    "        for d in self.params:\n",
    "            print(d)\n",
    "            for p in d.values():\n",
    "                #p.register_hook(lambda grad: torch.nan_to_num(grad))\n",
    "                p.register_hook(lambda grad: self.gaussian(torch.nan_to_num(grad)))\n",
    "                #p.register_hook(lambda grad: torch.clamp(self.gaussian(grad), -clip_value, clip_value))\n",
    "                #p.register_hook(lambda grad: torch.clamp(grad, -clip_value, clip_value))\n",
    "    \n",
    "    def make_vert(self):\n",
    "        return torch.cat([torch.sigmoid(p)[0].reshape(3, -1).t()\n",
    "                          for p in self.params.values()])           \n",
    "\n",
    "    def forward(self):\n",
    "        deform_verts = self.make_vert()\n",
    "        new_src_mesh = self.source.offset_verts(deform_verts)\n",
    "        return new_src_mesh\n",
    "    \n",
    "    def to(self, device):\n",
    "        module = super(Cube, self).to(device)        \n",
    "        module.source = self.source.to(device)        \n",
    "        return module\n",
    "    \n",
    "    def export(self, f):\n",
    "        mesh = self.forward().detach()\n",
    "        save_obj(f, mesh.verts_packed(), mesh.faces_packed())   \n",
    "\n",
    "cube = Cube(16, kernel=3)\n",
    "cube"
   ]
  },
  {
   "cell_type": "code",
   "execution_count": 37,
   "metadata": {},
   "outputs": [],
   "source": [
    "seq = nn.Sequential(\n",
    "    nn.ReflectionPad2d(10), \n",
    "    nn.Conv2d(3, 3, 21, stride=1, padding=0, bias=None, groups=3)\n",
    ")"
   ]
  },
  {
   "cell_type": "code",
   "execution_count": 38,
   "metadata": {},
   "outputs": [
    {
     "data": {
      "text/plain": [
       "Sequential(\n",
       "  (0): ReflectionPad2d((10, 10, 10, 10))\n",
       "  (1): Conv2d(3, 3, kernel_size=(21, 21), stride=(1, 1), groups=3, bias=False)\n",
       ")"
      ]
     },
     "execution_count": 38,
     "metadata": {},
     "output_type": "execute_result"
    }
   ],
   "source": [
    "seq.requires_grad_(False)\n"
   ]
  },
  {
   "cell_type": "code",
   "execution_count": 27,
   "metadata": {},
   "outputs": [
    {
     "data": {
      "text/plain": [
       "3"
      ]
     },
     "execution_count": 27,
     "metadata": {},
     "output_type": "execute_result"
    }
   ],
   "source": [
    "int(math.log2(8))"
   ]
  },
  {
   "cell_type": "code",
   "execution_count": null,
   "metadata": {},
   "outputs": [],
   "source": []
  }
 ],
 "metadata": {
  "kernelspec": {
   "display_name": "Python [conda env:pytorch3d_06] *",
   "language": "python",
   "name": "conda-env-pytorch3d_06-py"
  },
  "language_info": {
   "codemirror_mode": {
    "name": "ipython",
    "version": 3
   },
   "file_extension": ".py",
   "mimetype": "text/x-python",
   "name": "python",
   "nbconvert_exporter": "python",
   "pygments_lexer": "ipython3",
   "version": "3.8.11"
  }
 },
 "nbformat": 4,
 "nbformat_minor": 4
}
